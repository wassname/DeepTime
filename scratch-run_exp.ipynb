{
 "cells": [
  {
   "cell_type": "markdown",
   "id": "b1e031e3",
   "metadata": {},
   "source": [
    "- [x] try just one predictor\n",
    "    - [ ] multi input, single output\n",
    "- [x] comparem ulti\n",
    "- losses:\n",
    "    - try logp? nah\n",
    "    - mae?\n",
    "- [x] make my own csv with 5m data (maybe 10k rows)\n",
    "- [ ] backtest?"
   ]
  },
  {
   "cell_type": "code",
   "execution_count": 1,
   "id": "7f9e3d73",
   "metadata": {
    "ExecuteTime": {
     "end_time": "2022-11-22T08:53:36.551710Z",
     "start_time": "2022-11-22T08:53:36.541855Z"
    }
   },
   "outputs": [],
   "source": [
    "import warnings\n",
    "warnings.simplefilter(\"ignore\")\n",
    "\n",
    "# autoreload import your package\n",
    "%load_ext autoreload\n",
    "%autoreload 2"
   ]
  },
  {
   "cell_type": "code",
   "execution_count": 2,
   "id": "4e09086b",
   "metadata": {
    "ExecuteTime": {
     "end_time": "2022-11-22T08:53:37.734688Z",
     "start_time": "2022-11-22T08:53:36.553157Z"
    },
    "lines_to_next_cell": 0
   },
   "outputs": [],
   "source": [
    "import os\n",
    "from os.path import join\n",
    "import math\n",
    "import logging\n",
    "from typing import Callable, Optional, Union, Dict, Tuple\n",
    "\n",
    "from matplotlib import pyplot as plt\n",
    "from pathlib import Path\n",
    "import matplotlib.colors as mcolors\n",
    "\n",
    "import gin\n",
    "from fire import Fire\n",
    "import numpy as np\n",
    "import torch\n",
    "from torch.utils.data import DataLoader\n",
    "from torch import optim\n",
    "from torch import nn\n",
    "\n",
    "from experiments.base import Experiment\n",
    "from data.datasets import ForecastDataset\n",
    "from models import get_model\n",
    "from utils.checkpoint import Checkpoint\n",
    "from utils.ops import default_device, to_tensor\n",
    "from utils.losses import get_loss_fn\n",
    "from utils.metrics import calc_metrics\n",
    "\n",
    "from experiments.forecast import get_data\n",
    "gin.enter_interactive_mode()"
   ]
  },
  {
   "cell_type": "code",
   "execution_count": null,
   "id": "66d7f095",
   "metadata": {
    "ExecuteTime": {
     "end_time": "2022-11-19T23:55:34.939075Z",
     "start_time": "2022-11-19T23:55:34.820277Z"
    }
   },
   "outputs": [],
   "source": []
  },
  {
   "cell_type": "markdown",
   "id": "d4df5270",
   "metadata": {},
   "source": [
    "# auto"
   ]
  },
  {
   "cell_type": "code",
   "execution_count": 11,
   "id": "04499bef",
   "metadata": {
    "ExecuteTime": {
     "end_time": "2022-11-22T08:55:17.435474Z",
     "start_time": "2022-11-22T08:55:17.366558Z"
    }
   },
   "outputs": [],
   "source": [
    "\n",
    "\n",
    "def plot(model_name=\"deeptime\", save_path=Path(\"storage/experiments/Exchange/96M/repeat=0\"), i=200, title=None, plot=True):\n",
    "\n",
    "    gin.clear_config()\n",
    "    gin.parse_config(open(save_path/\"config.gin\"))\n",
    "\n",
    "    train_set, train_loader = get_data(flag='train', batch_size=2)\n",
    "\n",
    "    model = get_model(model_name,\n",
    "                        dim_size=train_set.data_x.shape[1],\n",
    "                        datetime_feats=train_set.timestamps.shape[-1]).to(default_device())\n",
    "    model.load_state_dict(torch.load(save_path/'model.pth'))\n",
    "    model = model.eval()\n",
    "\n",
    "\n",
    "    b = train_set[i]\n",
    "    b = [bb[None, :] for bb in b]\n",
    "    b2 = list(map(to_tensor, b))\n",
    "    context_past_x, context_y, query_past_x, query_y, context_time, query_time = b2\n",
    "    with torch.no_grad():\n",
    "        forecast = model(*b2)\n",
    "\n",
    "    if title is None:\n",
    "        title = str(save_path).split('/')[-3:]\n",
    "        title = \"-\".join(title)\n",
    "    \n",
    "    colors = list(mcolors.BASE_COLORS.keys())\n",
    "    l = x.shape[1]\n",
    "    forecast2 = forecast[0].detach().cpu().numpy()\n",
    "    x2 = x[0].cpu()\n",
    "    y2 = y[0].cpu()\n",
    "    l2 = y.shape[1]\n",
    "    i_past = list(range(l))\n",
    "    i_future = list(range(l, l+l2))\n",
    "    \n",
    "    if plot:\n",
    "        plt.title(title)\n",
    "        for i in range(x.shape[-1]):\n",
    "            plt.plot(i_past, x2[:, i], c=colors[i])\n",
    "        for i in range(x.shape[-1]):\n",
    "            plt.plot(i_future, y2[:, i], c=colors[i])\n",
    "        for i in range(x.shape[-1]):\n",
    "            plt.plot(i_future, forecast2[:, i], c=colors[i], linestyle='--')\n",
    "    return x2, y2, forecast2, i_past, i_future\n"
   ]
  },
  {
   "cell_type": "code",
   "execution_count": 22,
   "id": "768530be",
   "metadata": {
    "ExecuteTime": {
     "end_time": "2022-11-22T08:57:21.879818Z",
     "start_time": "2022-11-22T08:57:21.861767Z"
    }
   },
   "outputs": [],
   "source": [
    "\n",
    "\n",
    "def plot_multi(save_paths=[Path(\"storage/experiments/Exchange/96M/repeat=0\")], i=200, title=None, plot=True):\n",
    "    for j in range(len(save_paths)):\n",
    "        save_path = save_paths[j]\n",
    "\n",
    "        gin.clear_config()\n",
    "        gin.parse_config(open(save_path/\"config.gin\"))\n",
    "        model_name = gin.query_parameter(\"instance.model_type\")\n",
    "\n",
    "        train_set, train_loader = get_data(flag='test', batch_size=3)\n",
    "\n",
    "        model = get_model(model_name,\n",
    "                            dim_size=train_set.data_x.shape[1],\n",
    "                            datetime_feats=train_set.timestamps.shape[-1]).to(default_device())\n",
    "        model.load_state_dict(torch.load(save_path/'model.pth'))\n",
    "        model = model.eval()\n",
    "\n",
    "\n",
    "        b = train_set[i]\n",
    "        b = [bb[None, :] for bb in b]\n",
    "        b2 = list(map(to_tensor, b))\n",
    "        \n",
    "#         b = next(iter(train_loader))\n",
    "#         print([s.shape for s in b])\n",
    "        \n",
    "        context_past_x, context_y, query_past_x, query_y, context_time, query_time = b2\n",
    "        with torch.no_grad():\n",
    "            forecast = model(*b2)\n",
    "       \n",
    "        colors = list(mcolors.BASE_COLORS.keys())\n",
    "        l = context_time.shape[1]\n",
    "        forecast2 = forecast[0].detach().cpu().numpy()\n",
    "        x2 = context_y[0].cpu()\n",
    "        y2 = query_y[0].cpu()\n",
    "        l2 = query_time.shape[1]\n",
    "        i_past = list(range(l))\n",
    "        i_future = list(range(l, l+l2))\n",
    "\n",
    "        if plot:\n",
    "            plt.plot(i_past, x2[:, 0], c=colors[0], label=f\"past\")\n",
    "            plt.plot(i_future, y2[:, 0], c=colors[0], label=\"future true\", alpha=0.3)\n",
    "            \n",
    "            mtitle = str(save_path).split('/')[-2:-1]\n",
    "            mtitle = \"-\".join(mtitle)\n",
    "            plt.plot(i_future, forecast2[:, 0], c=colors[j], linestyle='--', label=f\"{mtitle}\")\n",
    "    plt.legend()\n",
    "    plt.title(title)\n",
    "    return x2, y2, forecast2, i_past, i_future\n"
   ]
  },
  {
   "cell_type": "code",
   "execution_count": 19,
   "id": "739ee5e3",
   "metadata": {
    "ExecuteTime": {
     "end_time": "2022-11-22T08:56:04.650373Z",
     "start_time": "2022-11-22T08:56:04.631636Z"
    }
   },
   "outputs": [
    {
     "name": "stdout",
     "output_type": "stream",
     "text": [
      "[Path('storage/experiments/Stocks/96M/repeat=0/_SUCCESS'), Path('storage/experiments/Stocks/96M2S/repeat=0/_SUCCESS'), Path('storage/experiments/Stocks/96S/repeat=0/_SUCCESS'), Path('storage/experiments/Stocks/96Splus/repeat=0/_SUCCESS'), Path('storage/experiments/Stocks/96Splusshort/repeat=0/_SUCCESS'), Path('storage/experiments/Stocks/96Sshort/repeat=0/_SUCCESS')]\n"
     ]
    }
   ],
   "source": [
    "# list the models we have run...\n",
    "m=sorted(Path(\"storage/experiments/Stocks\").glob(\"**/_SUCCESS\"))\n",
    "print(m)"
   ]
  },
  {
   "cell_type": "code",
   "execution_count": 14,
   "id": "346138b5",
   "metadata": {
    "ExecuteTime": {
     "end_time": "2022-11-22T08:55:45.864858Z",
     "start_time": "2022-11-22T08:55:45.851119Z"
    }
   },
   "outputs": [],
   "source": [
    "save_path = Path('storage/experiments/Stocks/96M2S/repeat=0')"
   ]
  },
  {
   "cell_type": "code",
   "execution_count": 15,
   "id": "4350db4f",
   "metadata": {
    "ExecuteTime": {
     "end_time": "2022-11-22T08:55:46.474714Z",
     "start_time": "2022-11-22T08:55:46.454494Z"
    }
   },
   "outputs": [
    {
     "data": {
      "text/plain": [
       "'deeptime3'"
      ]
     },
     "execution_count": 15,
     "metadata": {},
     "output_type": "execute_result"
    }
   ],
   "source": [
    "gin.clear_config()\n",
    "config_path = save_path/\"config.gin\"\n",
    "gin.parse_config(open(config_path))\n",
    "model_name = gin.query_parameter(\"instance.model_type\")\n",
    "model_name"
   ]
  },
  {
   "cell_type": "code",
   "execution_count": 16,
   "id": "f2b73437",
   "metadata": {
    "ExecuteTime": {
     "end_time": "2022-11-22T08:55:47.115689Z",
     "start_time": "2022-11-22T08:55:47.090582Z"
    }
   },
   "outputs": [
    {
     "data": {
      "text/plain": [
       "<experiments.forecast.ForecastExperiment at 0x7fd6500a0070>"
      ]
     },
     "execution_count": 16,
     "metadata": {},
     "output_type": "execute_result"
    }
   ],
   "source": [
    "from experiments.forecast import ForecastExperiment\n",
    "exp = ForecastExperiment(config_path=config_path)\n",
    "exp"
   ]
  },
  {
   "cell_type": "code",
   "execution_count": 20,
   "id": "6e8d5627",
   "metadata": {
    "ExecuteTime": {
     "end_time": "2022-11-22T08:56:09.770735Z",
     "start_time": "2022-11-22T08:56:09.752888Z"
    }
   },
   "outputs": [],
   "source": [
    "# exp.run()"
   ]
  },
  {
   "cell_type": "code",
   "execution_count": 29,
   "id": "5623579b",
   "metadata": {
    "ExecuteTime": {
     "end_time": "2022-11-22T08:58:27.954931Z",
     "start_time": "2022-11-22T08:58:27.717272Z"
    }
   },
   "outputs": [
    {
     "name": "stdout",
     "output_type": "stream",
     "text": [
      "receptive field [114 342 362]=[38 18  2]*[[  1   1   1]\n",
      " [  1   6  36]\n",
      " [  1  12 144]]\n",
      "receptive field [690 378 242]=[138  18   2]*[[ 1  1  1]\n",
      " [ 1  2  4]\n",
      " [ 1  4 16]\n",
      " [ 1  6 36]\n",
      " [ 1  8 64]]\n"
     ]
    },
    {
     "data": {
      "text/plain": [
       "1"
      ]
     },
     "execution_count": 29,
     "metadata": {},
     "output_type": "execute_result"
    },
    {
     "data": {
      "image/png": "[encoded data removed]",
      "text/plain": [
       "<Figure size 640x480 with 1 Axes>"
      ]
     },
     "metadata": {},
     "output_type": "display_data"
    }
   ],
   "source": [
    "plot_multi(\n",
    "    save_paths=[\n",
    "        save_path,\n",
    "#         Path('storage/experiments/Stocks/96M/repeat=0'),\n",
    "               ],\n",
    "    i=100,\n",
    ")\n",
    "1"
   ]
  },
  {
   "cell_type": "code",
   "execution_count": null,
   "id": "c95b4880",
   "metadata": {},
   "outputs": [],
   "source": []
  }
 ],
 "metadata": {
  "jupytext": {
   "cell_metadata_filter": "-all",
   "main_language": "python",
   "notebook_metadata_filter": "-all"
  },
  "kernelspec": {
   "display_name": "deeptime",
   "language": "python",
   "name": "deeptime"
  },
  "language_info": {
   "codemirror_mode": {
    "name": "ipython",
    "version": 3
   },
   "file_extension": ".py",
   "mimetype": "text/x-python",
   "name": "python",
   "nbconvert_exporter": "python",
   "pygments_lexer": "ipython3",
   "version": "3.8.13"
  },
  "toc": {
   "base_numbering": 1,
   "nav_menu": {},
   "number_sections": true,
   "sideBar": true,
   "skip_h1_title": false,
   "title_cell": "Table of Contents",
   "title_sidebar": "Contents",
   "toc_cell": false,
   "toc_position": {},
   "toc_section_display": true,
   "toc_window_display": false
  }
 },
 "nbformat": 4,
 "nbformat_minor": 5
}
