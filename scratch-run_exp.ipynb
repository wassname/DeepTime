{
 "cells": [
  {
   "cell_type": "markdown",
   "id": "b1e031e3",
   "metadata": {},
   "source": [
    "- [x] try just one predictor\n",
    "    - [ ] multi input, single output\n",
    "- [x] comparem ulti\n",
    "- losses:\n",
    "    - try logp? nah\n",
    "    - mae?\n",
    "- [x] make my own csv with 5m data (maybe 10k rows)\n",
    "- [ ] backtest?"
   ]
  },
  {
   "cell_type": "code",
   "execution_count": 1,
   "id": "7f9e3d73",
   "metadata": {
    "ExecuteTime": {
     "end_time": "2022-11-22T13:17:16.252902Z",
     "start_time": "2022-11-22T13:17:16.244846Z"
    }
   },
   "outputs": [],
   "source": [
    "import warnings\n",
    "warnings.simplefilter(\"ignore\")\n",
    "\n",
    "# autoreload import your package\n",
    "%load_ext autoreload\n",
    "%autoreload 2"
   ]
  },
  {
   "cell_type": "code",
   "execution_count": 2,
   "id": "4e09086b",
   "metadata": {
    "ExecuteTime": {
     "end_time": "2022-11-22T13:17:17.421370Z",
     "start_time": "2022-11-22T13:17:16.254109Z"
    },
    "lines_to_next_cell": 0
   },
   "outputs": [],
   "source": [
    "import os\n",
    "from os.path import join\n",
    "import math\n",
    "import logging\n",
    "from typing import Callable, Optional, Union, Dict, Tuple\n",
    "\n",
    "from matplotlib import pyplot as plt\n",
    "from pathlib import Path\n",
    "import matplotlib.colors as mcolors\n",
    "\n",
    "import gin\n",
    "from fire import Fire\n",
    "import numpy as np\n",
    "import torch\n",
    "from torch.utils.data import DataLoader\n",
    "from torch import optim\n",
    "from torch import nn\n",
    "\n",
    "from experiments.base import Experiment\n",
    "from data.datasets import ForecastDataset\n",
    "from models import get_model\n",
    "from utils.checkpoint import Checkpoint\n",
    "from utils.ops import default_device, to_tensor\n",
    "from utils.losses import get_loss_fn\n",
    "from utils.metrics import calc_metrics\n",
    "\n",
    "from experiments.forecast import get_data\n",
    "gin.enter_interactive_mode()"
   ]
  },
  {
   "cell_type": "code",
   "execution_count": null,
   "id": "66d7f095",
   "metadata": {
    "ExecuteTime": {
     "end_time": "2022-11-19T23:55:34.939075Z",
     "start_time": "2022-11-19T23:55:34.820277Z"
    }
   },
   "outputs": [],
   "source": []
  },
  {
   "cell_type": "markdown",
   "id": "d4df5270",
   "metadata": {},
   "source": [
    "# auto"
   ]
  },
  {
   "cell_type": "code",
   "execution_count": 19,
   "id": "04499bef",
   "metadata": {
    "ExecuteTime": {
     "end_time": "2022-11-22T13:20:49.179263Z",
     "start_time": "2022-11-22T13:20:49.094704Z"
    }
   },
   "outputs": [
    {
     "data": {
      "text/plain": [
       "<data.datasets.ForecastDataset at 0x7fe2a3a58b50>"
      ]
     },
     "execution_count": 19,
     "metadata": {},
     "output_type": "execute_result"
    }
   ],
   "source": [
    "\n",
    "\n",
    "def plot(model_name=\"deeptime\", save_path=Path(\"storage/experiments/Exchange/96M/repeat=0\"), i=200, title=None, plot=True):\n",
    "\n",
    "    gin.clear_config()\n",
    "    gin.parse_config(open(save_path/\"config.gin\"))\n",
    "\n",
    "    train_set, train_loader = get_data(flag='train', batch_size=2)\n",
    "\n",
    "    model = get_model(model_name,\n",
    "                        dim_size=train_set.data_x.shape[1],\n",
    "                        datetime_feats=train_set.timestamps.shape[-1]).to(default_device())\n",
    "    model.load_state_dict(torch.load(save_path/'model.pth'))\n",
    "    model = model.eval()\n",
    "\n",
    "\n",
    "    b = train_set[i]\n",
    "    b = [bb[None, :] for bb in b]\n",
    "    b2 = list(map(to_tensor, b))\n",
    "    context_past_x, context_y, query_past_x, query_y, context_time, query_time = b2\n",
    "    with torch.no_grad():\n",
    "        forecast = model(*b2)\n",
    "\n",
    "    if title is None:\n",
    "        title = str(save_path).split('/')[-3:]\n",
    "        title = \"-\".join(title)\n",
    "    \n",
    "    colors = list(mcolors.BASE_COLORS.keys())\n",
    "    l = x.shape[1]\n",
    "    forecast2 = forecast[0].detach().cpu().numpy()\n",
    "    x2 = x[0].cpu()\n",
    "    y2 = y[0].cpu()\n",
    "    l2 = y.shape[1]\n",
    "    i_past = list(range(l))\n",
    "    i_future = list(range(l, l+l2))\n",
    "    \n",
    "    if plot:\n",
    "        plt.title(title)\n",
    "        for i in range(x.shape[-1]):\n",
    "            plt.plot(i_past, x2[:, i], c=colors[i])\n",
    "        for i in range(x.shape[-1]):\n",
    "            plt.plot(i_future, y2[:, i], c=colors[i])\n",
    "        for i in range(x.shape[-1]):\n",
    "            plt.plot(i_future, forecast2[:, i], c=colors[i], linestyle='--')\n",
    "    return x2, y2, forecast2, i_past, i_future\n"
   ]
  },
  {
   "cell_type": "code",
   "execution_count": null,
   "id": "06a196e5",
   "metadata": {
    "ExecuteTime": {
     "end_time": "2022-11-22T13:28:35.849491Z",
     "start_time": "2022-11-22T13:28:35.766453Z"
    },
    "scrolled": true
   },
   "outputs": [],
   "source": []
  },
  {
   "cell_type": "code",
   "execution_count": null,
   "id": "442614f6",
   "metadata": {
    "ExecuteTime": {
     "end_time": "2022-11-22T13:29:32.186666Z",
     "start_time": "2022-11-22T13:29:32.108212Z"
    }
   },
   "outputs": [],
   "source": []
  },
  {
   "cell_type": "code",
   "execution_count": 135,
   "id": "768530be",
   "metadata": {
    "ExecuteTime": {
     "end_time": "2022-11-22T13:40:23.550516Z",
     "start_time": "2022-11-22T13:40:23.526514Z"
    }
   },
   "outputs": [],
   "source": [
    "\n",
    "\n",
    "def plot_multi(save_paths=[Path(\"storage/experiments/Exchange/96M/repeat=0\")], i=200, title=None, plot=True):\n",
    "    assert len(save_paths)>0\n",
    "    for j in range(len(save_paths)):\n",
    "        save_path = save_paths[j]\n",
    "\n",
    "        gin.clear_config()\n",
    "        gin.parse_config(open(save_path/\"config.gin\"))\n",
    "        model_name = gin.query_parameter(\"instance.model_type\")\n",
    "\n",
    "        train_set, train_loader = get_data(flag='test', batch_size=3)\n",
    "\n",
    "        model = get_model(model_name,\n",
    "                            dim_size=train_set.data_x.shape[1],\n",
    "                            datetime_feats=train_set.timestamps.shape[-1]).to(default_device())\n",
    "        model.load_state_dict(torch.load(save_path/'model.pth'))\n",
    "        model = model.eval()\n",
    "\n",
    "\n",
    "        b = train_set[i]\n",
    "        b = [bb[None, :] for bb in b]\n",
    "        b2 = list(map(to_tensor, b))\n",
    "        \n",
    "#         b = next(iter(train_loader))\n",
    "#         print([s.shape for s in b])\n",
    "        \n",
    "        context_past_x, context_y, query_past_x, query_y, context_time, query_time = b2\n",
    "        with torch.no_grad():\n",
    "            forecast = model(*b2)\n",
    "       \n",
    "        colors = list(mcolors.BASE_COLORS.keys())\n",
    "        l = context_time.shape[1]\n",
    "        forecast2 = forecast[0].detach().cpu().numpy()\n",
    "        x2 = context_y[0].cpu()\n",
    "        y2 = query_y[0].cpu()\n",
    "        l2 = query_time.shape[1]\n",
    "        i_past = list(range(l))\n",
    "        i_future = list(range(l, l+l2))\n",
    "\n",
    "        if plot:\n",
    "            \n",
    "            mtitle = str(save_path).split('/')[-2:]\n",
    "        \n",
    "            tags = mtitle[-1]\n",
    "            tags = [x.split('=')[-1] for x in tags.split(',')]\n",
    "            \n",
    "            mtitle[-1] = ' '.join(tags)\n",
    "            mtitle = \"-\".join(mtitle)\n",
    "            plt.plot(i_future, forecast2[:, 0], c=colors[j], linestyle='--', label=f\"{mtitle}\")\n",
    "            \n",
    "    if plot:\n",
    "        plt.plot(i_past, x2[:, 0], c=colors[0], label=f\"past\")\n",
    "        plt.plot(i_future, y2[:, 0], c=colors[0], label=\"future true\", alpha=0.3)\n",
    "    plt.legend()\n",
    "    plt.title(title)\n",
    "    return x2, y2, forecast2, i_past, i_future\n"
   ]
  },
  {
   "cell_type": "code",
   "execution_count": null,
   "id": "85eb0a18",
   "metadata": {
    "ExecuteTime": {
     "end_time": "2022-11-22T13:38:15.786656Z",
     "start_time": "2022-11-22T13:38:15.303577Z"
    }
   },
   "outputs": [],
   "source": []
  },
  {
   "cell_type": "markdown",
   "id": "2c7f4971",
   "metadata": {},
   "source": [
    "# run exp"
   ]
  },
  {
   "cell_type": "code",
   "execution_count": 91,
   "id": "6e876b82",
   "metadata": {
    "ExecuteTime": {
     "end_time": "2022-11-22T13:32:31.609545Z",
     "start_time": "2022-11-22T13:32:31.593738Z"
    }
   },
   "outputs": [],
   "source": [
    "save_path = Path('storage/experiments/Stocks/96M2S/repeat=0')"
   ]
  },
  {
   "cell_type": "code",
   "execution_count": 92,
   "id": "4c40cef9",
   "metadata": {
    "ExecuteTime": {
     "end_time": "2022-11-22T13:32:31.880691Z",
     "start_time": "2022-11-22T13:32:31.848245Z"
    }
   },
   "outputs": [
    {
     "ename": "FileNotFoundError",
     "evalue": "[Errno 2] No such file or directory: 'storage/experiments/Stocks/96M2S/repeat=0/config.gin'",
     "output_type": "error",
     "traceback": [
      "\u001b[0;31m---------------------------------------------------------------------------\u001b[0m",
      "\u001b[0;31mFileNotFoundError\u001b[0m                         Traceback (most recent call last)",
      "Cell \u001b[0;32mIn [92], line 3\u001b[0m\n\u001b[1;32m      1\u001b[0m gin\u001b[38;5;241m.\u001b[39mclear_config()\n\u001b[1;32m      2\u001b[0m config_path \u001b[38;5;241m=\u001b[39m save_path\u001b[38;5;241m/\u001b[39m\u001b[38;5;124m\"\u001b[39m\u001b[38;5;124mconfig.gin\u001b[39m\u001b[38;5;124m\"\u001b[39m\n\u001b[0;32m----> 3\u001b[0m gin\u001b[38;5;241m.\u001b[39mparse_config(\u001b[38;5;28;43mopen\u001b[39;49m\u001b[43m(\u001b[49m\u001b[43mconfig_path\u001b[49m\u001b[43m)\u001b[49m)\n\u001b[1;32m      4\u001b[0m model_name \u001b[38;5;241m=\u001b[39m gin\u001b[38;5;241m.\u001b[39mquery_parameter(\u001b[38;5;124m\"\u001b[39m\u001b[38;5;124minstance.model_type\u001b[39m\u001b[38;5;124m\"\u001b[39m)\n\u001b[1;32m      5\u001b[0m model_name\n",
      "File \u001b[0;32m~/miniforge3/envs/deeptime/lib/python3.8/site-packages/IPython/core/interactiveshell.py:282\u001b[0m, in \u001b[0;36m_modified_open\u001b[0;34m(file, *args, **kwargs)\u001b[0m\n\u001b[1;32m    275\u001b[0m \u001b[38;5;28;01mif\u001b[39;00m file \u001b[38;5;129;01min\u001b[39;00m {\u001b[38;5;241m0\u001b[39m, \u001b[38;5;241m1\u001b[39m, \u001b[38;5;241m2\u001b[39m}:\n\u001b[1;32m    276\u001b[0m     \u001b[38;5;28;01mraise\u001b[39;00m \u001b[38;5;167;01mValueError\u001b[39;00m(\n\u001b[1;32m    277\u001b[0m         \u001b[38;5;124mf\u001b[39m\u001b[38;5;124m\"\u001b[39m\u001b[38;5;124mIPython won\u001b[39m\u001b[38;5;124m'\u001b[39m\u001b[38;5;124mt let you open fd=\u001b[39m\u001b[38;5;132;01m{\u001b[39;00mfile\u001b[38;5;132;01m}\u001b[39;00m\u001b[38;5;124m by default \u001b[39m\u001b[38;5;124m\"\u001b[39m\n\u001b[1;32m    278\u001b[0m         \u001b[38;5;124m\"\u001b[39m\u001b[38;5;124mas it is likely to crash IPython. If you know what you are doing, \u001b[39m\u001b[38;5;124m\"\u001b[39m\n\u001b[1;32m    279\u001b[0m         \u001b[38;5;124m\"\u001b[39m\u001b[38;5;124myou can use builtins\u001b[39m\u001b[38;5;124m'\u001b[39m\u001b[38;5;124m open.\u001b[39m\u001b[38;5;124m\"\u001b[39m\n\u001b[1;32m    280\u001b[0m     )\n\u001b[0;32m--> 282\u001b[0m \u001b[38;5;28;01mreturn\u001b[39;00m \u001b[43mio_open\u001b[49m\u001b[43m(\u001b[49m\u001b[43mfile\u001b[49m\u001b[43m,\u001b[49m\u001b[43m \u001b[49m\u001b[38;5;241;43m*\u001b[39;49m\u001b[43margs\u001b[49m\u001b[43m,\u001b[49m\u001b[43m \u001b[49m\u001b[38;5;241;43m*\u001b[39;49m\u001b[38;5;241;43m*\u001b[39;49m\u001b[43mkwargs\u001b[49m\u001b[43m)\u001b[49m\n",
      "\u001b[0;31mFileNotFoundError\u001b[0m: [Errno 2] No such file or directory: 'storage/experiments/Stocks/96M2S/repeat=0/config.gin'"
     ]
    }
   ],
   "source": [
    "gin.clear_config()\n",
    "config_path = save_path/\"config.gin\"\n",
    "gin.parse_config(open(config_path))\n",
    "model_name = gin.query_parameter(\"instance.model_type\")\n",
    "model_name"
   ]
  },
  {
   "cell_type": "code",
   "execution_count": 93,
   "id": "fb3e6e3f",
   "metadata": {
    "ExecuteTime": {
     "end_time": "2022-11-22T13:32:32.188870Z",
     "start_time": "2022-11-22T13:32:32.152703Z"
    }
   },
   "outputs": [
    {
     "name": "stderr",
     "output_type": "stream",
     "text": [
      "ERROR:root:Path not found: storage/experiments/Stocks/96M2S/repeat=0/config.gin\n"
     ]
    },
    {
     "ename": "OSError",
     "evalue": "Unable to open file: storage/experiments/Stocks/96M2S/repeat=0/config.gin. Searched config paths: [''].",
     "output_type": "error",
     "traceback": [
      "\u001b[0;31m---------------------------------------------------------------------------\u001b[0m",
      "\u001b[0;31mOSError\u001b[0m                                   Traceback (most recent call last)",
      "Cell \u001b[0;32mIn [93], line 2\u001b[0m\n\u001b[1;32m      1\u001b[0m \u001b[38;5;28;01mfrom\u001b[39;00m \u001b[38;5;21;01mexperiments\u001b[39;00m\u001b[38;5;21;01m.\u001b[39;00m\u001b[38;5;21;01mforecast\u001b[39;00m \u001b[38;5;28;01mimport\u001b[39;00m ForecastExperiment\n\u001b[0;32m----> 2\u001b[0m exp \u001b[38;5;241m=\u001b[39m \u001b[43mForecastExperiment\u001b[49m\u001b[43m(\u001b[49m\u001b[43mconfig_path\u001b[49m\u001b[38;5;241;43m=\u001b[39;49m\u001b[43mconfig_path\u001b[49m\u001b[43m)\u001b[49m\n\u001b[1;32m      3\u001b[0m exp\n",
      "File \u001b[0;32m/media/wassname/SGIronWolf/projects5/investing/DeepTime/experiments/base.py:24\u001b[0m, in \u001b[0;36mExperiment.__init__\u001b[0;34m(self, config_path)\u001b[0m\n\u001b[1;32m     22\u001b[0m \u001b[38;5;28mself\u001b[39m\u001b[38;5;241m.\u001b[39mconfig_path \u001b[38;5;241m=\u001b[39m config_path\n\u001b[1;32m     23\u001b[0m \u001b[38;5;28mself\u001b[39m\u001b[38;5;241m.\u001b[39mroot \u001b[38;5;241m=\u001b[39m Path(config_path)\u001b[38;5;241m.\u001b[39mparent\n\u001b[0;32m---> 24\u001b[0m \u001b[43mgin\u001b[49m\u001b[38;5;241;43m.\u001b[39;49m\u001b[43mparse_config_file\u001b[49m\u001b[43m(\u001b[49m\u001b[38;5;28;43mself\u001b[39;49m\u001b[38;5;241;43m.\u001b[39;49m\u001b[43mconfig_path\u001b[49m\u001b[43m)\u001b[49m\n",
      "File \u001b[0;32m~/miniforge3/envs/deeptime/lib/python3.8/site-packages/gin/config.py:2457\u001b[0m, in \u001b[0;36mparse_config_file\u001b[0;34m(config_file, skip_unknown, print_includes_and_imports)\u001b[0m\n\u001b[1;32m   2455\u001b[0m         \u001b[38;5;28;01mreturn\u001b[39;00m results\n\u001b[1;32m   2456\u001b[0m err_str \u001b[38;5;241m=\u001b[39m \u001b[38;5;124m'\u001b[39m\u001b[38;5;124mUnable to open file: \u001b[39m\u001b[38;5;132;01m{}\u001b[39;00m\u001b[38;5;124m. Searched config paths: \u001b[39m\u001b[38;5;132;01m{}\u001b[39;00m\u001b[38;5;124m.\u001b[39m\u001b[38;5;124m'\u001b[39m\n\u001b[0;32m-> 2457\u001b[0m \u001b[38;5;28;01mraise\u001b[39;00m \u001b[38;5;167;01mIOError\u001b[39;00m(err_str\u001b[38;5;241m.\u001b[39mformat(config_file, prefixes))\n",
      "\u001b[0;31mOSError\u001b[0m: Unable to open file: storage/experiments/Stocks/96M2S/repeat=0/config.gin. Searched config paths: ['']."
     ]
    }
   ],
   "source": [
    "from experiments.forecast import ForecastExperiment\n",
    "exp = ForecastExperiment(config_path=config_path)\n",
    "exp"
   ]
  },
  {
   "cell_type": "code",
   "execution_count": 94,
   "id": "2b97837c",
   "metadata": {
    "ExecuteTime": {
     "end_time": "2022-11-22T13:32:32.294346Z",
     "start_time": "2022-11-22T13:32:32.275437Z"
    }
   },
   "outputs": [],
   "source": [
    "# exp.run()"
   ]
  },
  {
   "cell_type": "markdown",
   "id": "564a891e",
   "metadata": {},
   "source": [
    "# view all"
   ]
  },
  {
   "cell_type": "code",
   "execution_count": 151,
   "id": "739ee5e3",
   "metadata": {
    "ExecuteTime": {
     "end_time": "2022-11-22T13:48:14.546039Z",
     "start_time": "2022-11-22T13:48:13.703677Z"
    }
   },
   "outputs": [
    {
     "name": "stdout",
     "output_type": "stream",
     "text": [
      "[Path('storage/experiments/Stocks/96M2S/base_learner=None,inr=INR,encoder=inception,repeat=0/_SUCCESS'), Path('storage/experiments/Stocks/96M2S/base_learner=None,inr=INRPlus2,encoder=inception,repeat=0/_SUCCESS'), Path('storage/experiments/Stocks/96M2S/base_learner=Ridge,inr=INR,encoder=inception,repeat=0/_SUCCESS')]\n"
     ]
    }
   ],
   "source": [
    "# list the models we have run...\n",
    "m=sorted(Path(\"storage/experiments/Stocks\").glob(\"**/_SUCCESS\"))\n",
    "print(m)"
   ]
  },
  {
   "cell_type": "code",
   "execution_count": 152,
   "id": "95be3adb",
   "metadata": {
    "ExecuteTime": {
     "end_time": "2022-11-22T13:48:15.238855Z",
     "start_time": "2022-11-22T13:48:15.223681Z"
    }
   },
   "outputs": [],
   "source": [
    "# m = [\n",
    "# #     Path('storage/experiments/Stocks/96M/repeat=0/_SUCCESS'),\n",
    "#     Path(\n",
    "#         'storage/experiments/Stocks/96M2S/base_learner=None,inr=INRPlus2,encoder=inception,repeat=0/_SUCCESS'\n",
    "#     ),\n",
    "#     Path(\n",
    "#         'storage/experiments/Stocks/96M2S/base_learner=Ridge,inr=INR,encoder=inception,repeat=0/_SUCCESS'\n",
    "#     ),\n",
    "#     Path(\n",
    "#         'storage/experiments/Stocks/96M2S/base_learner=Ridge,inr=INRPlus2,encoder=inception,repeat=0/_SUCCESS'\n",
    "#     ),\n",
    "#     Path(\n",
    "#         'storage/experiments/Stocks/96M2S/base_learner=Transformer,inr=INR,encoder=inception,repeat=0/_SUCCESS'\n",
    "#     ),\n",
    "#     Path(\n",
    "#         'storage/experiments/Stocks/96M2S/base_learner=Transformer,inr=INRPlus2,encoder=inception,repeat=0/_SUCCESS'\n",
    "#     ),\n",
    "# #     Path('storage/experiments/Stocks/96S/repeat=0/_SUCCESS'),\n",
    "# #     Path('storage/experiments/Stocks/96Splus/repeat=0/_SUCCESS'),\n",
    "# #     Path('storage/experiments/Stocks/96Splusshort/repeat=0/_SUCCESS'),\n",
    "# #     Path('storage/experiments/Stocks/96Sshort/repeat=0/_SUCCESS')\n",
    "# ]"
   ]
  },
  {
   "cell_type": "code",
   "execution_count": 153,
   "id": "5a558fc3",
   "metadata": {
    "ExecuteTime": {
     "end_time": "2022-11-22T13:48:16.061250Z",
     "start_time": "2022-11-22T13:48:15.395935Z"
    }
   },
   "outputs": [
    {
     "name": "stdout",
     "output_type": "stream",
     "text": [
      "receptive field [114 126  42]=[38 18  2]*[[ 1  1  1]\n",
      " [ 1  2  4]\n",
      " [ 1  4 16]]\n",
      "receptive field [114 126  42]=[38 18  2]*[[ 1  1  1]\n",
      " [ 1  2  4]\n",
      " [ 1  4 16]]\n",
      "receptive field [690 378 242]=[138  18   2]*[[ 1  1  1]\n",
      " [ 1  2  4]\n",
      " [ 1  4 16]\n",
      " [ 1  6 36]\n",
      " [ 1  8 64]]\n",
      "receptive field [114 126  42]=[38 18  2]*[[ 1  1  1]\n",
      " [ 1  2  4]\n",
      " [ 1  4 16]]\n"
     ]
    },
    {
     "data": {
      "text/plain": [
       "1"
      ]
     },
     "execution_count": 153,
     "metadata": {},
     "output_type": "execute_result"
    },
    {
     "data": {
      "image/png": "[encoded data removed]",
      "text/plain": [
       "<Figure size 640x480 with 1 Axes>"
      ]
     },
     "metadata": {},
     "output_type": "display_data"
    }
   ],
   "source": [
    "save_paths = [mm.parent for mm in m]\n",
    "plot_multi(\n",
    "    save_paths=save_paths,\n",
    "    i=1000,\n",
    ")\n",
    "1"
   ]
  },
  {
   "cell_type": "code",
   "execution_count": null,
   "id": "5c5dc852",
   "metadata": {
    "ExecuteTime": {
     "end_time": "2022-11-22T12:08:05.811964Z",
     "start_time": "2022-11-22T12:07:40.797468Z"
    }
   },
   "outputs": [],
   "source": []
  },
  {
   "cell_type": "code",
   "execution_count": null,
   "id": "71995595",
   "metadata": {
    "ExecuteTime": {
     "end_time": "2022-11-22T13:17:31.585029Z",
     "start_time": "2022-11-22T13:17:31.528806Z"
    }
   },
   "outputs": [],
   "source": []
  },
  {
   "cell_type": "markdown",
   "id": "52fac522",
   "metadata": {},
   "source": [
    "# check positions in dl"
   ]
  },
  {
   "cell_type": "code",
   "execution_count": 139,
   "id": "00715926",
   "metadata": {
    "ExecuteTime": {
     "end_time": "2022-11-22T13:41:08.258955Z",
     "start_time": "2022-11-22T13:41:08.185519Z"
    },
    "scrolled": true
   },
   "outputs": [
    {
     "name": "stdout",
     "output_type": "stream",
     "text": [
      "[(92, 5), (46, 1), (92, 5), (46, 1), (46, 7), (46, 7)]\n"
     ]
    }
   ],
   "source": [
    "train_set, train_loader = get_data(flag='test', batch_size=3)\n",
    "b = context_past_x, context_y, query_past_x, query_y, context_time, query_time = train_set[100]\n",
    "print([bb.shape for bb in b])\n",
    "# context_y, query_y"
   ]
  },
  {
   "cell_type": "code",
   "execution_count": 80,
   "id": "6c7e008f",
   "metadata": {
    "ExecuteTime": {
     "end_time": "2022-11-22T13:31:53.654372Z",
     "start_time": "2022-11-22T13:31:53.638605Z"
    }
   },
   "outputs": [
    {
     "data": {
      "text/plain": [
       "(100, 192, 192, 238, 146, 238, 238, 284)"
      ]
     },
     "execution_count": 80,
     "metadata": {},
     "output_type": "execute_result"
    }
   ],
   "source": [
    "cx_start, cx_end, c_start, c_end, qx_start, qx_end, q_start, q_end = train_set.get_inds(100)\n",
    "cx_start, cx_end, c_start, c_end, qx_start, qx_end, q_start, q_end"
   ]
  },
  {
   "cell_type": "code",
   "execution_count": 81,
   "id": "6d2f9c5f",
   "metadata": {
    "ExecuteTime": {
     "end_time": "2022-11-22T13:31:53.744404Z",
     "start_time": "2022-11-22T13:31:53.655231Z"
    }
   },
   "outputs": [
    {
     "data": {
      "text/plain": [
       "<matplotlib.collections.LineCollection at 0x7fe2a0938f10>"
      ]
     },
     "execution_count": 81,
     "metadata": {},
     "output_type": "execute_result"
    },
    {
     "data": {
      "image/png": "[encoded data removed]",
      "text/plain": [
       "<Figure size 640x480 with 1 Axes>"
      ]
     },
     "metadata": {},
     "output_type": "display_data"
    }
   ],
   "source": [
    "plt.hlines(1, cx_start, cx_end)\n",
    "plt.hlines(2, c_start, c_end)\n",
    "plt.hlines(3, qx_start, qx_end)\n",
    "plt.hlines(4, q_start, q_end)"
   ]
  }
 ],
 "metadata": {
  "jupytext": {
   "cell_metadata_filter": "-all",
   "main_language": "python",
   "notebook_metadata_filter": "-all"
  },
  "kernelspec": {
   "display_name": "deeptime",
   "language": "python",
   "name": "deeptime"
  },
  "language_info": {
   "codemirror_mode": {
    "name": "ipython",
    "version": 3
   },
   "file_extension": ".py",
   "mimetype": "text/x-python",
   "name": "python",
   "nbconvert_exporter": "python",
   "pygments_lexer": "ipython3",
   "version": "3.8.13"
  },
  "toc": {
   "base_numbering": 1,
   "nav_menu": {},
   "number_sections": true,
   "sideBar": true,
   "skip_h1_title": false,
   "title_cell": "Table of Contents",
   "title_sidebar": "Contents",
   "toc_cell": false,
   "toc_position": {},
   "toc_section_display": true,
   "toc_window_display": false
  }
 },
 "nbformat": 4,
 "nbformat_minor": 5
}
