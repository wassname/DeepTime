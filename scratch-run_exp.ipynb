{
 "cells": [
  {
   "cell_type": "markdown",
   "id": "b1e031e3",
   "metadata": {},
   "source": [
    "- [x] try just one predictor\n",
    "    - [ ] multi input, single output\n",
    "- [x] comparem ulti\n",
    "- losses:\n",
    "    - try logp? nah\n",
    "    - mae?\n",
    "- [x] make my own csv with 5m data (maybe 10k rows)\n",
    "- [ ] backtest?"
   ]
  },
  {
   "cell_type": "code",
   "execution_count": 1,
   "id": "7f9e3d73",
   "metadata": {
    "ExecuteTime": {
     "end_time": "2022-11-23T05:42:46.869262Z",
     "start_time": "2022-11-23T05:42:46.859832Z"
    }
   },
   "outputs": [],
   "source": [
    "import warnings\n",
    "warnings.simplefilter(\"ignore\")\n",
    "\n",
    "# autoreload import your package\n",
    "%load_ext autoreload\n",
    "%autoreload 2"
   ]
  },
  {
   "cell_type": "code",
   "execution_count": 2,
   "id": "4e09086b",
   "metadata": {
    "ExecuteTime": {
     "end_time": "2022-11-23T05:42:48.073268Z",
     "start_time": "2022-11-23T05:42:46.870484Z"
    },
    "lines_to_next_cell": 0
   },
   "outputs": [],
   "source": [
    "import os\n",
    "from os.path import join\n",
    "import math\n",
    "import logging\n",
    "from typing import Callable, Optional, Union, Dict, Tuple\n",
    "\n",
    "from matplotlib import pyplot as plt\n",
    "from pathlib import Path\n",
    "import matplotlib.colors as mcolors\n",
    "\n",
    "import gin\n",
    "from fire import Fire\n",
    "import numpy as np\n",
    "import torch\n",
    "from torch.utils.data import DataLoader\n",
    "from torch import optim\n",
    "from torch import nn\n",
    "\n",
    "from experiments.base import Experiment\n",
    "from data.datasets import ForecastDataset\n",
    "from models import get_model\n",
    "from utils.checkpoint import Checkpoint\n",
    "from utils.ops import default_device, to_tensor\n",
    "from utils.losses import get_loss_fn\n",
    "from utils.metrics import calc_metrics\n",
    "\n",
    "from experiments.forecast import get_data\n",
    "gin.enter_interactive_mode()"
   ]
  },
  {
   "cell_type": "code",
   "execution_count": 3,
   "id": "66d7f095",
   "metadata": {
    "ExecuteTime": {
     "end_time": "2022-11-23T05:42:48.097114Z",
     "start_time": "2022-11-23T05:42:48.074670Z"
    }
   },
   "outputs": [
    {
     "data": {
      "text/plain": [
       "1"
      ]
     },
     "execution_count": 3,
     "metadata": {},
     "output_type": "execute_result"
    }
   ],
   "source": [
    "import logging\n",
    "logging.root.setLevel(logging.INFO)\n",
    "\n",
    "from loguru import logger\n",
    "logger.remove()\n",
    "logger.add(os.sys.stdout, level=\"INFO\", colorize=True, format=\"<level>{time} | {message}</level>\")"
   ]
  },
  {
   "cell_type": "markdown",
   "id": "d4df5270",
   "metadata": {},
   "source": [
    "# auto"
   ]
  },
  {
   "cell_type": "code",
   "execution_count": 4,
   "id": "04499bef",
   "metadata": {
    "ExecuteTime": {
     "end_time": "2022-11-23T05:42:48.115157Z",
     "start_time": "2022-11-23T05:42:48.098029Z"
    }
   },
   "outputs": [],
   "source": [
    "\n",
    "\n",
    "def plot(model_name=\"deeptime\", save_path=Path(\"storage/experiments/Exchange/96M/repeat=0\"), i=200, title=None, plot=True):\n",
    "\n",
    "    gin.clear_config()\n",
    "    gin.parse_config(open(save_path/\"config.gin\"))\n",
    "\n",
    "    train_set, train_loader = get_data(flag='train', batch_size=2)\n",
    "\n",
    "    model = get_model(model_name,\n",
    "                        dim_size=train_set.data_x.shape[1],\n",
    "                        datetime_feats=train_set.timestamps.shape[-1]).to(default_device())\n",
    "    model.load_state_dict(torch.load(save_path/'model.pth'))\n",
    "    model = model.eval()\n",
    "\n",
    "\n",
    "    b = train_set[i]\n",
    "    b = [bb[None, :] for bb in b]\n",
    "    b2 = list(map(to_tensor, b))\n",
    "    context_past_x, context_y, query_past_x, query_y, context_time, query_time = b2\n",
    "    with torch.no_grad():\n",
    "        forecast = model(*b2)\n",
    "\n",
    "    if title is None:\n",
    "        title = str(save_path).split('/')[-3:]\n",
    "        title = \"-\".join(title)\n",
    "    \n",
    "    colors = list(mcolors.BASE_COLORS.keys())\n",
    "    l = x.shape[1]\n",
    "    forecast2 = forecast[0].detach().cpu().numpy()\n",
    "    x2 = x[0].cpu()\n",
    "    y2 = y[0].cpu()\n",
    "    l2 = y.shape[1]\n",
    "    i_past = list(range(l))\n",
    "    i_future = list(range(l, l+l2))\n",
    "    \n",
    "    if plot:\n",
    "        plt.title(title)\n",
    "        for i in range(x.shape[-1]):\n",
    "            plt.plot(i_past, x2[:, i], c=colors[i])\n",
    "        for i in range(x.shape[-1]):\n",
    "            plt.plot(i_future, y2[:, i], c=colors[i])\n",
    "        for i in range(x.shape[-1]):\n",
    "            plt.plot(i_future, forecast2[:, i], c=colors[i], linestyle='--')\n",
    "    return x2, y2, forecast2, i_past, i_future\n"
   ]
  },
  {
   "cell_type": "code",
   "execution_count": null,
   "id": "6615bb09",
   "metadata": {
    "ExecuteTime": {
     "end_time": "2022-11-22T13:28:35.849491Z",
     "start_time": "2022-11-22T13:28:35.766453Z"
    },
    "scrolled": true
   },
   "outputs": [],
   "source": []
  },
  {
   "cell_type": "code",
   "execution_count": 5,
   "id": "ec47ae46",
   "metadata": {
    "ExecuteTime": {
     "end_time": "2022-11-23T05:42:48.138242Z",
     "start_time": "2022-11-23T05:42:48.115973Z"
    }
   },
   "outputs": [
    {
     "data": {
      "text/plain": [
       "['b', 'g', 'r', 'c', 'm', 'y', 'k', 'w']"
      ]
     },
     "execution_count": 5,
     "metadata": {},
     "output_type": "execute_result"
    }
   ],
   "source": [
    "list(mcolors.BASE_COLORS.keys())"
   ]
  },
  {
   "cell_type": "markdown",
   "id": "0a298ce2",
   "metadata": {
    "ExecuteTime": {
     "end_time": "2022-11-22T13:38:15.786656Z",
     "start_time": "2022-11-22T13:38:15.303577Z"
    }
   },
   "source": [
    "# view model"
   ]
  },
  {
   "cell_type": "markdown",
   "id": "40002390",
   "metadata": {},
   "source": [
    "# run exps"
   ]
  },
  {
   "cell_type": "code",
   "execution_count": null,
   "id": "2e1e58e7",
   "metadata": {
    "ExecuteTime": {
     "end_time": "2022-11-23T03:31:08.583641Z",
     "start_time": "2022-11-23T03:31:08.558690Z"
    }
   },
   "outputs": [],
   "source": []
  },
  {
   "cell_type": "code",
   "execution_count": 6,
   "id": "91b92e80",
   "metadata": {
    "ExecuteTime": {
     "end_time": "2022-11-23T05:42:48.154921Z",
     "start_time": "2022-11-23T05:42:48.139190Z"
    }
   },
   "outputs": [],
   "source": [
    "# list the models we have run...\n",
    "configs=sorted(Path(\"storage/experiments/Stocks\").glob(\"**/config.gin\"))\n",
    "import random\n",
    "random.shuffle(configs)\n",
    "# print(configs)"
   ]
  },
  {
   "cell_type": "code",
   "execution_count": 7,
   "id": "8bb001f7",
   "metadata": {
    "ExecuteTime": {
     "end_time": "2022-11-23T05:42:48.171079Z",
     "start_time": "2022-11-23T05:42:48.155764Z"
    }
   },
   "outputs": [],
   "source": [
    "from experiments.forecast import ForecastExperiment\n",
    "from tqdm.auto import tqdm"
   ]
  },
  {
   "cell_type": "code",
   "execution_count": null,
   "id": "029641dd",
   "metadata": {
    "ExecuteTime": {
     "start_time": "2022-11-23T05:42:46.859Z"
    },
    "scrolled": true
   },
   "outputs": [
    {
     "data": {
      "application/vnd.jupyter.widget-view+json": {
       "model_id": "49eccaa5eb6942e29ed4943d5b92cf89",
       "version_major": 2,
       "version_minor": 0
      },
      "text/plain": [
       "  0%|          | 0/42 [00:00<?, ?it/s]"
      ]
     },
     "metadata": {},
     "output_type": "display_data"
    },
    {
     "name": "stdout",
     "output_type": "stream",
     "text": [
      "storage/experiments/Stocks/96M2S/base_learner=Transformer,inr=INR,encoder=none,repeat=0/config.gin\n"
     ]
    },
    {
     "name": "stderr",
     "output_type": "stream",
     "text": [
      "INFO:root:epochs: 1, iters: 100 | training loss: 1.84\n"
     ]
    }
   ],
   "source": [
    "for config in tqdm(configs):\n",
    "    save_path = config.parent\n",
    "\n",
    "    exp = ForecastExperiment(config_path=config)\n",
    "    print(config)\n",
    "    try:\n",
    "        exp.run()\n",
    "    except KeyboardInterrupt:\n",
    "        raise\n",
    "    except Exception as e:\n",
    "        raise\n",
    "        print(e)\n",
    "        pass"
   ]
  },
  {
   "cell_type": "code",
   "execution_count": null,
   "id": "0472a84b",
   "metadata": {
    "ExecuteTime": {
     "start_time": "2022-11-23T05:42:46.875Z"
    }
   },
   "outputs": [],
   "source": [
    "%debug"
   ]
  },
  {
   "cell_type": "code",
   "execution_count": null,
   "id": "03a28a90",
   "metadata": {
    "ExecuteTime": {
     "start_time": "2022-11-23T05:42:46.875Z"
    }
   },
   "outputs": [],
   "source": [
    "exp.instance()"
   ]
  },
  {
   "cell_type": "code",
   "execution_count": null,
   "id": "a31ae85a",
   "metadata": {
    "ExecuteTime": {
     "start_time": "2022-11-23T05:42:46.875Z"
    }
   },
   "outputs": [],
   "source": [
    "# save_path = Path('storage/experiments/Stocks/96M2S/repeat=0')"
   ]
  },
  {
   "cell_type": "code",
   "execution_count": null,
   "id": "1a9d823d",
   "metadata": {
    "ExecuteTime": {
     "start_time": "2022-11-23T05:42:46.875Z"
    }
   },
   "outputs": [],
   "source": [
    "# gin.clear_config()\n",
    "# config_path = save_path/\"config.gin\"\n",
    "# gin.parse_config(open(config_path))\n",
    "# model_name = gin.query_parameter(\"instance.model_type\")\n",
    "# model_name"
   ]
  },
  {
   "cell_type": "code",
   "execution_count": null,
   "id": "5e4983e7",
   "metadata": {
    "ExecuteTime": {
     "start_time": "2022-11-23T05:42:46.875Z"
    }
   },
   "outputs": [],
   "source": [
    "\n",
    "# exp = ForecastExperiment(config_path=config_path)\n",
    "# # exp.run()"
   ]
  },
  {
   "cell_type": "code",
   "execution_count": null,
   "id": "cdd0fbbf",
   "metadata": {
    "ExecuteTime": {
     "start_time": "2022-11-23T05:42:46.875Z"
    }
   },
   "outputs": [],
   "source": [
    "def save_path2name(save_path: Path) -> str:\n",
    "    \"\"\"\n",
    "    Path('storage/experiments/Stocks/96M2S/base_learner=None,inr=INR,encoder=mlp,repeat=0')\n",
    "    to \n",
    "    '96M2S-None_INR_mlp_0'\n",
    "    \"\"\"\n",
    "    mtitle = str(save_path).split('/')[-2:]\n",
    "    tags = mtitle[-1]\n",
    "    tags = [x.split('=')[-1] for x in tags.split(',')]\n",
    "    mtitle[-1] = '_'.join(tags)\n",
    "    mtitle = \"-\".join(mtitle)\n",
    "    return mtitle\n",
    "\n",
    "# save_path2name(save_path)\n",
    "# save_path"
   ]
  },
  {
   "cell_type": "markdown",
   "id": "321106ef",
   "metadata": {},
   "source": [
    "# view all"
   ]
  },
  {
   "cell_type": "code",
   "execution_count": null,
   "id": "768530be",
   "metadata": {
    "ExecuteTime": {
     "start_time": "2022-11-23T05:42:46.875Z"
    }
   },
   "outputs": [],
   "source": [
    "from torchsummaryX import summary\n",
    "\n",
    "def plot_multi(save_paths=[Path(\"storage/experiments/Exchange/96M/repeat=0\")], i=200, title=None, plot=True, verbose=1,):\n",
    "    assert len(save_paths)>0\n",
    "    for j in range(len(save_paths)):\n",
    "        save_path = save_paths[j]\n",
    "\n",
    "        gin.clear_config()\n",
    "        gin.parse_config(open(save_path/\"config.gin\"))\n",
    "        model_name = gin.query_parameter(\"instance.model_type\")\n",
    "\n",
    "        train_set, train_loader = get_data(flag='test', batch_size=3)\n",
    "        seq_len = train_set[0][1].shape[0]\n",
    "        model = get_model(model_name,\n",
    "                            dim_size=train_set.data_x.shape[1],\n",
    "                          seq_len=seq_len,\n",
    "                            datetime_feats=train_set.timestamps.shape[-1]).to(default_device())\n",
    "        model.load_state_dict(torch.load(save_path/'model.pth'))\n",
    "        model = model.eval()\n",
    "        \n",
    "        \n",
    "\n",
    "\n",
    "        b = train_set[i]\n",
    "        b = [bb[None, :] for bb in b]\n",
    "        b2 = list(map(to_tensor, b))\n",
    "        \n",
    "#         b = next(iter(train_loader))\n",
    "#         print([s.shape for s in b]\n",
    "        \n",
    "        if verbose>1:\n",
    "            \n",
    "#             print(model)\n",
    "            summary(model, *b2)\n",
    "            print(save_path)\n",
    "        \n",
    "        context_past_x, context_y, query_past_x, query_y, context_time, query_time = b2\n",
    "        with torch.no_grad():\n",
    "            forecast = model(*b2)\n",
    "       \n",
    "        colors = list(mcolors.BASE_COLORS.keys())\n",
    "        l = context_time.shape[1]\n",
    "        forecast2 = forecast[0].detach().cpu().numpy()\n",
    "        x2 = context_y[0].cpu()\n",
    "        y2 = query_y[0].cpu()\n",
    "        l2 = query_time.shape[1]\n",
    "        i_past = list(range(l))\n",
    "        i_future = list(range(l, l+l2))\n",
    "        \n",
    "        \n",
    "\n",
    "        if plot:\n",
    "        \n",
    "            if j==0:\n",
    "                plt.plot(i_past, x2[:, 0], c=colors[0], label=f\"past\")\n",
    "                plt.plot(i_future, y2[:, 0], c=colors[0], label=\"future true\", alpha=0.3)\n",
    "            mtitle = save_path2name(save_path)\n",
    "            plt.plot(i_future, forecast2[:, 0], linestyle='--', label=f\"{mtitle}\") # c=colors[j], \n",
    "            \n",
    "\n",
    "    plt.legend()\n",
    "    plt.title(title)\n",
    "    return x2, y2, forecast2, i_past, i_future\n"
   ]
  },
  {
   "cell_type": "code",
   "execution_count": null,
   "id": "739ee5e3",
   "metadata": {
    "ExecuteTime": {
     "start_time": "2022-11-23T05:42:46.875Z"
    }
   },
   "outputs": [],
   "source": [
    "# list the models we have run...\n",
    "m=sorted(Path(\"storage/experiments/Stocks/96M2S\").glob(\"**/_SUCCESS\"))\n",
    "print(m)"
   ]
  },
  {
   "cell_type": "code",
   "execution_count": null,
   "id": "f1ae652d",
   "metadata": {
    "ExecuteTime": {
     "start_time": "2022-11-23T05:42:46.875Z"
    }
   },
   "outputs": [],
   "source": [
    "for mm in m:\n",
    "    mtitle = save_path2name(mm.parent)\n",
    "    print(mtitle)\n",
    "    m3 = np.load(mm.parent/'metrics.npy', allow_pickle=1)\n",
    "    m3 = eval(str(m3))\n",
    "    print(m3['val']['mape'])"
   ]
  },
  {
   "cell_type": "code",
   "execution_count": null,
   "id": "79bda4bf",
   "metadata": {
    "ExecuteTime": {
     "start_time": "2022-11-23T05:42:46.875Z"
    }
   },
   "outputs": [],
   "source": [
    "train_set, train_loader = get_data(flag='train')\n",
    "train_set[0][1].shape"
   ]
  },
  {
   "cell_type": "code",
   "execution_count": null,
   "id": "b06e53a9",
   "metadata": {
    "ExecuteTime": {
     "start_time": "2022-11-23T05:42:46.892Z"
    }
   },
   "outputs": [],
   "source": [
    "save_paths = [mm.parent for mm in m]\n",
    "for mm in m:\n",
    "    try:\n",
    "        plot_multi(\n",
    "            save_paths=[mm.parent],\n",
    "            i=600,\n",
    "            verbose=2,\n",
    "        )\n",
    "    except:\n",
    "        print('failed', mm)\n",
    "#         mm.unlink()\n",
    "        pass\n",
    "1"
   ]
  },
  {
   "cell_type": "code",
   "execution_count": null,
   "id": "25b9b9c5",
   "metadata": {
    "ExecuteTime": {
     "start_time": "2022-11-23T05:42:46.892Z"
    }
   },
   "outputs": [],
   "source": [
    "save_paths = [mm.parent for mm in m]\n",
    "plot_multi(\n",
    "    save_paths=save_paths,\n",
    "    i=200,\n",
    "    verbose=0,\n",
    ")\n",
    "1"
   ]
  },
  {
   "cell_type": "code",
   "execution_count": null,
   "id": "e173ea6f",
   "metadata": {
    "ExecuteTime": {
     "start_time": "2022-11-23T05:42:46.892Z"
    }
   },
   "outputs": [],
   "source": [
    "256/24"
   ]
  },
  {
   "cell_type": "code",
   "execution_count": null,
   "id": "9ca6f142",
   "metadata": {
    "ExecuteTime": {
     "end_time": "2022-11-22T13:17:31.585029Z",
     "start_time": "2022-11-22T13:17:31.528806Z"
    }
   },
   "outputs": [],
   "source": []
  },
  {
   "cell_type": "markdown",
   "id": "fce6db58",
   "metadata": {},
   "source": [
    "# check positions in dl"
   ]
  },
  {
   "cell_type": "code",
   "execution_count": null,
   "id": "5d574727",
   "metadata": {
    "ExecuteTime": {
     "start_time": "2022-11-23T05:42:46.892Z"
    },
    "scrolled": true
   },
   "outputs": [],
   "source": [
    "train_set, train_loader = get_data(flag='test', batch_size=3)\n",
    "b = context_past_x, context_y, query_past_x, query_y, context_time, query_time = train_set[100]\n",
    "print([bb.shape for bb in b])\n",
    "# context_y, query_y"
   ]
  },
  {
   "cell_type": "code",
   "execution_count": null,
   "id": "74ebc120",
   "metadata": {
    "ExecuteTime": {
     "start_time": "2022-11-23T05:42:46.892Z"
    }
   },
   "outputs": [],
   "source": [
    "cx_start, cx_end, c_start, c_end, qx_start, qx_end, q_start, q_end = train_set.get_inds(100)\n",
    "cx_start, cx_end, c_start, c_end, qx_start, qx_end, q_start, q_end"
   ]
  },
  {
   "cell_type": "code",
   "execution_count": null,
   "id": "d289f6bd",
   "metadata": {
    "ExecuteTime": {
     "start_time": "2022-11-23T05:42:46.892Z"
    }
   },
   "outputs": [],
   "source": [
    "plt.hlines(1, cx_start, cx_end, color='green', alpha=0.5, label='context_past_x')\n",
    "plt.hlines(2, c_start, c_end, color='green', label='context_labels')\n",
    "plt.hlines(3, qx_start, qx_end, alpha=0.5, label='query_past_x')\n",
    "plt.hlines(4, q_start, q_end, label='query_labels/target')\n",
    "plt.legend(loc='upper left')"
   ]
  },
  {
   "cell_type": "code",
   "execution_count": null,
   "id": "879d9d45",
   "metadata": {},
   "outputs": [],
   "source": []
  },
  {
   "cell_type": "code",
   "execution_count": null,
   "id": "37d7641b",
   "metadata": {},
   "outputs": [],
   "source": []
  },
  {
   "cell_type": "code",
   "execution_count": null,
   "id": "061b3b77",
   "metadata": {},
   "outputs": [],
   "source": []
  }
 ],
 "metadata": {
  "jupytext": {
   "cell_metadata_filter": "-all",
   "main_language": "python",
   "notebook_metadata_filter": "-all"
  },
  "kernelspec": {
   "display_name": "deeptime",
   "language": "python",
   "name": "deeptime"
  },
  "language_info": {
   "codemirror_mode": {
    "name": "ipython",
    "version": 3
   },
   "file_extension": ".py",
   "mimetype": "text/x-python",
   "name": "python",
   "nbconvert_exporter": "python",
   "pygments_lexer": "ipython3",
   "version": "3.8.13"
  },
  "toc": {
   "base_numbering": 1,
   "nav_menu": {},
   "number_sections": true,
   "sideBar": true,
   "skip_h1_title": false,
   "title_cell": "Table of Contents",
   "title_sidebar": "Contents",
   "toc_cell": false,
   "toc_position": {},
   "toc_section_display": true,
   "toc_window_display": false
  }
 },
 "nbformat": 4,
 "nbformat_minor": 5
}
