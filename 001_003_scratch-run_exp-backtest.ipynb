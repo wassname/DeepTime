{
 "cells": [
  {
   "cell_type": "markdown",
   "id": "b1e031e3",
   "metadata": {},
   "source": [
    "- [x] try just one predictor\n",
    "    - [ ] multi input, single output\n",
    "- [x] comparem ulti\n",
    "- losses:\n",
    "    - try logp? nah\n",
    "    - mae?\n",
    "- [x] make my own csv with 5m data (maybe 10k rows)\n",
    "- [ ] backtest?"
   ]
  },
  {
   "cell_type": "code",
   "execution_count": 1,
   "id": "7f9e3d73",
   "metadata": {
    "ExecuteTime": {
     "end_time": "2022-11-23T06:59:41.319249Z",
     "start_time": "2022-11-23T06:59:41.308639Z"
    }
   },
   "outputs": [],
   "source": [
    "import warnings\n",
    "warnings.simplefilter(\"ignore\")\n",
    "\n",
    "# autoreload import your package\n",
    "%load_ext autoreload\n",
    "%autoreload 2"
   ]
  },
  {
   "cell_type": "code",
   "execution_count": 2,
   "id": "4e09086b",
   "metadata": {
    "ExecuteTime": {
     "end_time": "2022-11-23T06:59:42.608751Z",
     "start_time": "2022-11-23T06:59:41.320536Z"
    },
    "lines_to_next_cell": 0
   },
   "outputs": [],
   "source": [
    "import os\n",
    "from os.path import join\n",
    "import math\n",
    "import logging\n",
    "from typing import Callable, Optional, Union, Dict, Tuple\n",
    "\n",
    "from matplotlib import pyplot as plt\n",
    "from pathlib import Path\n",
    "import matplotlib.colors as mcolors\n",
    "\n",
    "import gin\n",
    "from fire import Fire\n",
    "import numpy as np\n",
    "import torch\n",
    "from torch.utils.data import DataLoader\n",
    "from torch import optim\n",
    "from torch import nn\n",
    "\n",
    "from experiments.base import Experiment\n",
    "from data.datasets import ForecastDataset\n",
    "from models import get_model\n",
    "from utils.checkpoint import Checkpoint\n",
    "from utils.ops import default_device, to_tensor\n",
    "from utils.losses import get_loss_fn\n",
    "from utils.metrics import calc_metrics\n",
    "\n",
    "from experiments.forecast import get_data\n",
    "gin.enter_interactive_mode()"
   ]
  },
  {
   "cell_type": "code",
   "execution_count": 3,
   "id": "66d7f095",
   "metadata": {
    "ExecuteTime": {
     "end_time": "2022-11-23T06:59:42.632689Z",
     "start_time": "2022-11-23T06:59:42.610493Z"
    }
   },
   "outputs": [
    {
     "data": {
      "text/plain": [
       "1"
      ]
     },
     "execution_count": 3,
     "metadata": {},
     "output_type": "execute_result"
    }
   ],
   "source": [
    "import logging\n",
    "logging.root.setLevel(logging.INFO)\n",
    "\n",
    "from loguru import logger\n",
    "logger.remove()\n",
    "logger.add(os.sys.stdout, level=\"INFO\", colorize=True, format=\"<level>{time} | {message}</level>\")"
   ]
  },
  {
   "cell_type": "markdown",
   "id": "d4df5270",
   "metadata": {},
   "source": [
    "# auto"
   ]
  },
  {
   "cell_type": "code",
   "execution_count": 4,
   "id": "04499bef",
   "metadata": {
    "ExecuteTime": {
     "end_time": "2022-11-23T06:59:42.652862Z",
     "start_time": "2022-11-23T06:59:42.634056Z"
    }
   },
   "outputs": [],
   "source": [
    "\n",
    "\n",
    "def plot(model_name=\"deeptime\", save_path=Path(\"storage/experiments/Exchange/96M/repeat=0\"), i=200, title=None, plot=True):\n",
    "\n",
    "    gin.clear_config()\n",
    "    gin.parse_config(open(save_path/\"config.gin\"))\n",
    "\n",
    "    train_set, train_loader = get_data(flag='train', batch_size=2)\n",
    "\n",
    "    model = get_model(model_name,\n",
    "                        dim_size=train_set.data_x.shape[1],\n",
    "                        datetime_feats=train_set.timestamps.shape[-1]).to(default_device())\n",
    "    model.load_state_dict(torch.load(save_path/'model.pth'))\n",
    "    model = model.eval()\n",
    "\n",
    "\n",
    "    b = train_set[i]\n",
    "    b = [bb[None, :] for bb in b]\n",
    "    b2 = list(map(to_tensor, b))\n",
    "    context_past_x, context_y, query_past_x, query_y, context_time, query_time = b2\n",
    "    with torch.no_grad():\n",
    "        forecast = model(*b2)\n",
    "\n",
    "    if title is None:\n",
    "        title = str(save_path).split('/')[-3:]\n",
    "        title = \"-\".join(title)\n",
    "    \n",
    "    colors = list(mcolors.BASE_COLORS.keys())\n",
    "    l = x.shape[1]\n",
    "    forecast2 = forecast[0].detach().cpu().numpy()\n",
    "    x2 = x[0].cpu()\n",
    "    y2 = y[0].cpu()\n",
    "    l2 = y.shape[1]\n",
    "    i_past = list(range(l))\n",
    "    i_future = list(range(l, l+l2))\n",
    "    \n",
    "    if plot:\n",
    "        plt.title(title)\n",
    "        for i in range(x.shape[-1]):\n",
    "            plt.plot(i_past, x2[:, i], c=colors[i])\n",
    "        for i in range(x.shape[-1]):\n",
    "            plt.plot(i_future, y2[:, i], c=colors[i])\n",
    "        for i in range(x.shape[-1]):\n",
    "            plt.plot(i_future, forecast2[:, i], c=colors[i], linestyle='--')\n",
    "    return x2, y2, forecast2, i_past, i_future\n"
   ]
  },
  {
   "cell_type": "code",
   "execution_count": null,
   "id": "a51165b9",
   "metadata": {
    "ExecuteTime": {
     "end_time": "2022-11-22T13:28:35.849491Z",
     "start_time": "2022-11-22T13:28:35.766453Z"
    },
    "scrolled": true
   },
   "outputs": [],
   "source": []
  },
  {
   "cell_type": "code",
   "execution_count": 5,
   "id": "dd540a97",
   "metadata": {
    "ExecuteTime": {
     "end_time": "2022-11-23T06:59:42.677217Z",
     "start_time": "2022-11-23T06:59:42.654061Z"
    }
   },
   "outputs": [
    {
     "data": {
      "text/plain": [
       "['b', 'g', 'r', 'c', 'm', 'y', 'k', 'w']"
      ]
     },
     "execution_count": 5,
     "metadata": {},
     "output_type": "execute_result"
    }
   ],
   "source": [
    "list(mcolors.BASE_COLORS.keys())"
   ]
  },
  {
   "cell_type": "markdown",
   "id": "e8523787",
   "metadata": {
    "ExecuteTime": {
     "end_time": "2022-11-22T13:38:15.786656Z",
     "start_time": "2022-11-22T13:38:15.303577Z"
    }
   },
   "source": [
    "# view model"
   ]
  },
  {
   "cell_type": "markdown",
   "id": "ccf70857",
   "metadata": {},
   "source": [
    "# run exps"
   ]
  },
  {
   "cell_type": "code",
   "execution_count": null,
   "id": "694f6ac4",
   "metadata": {
    "ExecuteTime": {
     "end_time": "2022-11-23T03:31:08.583641Z",
     "start_time": "2022-11-23T03:31:08.558690Z"
    }
   },
   "outputs": [],
   "source": []
  },
  {
   "cell_type": "code",
   "execution_count": 6,
   "id": "0b70f754",
   "metadata": {
    "ExecuteTime": {
     "end_time": "2022-11-23T06:59:42.694227Z",
     "start_time": "2022-11-23T06:59:42.678376Z"
    }
   },
   "outputs": [],
   "source": [
    "# list the models we have run...\n",
    "configs=sorted(Path(\"storage/experiments/Stocks\").glob(\"**/config.gin\"))\n",
    "import random\n",
    "random.shuffle(configs)\n",
    "# print(configs)"
   ]
  },
  {
   "cell_type": "code",
   "execution_count": 7,
   "id": "c09e8335",
   "metadata": {
    "ExecuteTime": {
     "end_time": "2022-11-23T06:59:42.709998Z",
     "start_time": "2022-11-23T06:59:42.695396Z"
    }
   },
   "outputs": [],
   "source": [
    "from experiments.forecast import ForecastExperiment\n",
    "from tqdm.auto import tqdm"
   ]
  },
  {
   "cell_type": "code",
   "execution_count": 8,
   "id": "a4eba154",
   "metadata": {
    "ExecuteTime": {
     "end_time": "2022-11-23T06:59:42.727019Z",
     "start_time": "2022-11-23T06:59:42.710918Z"
    },
    "scrolled": false
   },
   "outputs": [],
   "source": [
    "# for config in tqdm(configs):\n",
    "#     save_path = config.parent\n",
    "\n",
    "#     exp = ForecastExperiment(config_path=config)\n",
    "#     print(config)\n",
    "#     try:\n",
    "#         exp.run()\n",
    "#     except KeyboardInterrupt:\n",
    "#         raise\n",
    "#     except Exception as e:\n",
    "#         raise\n",
    "#         print(e)\n",
    "#         pass"
   ]
  },
  {
   "cell_type": "code",
   "execution_count": 9,
   "id": "43aacbb6",
   "metadata": {
    "ExecuteTime": {
     "end_time": "2022-11-23T06:59:42.759654Z",
     "start_time": "2022-11-23T06:59:42.728744Z"
    }
   },
   "outputs": [],
   "source": [
    "# save_path = Path('storage/experiments/Stocks/96M2S/repeat=0')"
   ]
  },
  {
   "cell_type": "code",
   "execution_count": 10,
   "id": "dd2a96b6",
   "metadata": {
    "ExecuteTime": {
     "end_time": "2022-11-23T06:59:42.776760Z",
     "start_time": "2022-11-23T06:59:42.760840Z"
    }
   },
   "outputs": [],
   "source": [
    "# gin.clear_config()\n",
    "# config_path = save_path/\"config.gin\"\n",
    "# gin.parse_config(open(config_path))\n",
    "# model_name = gin.query_parameter(\"instance.model_type\")\n",
    "# model_name"
   ]
  },
  {
   "cell_type": "code",
   "execution_count": 11,
   "id": "61b1ac70",
   "metadata": {
    "ExecuteTime": {
     "end_time": "2022-11-23T06:59:42.793638Z",
     "start_time": "2022-11-23T06:59:42.777742Z"
    }
   },
   "outputs": [],
   "source": [
    "\n",
    "# exp = ForecastExperiment(config_path=config_path)\n",
    "# # exp.run()"
   ]
  },
  {
   "cell_type": "code",
   "execution_count": 12,
   "id": "629ea87a",
   "metadata": {
    "ExecuteTime": {
     "end_time": "2022-11-23T06:59:42.810376Z",
     "start_time": "2022-11-23T06:59:42.794672Z"
    }
   },
   "outputs": [],
   "source": [
    "def save_path2name(save_path: Path) -> str:\n",
    "    \"\"\"\n",
    "    Path('storage/experiments/Stocks/96M2S/base_learner=None,inr=INR,encoder=mlp,repeat=0')\n",
    "    to \n",
    "    '96M2S-None_INR_mlp_0'\n",
    "    \"\"\"\n",
    "    mtitle = str(save_path).split('/')[-2:]\n",
    "    tags = mtitle[-1]\n",
    "    tags = [x.split('=')[-1] for x in tags.split(',')]\n",
    "    mtitle[-1] = '_'.join(tags)\n",
    "    mtitle = \"-\".join(mtitle)\n",
    "    return mtitle\n",
    "\n",
    "# save_path2name(save_path)\n",
    "# save_path"
   ]
  },
  {
   "cell_type": "markdown",
   "id": "2269528b",
   "metadata": {},
   "source": [
    "# view all"
   ]
  },
  {
   "cell_type": "code",
   "execution_count": 13,
   "id": "768530be",
   "metadata": {
    "ExecuteTime": {
     "end_time": "2022-11-23T06:59:42.831687Z",
     "start_time": "2022-11-23T06:59:42.811250Z"
    }
   },
   "outputs": [],
   "source": [
    "from torchsummaryX import summary\n",
    "from torchinfo import summary\n",
    "\n",
    "def plot_multi(save_paths=[Path(\"storage/experiments/Exchange/96M/repeat=0\")], i=200, title=None, plot=True, verbose=1,):\n",
    "    assert len(save_paths)>0\n",
    "    for j in range(len(save_paths)):\n",
    "        save_path = save_paths[j]\n",
    "\n",
    "        gin.clear_config()\n",
    "        gin.parse_config(open(save_path/\"config.gin\"))\n",
    "        model_name = gin.query_parameter(\"instance.model_type\")\n",
    "\n",
    "        train_set, train_loader = get_data(flag='test', batch_size=3)\n",
    "        seq_len = train_set[0][0].shape[0]\n",
    "        model = get_model(model_name,\n",
    "                            dim_size=train_set.data_x.shape[1],\n",
    "                          seq_len=seq_len,\n",
    "                            datetime_feats=train_set.timestamps.shape[-1]).to(default_device())\n",
    "        model.load_state_dict(torch.load(save_path/'model.pth'))\n",
    "        model = model.eval()\n",
    "        \n",
    "        \n",
    "\n",
    "\n",
    "        b = train_set[i]\n",
    "        b = [bb[None, :] for bb in b]\n",
    "        b2 = list(map(to_tensor, b))\n",
    "        \n",
    "#         b = next(iter(train_loader))\n",
    "#         print([s.shape for s in b]\n",
    "        \n",
    "        if verbose>1:\n",
    "            print(summary(model, input_data=b2, depth=2))\n",
    "            print(save_path)\n",
    "        \n",
    "        context_past_x, context_y, query_past_x, query_y, context_time, query_time = b2\n",
    "        with torch.no_grad():\n",
    "            forecast = model(*b2)\n",
    "       \n",
    "        colors = list(mcolors.BASE_COLORS.keys())\n",
    "        l = context_time.shape[1]\n",
    "        forecast2 = forecast[0].detach().cpu().numpy()\n",
    "        x2 = context_y[0].cpu()\n",
    "        y2 = query_y[0].cpu()\n",
    "        l2 = query_time.shape[1]\n",
    "        i_past = list(range(l))\n",
    "        i_future = list(range(l, l+l2))\n",
    "\n",
    "        if plot:\n",
    "        \n",
    "            if j==0:\n",
    "                plt.plot(i_past, x2[:, 0], c=colors[0], label=f\"past\")\n",
    "                plt.plot(i_future, y2[:, 0], c=colors[0], label=\"future true\", alpha=0.3)\n",
    "            mtitle = save_path2name(save_path)\n",
    "            plt.plot(i_future, forecast2[:, 0], linestyle='--', label=f\"{mtitle}\") # c=colors[j], \n",
    "            \n",
    "\n",
    "    plt.legend()\n",
    "    plt.title(title)\n",
    "    return x2, y2, forecast2, i_past, i_future\n"
   ]
  },
  {
   "cell_type": "code",
   "execution_count": 14,
   "id": "739ee5e3",
   "metadata": {
    "ExecuteTime": {
     "end_time": "2022-11-23T06:59:42.853593Z",
     "start_time": "2022-11-23T06:59:42.832746Z"
    }
   },
   "outputs": [
    {
     "name": "stdout",
     "output_type": "stream",
     "text": [
      "[Path('storage/experiments/Stocks/96M2S/lrn=None,inr=INR,enc=lstm2,repeat=0/_SUCCESS'), Path('storage/experiments/Stocks/96M2S/lrn=None,inr=INRPlus2,enc=inception,repeat=0/_SUCCESS'), Path('storage/experiments/Stocks/96M2S/lrn=Ridge,inr=INR,enc=inception,repeat=0/_SUCCESS'), Path('storage/experiments/Stocks/96M2S/lrn=Ridge,inr=INR,enc=mlp,repeat=0/_SUCCESS'), Path('storage/experiments/Stocks/96M2S/lrn=Ridge,inr=INRPlus2,enc=inception,repeat=0/_SUCCESS'), Path('storage/experiments/Stocks/96M2S/lrn=Ridge,inr=INRPlus2,enc=lstm2,repeat=0/_SUCCESS'), Path('storage/experiments/Stocks/96M2S/lrn=Transformer,inr=INR,enc=inception,repeat=0/_SUCCESS'), Path('storage/experiments/Stocks/96M2S/lrn=Transformer,inr=INR,enc=lstm2,repeat=0/_SUCCESS'), Path('storage/experiments/Stocks/96M2S/lrn=Transformer,inr=INRPlus2,enc=none,repeat=0/_SUCCESS'), Path('storage/experiments/Stocks/96M2S/lrn=Transformer,inr=INRPlus2,enc=transformer,repeat=0/_SUCCESS')]\n"
     ]
    }
   ],
   "source": [
    "# list the models we have run...\n",
    "m=sorted(Path(\"storage/experiments/Stocks/96M2S\").glob(\"**/_SUCCESS\"))\n",
    "print(m)"
   ]
  },
  {
   "cell_type": "code",
   "execution_count": 15,
   "id": "19fe898b",
   "metadata": {
    "ExecuteTime": {
     "end_time": "2022-11-23T06:59:42.870036Z",
     "start_time": "2022-11-23T06:59:42.854590Z"
    }
   },
   "outputs": [
    {
     "name": "stdout",
     "output_type": "stream",
     "text": [
      "mape=3.13, 96M2S-None_INR_lstm2_0\n",
      "mape=2.06, 96M2S-None_INRPlus2_inception_0\n",
      "mape=1.41, 96M2S-Ridge_INR_inception_0\n",
      "mape=1.83, 96M2S-Ridge_INR_mlp_0\n",
      "mape=0.86, 96M2S-Ridge_INRPlus2_inception_0\n",
      "mape=0.84, 96M2S-Ridge_INRPlus2_lstm2_0\n",
      "mape=1.76, 96M2S-Transformer_INR_inception_0\n",
      "mape=2.39, 96M2S-Transformer_INR_lstm2_0\n",
      "mape=1.89, 96M2S-Transformer_INRPlus2_none_0\n",
      "mape=1.94, 96M2S-Transformer_INRPlus2_transformer_0\n"
     ]
    }
   ],
   "source": [
    "# show score\n",
    "for mm in m:\n",
    "    mtitle = save_path2name(mm.parent)\n",
    "#     print(mtitle)\n",
    "    m3 = json.load((mm.parent/'metrics.json').open())\n",
    "    m3 = eval(str(m3))\n",
    "    print(f\"mape={m3['val']['mape']:2.2f}, {mtitle}\")"
   ]
  },
  {
   "cell_type": "code",
   "execution_count": 16,
   "id": "27c162b3",
   "metadata": {
    "ExecuteTime": {
     "end_time": "2022-11-23T06:59:42.966712Z",
     "start_time": "2022-11-23T06:59:42.870879Z"
    }
   },
   "outputs": [
    {
     "ename": "ZeroDivisionError",
     "evalue": "division by zero",
     "output_type": "error",
     "traceback": [
      "\u001b[0;31m---------------------------------------------------------------------------\u001b[0m",
      "\u001b[0;31mZeroDivisionError\u001b[0m                         Traceback (most recent call last)",
      "Cell \u001b[0;32mIn [16], line 1\u001b[0m\n\u001b[0;32m----> 1\u001b[0m \u001b[38;5;241;43m1\u001b[39;49m\u001b[38;5;241;43m/\u001b[39;49m\u001b[38;5;241;43m0\u001b[39;49m\n",
      "\u001b[0;31mZeroDivisionError\u001b[0m: division by zero"
     ]
    }
   ],
   "source": [
    "1/0"
   ]
  },
  {
   "cell_type": "code",
   "execution_count": null,
   "id": "2c141512",
   "metadata": {
    "ExecuteTime": {
     "end_time": "2022-11-23T06:59:42.967702Z",
     "start_time": "2022-11-23T06:59:42.967694Z"
    }
   },
   "outputs": [],
   "source": [
    "# show size\n",
    "save_paths = [mm.parent for mm in m]\n",
    "for mm in m:\n",
    "    try:\n",
    "        plot_multi(\n",
    "            save_paths=[mm.parent],\n",
    "            i=600,\n",
    "            verbose=2,\n",
    "        )\n",
    "    except Exception as e:\n",
    "        print('failed', mm, e)\n",
    "#         mm.unlink()\n",
    "        pass\n",
    "1"
   ]
  },
  {
   "cell_type": "code",
   "execution_count": null,
   "id": "115467ad",
   "metadata": {
    "ExecuteTime": {
     "end_time": "2022-11-23T06:59:42.968371Z",
     "start_time": "2022-11-23T06:59:42.968363Z"
    }
   },
   "outputs": [],
   "source": [
    "save_paths = [mm.parent for mm in m]\n",
    "plot_multi(\n",
    "    save_paths=save_paths,\n",
    "    i=200,\n",
    "    verbose=0,\n",
    ")\n",
    "1"
   ]
  },
  {
   "cell_type": "code",
   "execution_count": null,
   "id": "985a9f4e",
   "metadata": {
    "ExecuteTime": {
     "end_time": "2022-11-23T06:59:42.969045Z",
     "start_time": "2022-11-23T06:59:42.969037Z"
    }
   },
   "outputs": [],
   "source": [
    "256/24"
   ]
  },
  {
   "cell_type": "code",
   "execution_count": null,
   "id": "36cba856",
   "metadata": {
    "ExecuteTime": {
     "end_time": "2022-11-22T13:17:31.585029Z",
     "start_time": "2022-11-22T13:17:31.528806Z"
    }
   },
   "outputs": [],
   "source": []
  },
  {
   "cell_type": "markdown",
   "id": "b85499d6",
   "metadata": {},
   "source": [
    "# check positions in dl"
   ]
  },
  {
   "cell_type": "code",
   "execution_count": 83,
   "id": "497e8e53",
   "metadata": {
    "ExecuteTime": {
     "end_time": "2022-11-23T07:37:25.264009Z",
     "start_time": "2022-11-23T07:37:24.745744Z"
    },
    "scrolled": true
   },
   "outputs": [
    {
     "name": "stdout",
     "output_type": "stream",
     "text": [
      "[(138, 5), (46, 1), (138, 5), (46, 1), (46, 0), (46, 0)]\n"
     ]
    }
   ],
   "source": [
    "train_set, train_loader = get_data(flag='test', batch_size=3)\n",
    "b = context_past_x, context_y, query_past_x, query_y, context_time, query_time = train_set[0]\n",
    "print([bb.shape for bb in b])\n",
    "# context_y, query_y"
   ]
  },
  {
   "cell_type": "code",
   "execution_count": 84,
   "id": "277d7ea7",
   "metadata": {
    "ExecuteTime": {
     "end_time": "2022-11-23T07:37:25.280780Z",
     "start_time": "2022-11-23T07:37:25.265210Z"
    }
   },
   "outputs": [
    {
     "data": {
      "text/plain": [
       "(0, 138, 138, 184, 46, 184, 184, 230)"
      ]
     },
     "execution_count": 84,
     "metadata": {},
     "output_type": "execute_result"
    }
   ],
   "source": [
    "cx_start, cx_end, c_start, c_end, qx_start, qx_end, q_start, q_end = train_set.get_inds(0)\n",
    "cx_start, cx_end, c_start, c_end, qx_start, qx_end, q_start, q_end"
   ]
  },
  {
   "cell_type": "code",
   "execution_count": null,
   "id": "2ce2ccc1",
   "metadata": {
    "ExecuteTime": {
     "end_time": "2022-11-23T07:38:51.088685Z",
     "start_time": "2022-11-23T07:38:51.072932Z"
    }
   },
   "outputs": [],
   "source": []
  },
  {
   "cell_type": "code",
   "execution_count": 89,
   "id": "e45f5116",
   "metadata": {
    "ExecuteTime": {
     "end_time": "2022-11-23T07:38:02.653780Z",
     "start_time": "2022-11-23T07:38:02.634798Z"
    }
   },
   "outputs": [
    {
     "data": {
      "text/plain": [
       "<function matplotlib.pyplot.vlines(x, ymin, ymax, colors=None, linestyles='solid', label='', *, data=None, **kwargs)>"
      ]
     },
     "execution_count": 89,
     "metadata": {},
     "output_type": "execute_result"
    }
   ],
   "source": [
    "plt.vlines"
   ]
  },
  {
   "cell_type": "code",
   "execution_count": 94,
   "id": "d9180330",
   "metadata": {
    "ExecuteTime": {
     "end_time": "2022-11-23T07:38:38.998210Z",
     "start_time": "2022-11-23T07:38:38.886078Z"
    }
   },
   "outputs": [
    {
     "data": {
      "text/plain": [
       "<matplotlib.legend.Legend at 0x7fd91c18e7c0>"
      ]
     },
     "execution_count": 94,
     "metadata": {},
     "output_type": "execute_result"
    },
    {
     "data": {
      "image/png": "[encoded data removed]",
      "text/plain": [
       "<Figure size 640x480 with 1 Axes>"
      ]
     },
     "metadata": {},
     "output_type": "display_data"
    }
   ],
   "source": [
    "plt.hlines(1, cx_start, cx_end, color='green', alpha=0.5, label='context_past_x')\n",
    "plt.hlines(2, c_start, c_end, color='green', label='context_labels')\n",
    "plt.hlines(3, qx_start, qx_end, alpha=0.5, label='query_past_x')\n",
    "plt.hlines(4, q_start, q_end, label='query_labels/target')\n",
    "o = train_set.horizon_len+train_set.lookback_len\n",
    "plt.vlines(o, *plt.ylim(), alpha=0.3, ls='--', label='now')\n",
    "plt.legend(loc='upper left')"
   ]
  },
  {
   "cell_type": "markdown",
   "id": "b4a8e127",
   "metadata": {
    "ExecuteTime": {
     "end_time": "2022-11-23T06:40:12.172290Z",
     "start_time": "2022-11-23T06:40:12.157848Z"
    }
   },
   "source": [
    "# backtest"
   ]
  },
  {
   "cell_type": "code",
   "execution_count": null,
   "id": "40832cab",
   "metadata": {
    "ExecuteTime": {
     "end_time": "2022-11-23T06:57:00.483250Z",
     "start_time": "2022-11-23T06:57:00.467819Z"
    }
   },
   "outputs": [],
   "source": []
  },
  {
   "cell_type": "code",
   "execution_count": 17,
   "id": "8420bbb3",
   "metadata": {
    "ExecuteTime": {
     "end_time": "2022-11-23T07:25:09.987756Z",
     "start_time": "2022-11-23T07:25:09.925063Z"
    }
   },
   "outputs": [],
   "source": [
    "save_path = Path('storage/experiments/Stocks/96M2S/lrn=Ridge,inr=INRPlus2,enc=lstm2,repeat=0')"
   ]
  },
  {
   "cell_type": "code",
   "execution_count": 22,
   "id": "038f5c6b",
   "metadata": {
    "ExecuteTime": {
     "end_time": "2022-11-23T07:26:24.445511Z",
     "start_time": "2022-11-23T07:26:24.051121Z"
    }
   },
   "outputs": [
    {
     "name": "stdout",
     "output_type": "stream",
     "text": [
      "receptive field [690 378 242]\n"
     ]
    }
   ],
   "source": [
    "gin.clear_config()\n",
    "gin.parse_config(open(save_path/\"config.gin\"))\n",
    "model_name = gin.query_parameter(\"instance.model_type\")\n",
    "\n",
    "train_set, train_loader = get_data(flag='train', batch_size=256)\n",
    "test_set, test_loader = get_data(flag='test', batch_size=256)\n",
    "seq_len = train_set[0][0].shape[0]\n",
    "model = get_model(model_name,\n",
    "                    dim_size=train_set.data_x.shape[1],\n",
    "                  seq_len=seq_len,\n",
    "                    datetime_feats=train_set.timestamps.shape[-1]).to(default_device())\n",
    "model.load_state_dict(torch.load(save_path/'model.pth'))\n",
    "model = model.eval()\n"
   ]
  },
  {
   "cell_type": "code",
   "execution_count": 117,
   "id": "57ca933d",
   "metadata": {
    "ExecuteTime": {
     "end_time": "2022-11-23T07:44:19.083082Z",
     "start_time": "2022-11-23T07:44:18.996891Z"
    }
   },
   "outputs": [
    {
     "data": {
      "text/plain": [
       "42765    2020-09-01 16:10:00\n",
       "42766    2020-09-01 16:20:00\n",
       "42767    2020-09-01 16:35:00\n",
       "42768    2020-09-01 16:40:00\n",
       "42769    2020-09-01 16:45:00\n",
       "                ...         \n",
       "53256    2020-12-30 15:30:00\n",
       "53257    2020-12-30 15:35:00\n",
       "53258    2020-12-30 15:40:00\n",
       "53259    2020-12-30 15:45:00\n",
       "53260    2020-12-30 15:50:00\n",
       "Name: date, Length: 10496, dtype: object"
      ]
     },
     "execution_count": 117,
     "metadata": {},
     "output_type": "execute_result"
    }
   ],
   "source": [
    "test_set, test_loader = get_data(flag='test', batch_size=256)\n",
    "test_set.index"
   ]
  },
  {
   "cell_type": "code",
   "execution_count": 118,
   "id": "119180c2",
   "metadata": {
    "ExecuteTime": {
     "end_time": "2022-11-23T07:44:20.752575Z",
     "start_time": "2022-11-23T07:44:20.736233Z"
    }
   },
   "outputs": [
    {
     "data": {
      "text/plain": [
       "10496"
      ]
     },
     "execution_count": 118,
     "metadata": {},
     "output_type": "execute_result"
    }
   ],
   "source": []
  },
  {
   "cell_type": "code",
   "execution_count": 45,
   "id": "7c66089e",
   "metadata": {
    "ExecuteTime": {
     "end_time": "2022-11-23T07:30:04.667930Z",
     "start_time": "2022-11-23T07:30:04.649627Z"
    }
   },
   "outputs": [],
   "source": [
    "def pred(test_loader, model):\n",
    "    isinstance(test_loader.sampler, torch.utils.data.sampler.SequentialSampler)\n",
    "    forecasts = []\n",
    "    with torch.no_grad():\n",
    "        for it, data in enumerate(tqdm(test_loader)):\n",
    "            data2 = list(map(to_tensor, data))\n",
    "            context_past_x, context_y, query_past_x, query_y, context_time, query_time  = data2\n",
    "\n",
    "            if context_past_x.shape[0] == 1:\n",
    "                # skip final batch if batch_size == 1\n",
    "                # due to bug in torch.linalg.solve which raises error when batch_size == 1\n",
    "                continue\n",
    "\n",
    "            forecast = model(*data2)\n",
    "            forecasts.append(forecast.cpu().numpy())\n",
    "    return np.concatenate(forecasts, 0)"
   ]
  },
  {
   "cell_type": "code",
   "execution_count": 131,
   "id": "de7e44bd",
   "metadata": {
    "ExecuteTime": {
     "end_time": "2022-11-23T07:45:51.816185Z",
     "start_time": "2022-11-23T07:45:51.719101Z"
    }
   },
   "outputs": [
    {
     "data": {
      "text/plain": [
       "date\n",
       "2020-09-01 16:10:00    12.480\n",
       "2020-09-01 16:20:00    12.480\n",
       "2020-09-01 16:35:00    12.500\n",
       "2020-09-01 16:40:00    12.500\n",
       "2020-09-01 16:45:00    12.500\n",
       "                        ...  \n",
       "2020-12-30 15:30:00    17.845\n",
       "2020-12-30 15:35:00    17.875\n",
       "2020-12-30 15:40:00    17.840\n",
       "2020-12-30 15:45:00    17.800\n",
       "2020-12-30 15:50:00    17.895\n",
       "Name: close, Length: 10496, dtype: float64"
      ]
     },
     "execution_count": 131,
     "metadata": {},
     "output_type": "execute_result"
    }
   ],
   "source": [
    "import pandas as pd\n",
    "df = pd.read_csv(Path('storage/datasets')/test_loader.dataset.data_path).set_index('date')\n",
    "close = df.close.reindex(test_set.index)\n",
    "close"
   ]
  },
  {
   "cell_type": "code",
   "execution_count": 133,
   "id": "7fa14114",
   "metadata": {
    "ExecuteTime": {
     "end_time": "2022-11-23T07:46:09.418984Z",
     "start_time": "2022-11-23T07:46:04.568065Z"
    },
    "scrolled": true
   },
   "outputs": [
    {
     "data": {
      "application/vnd.jupyter.widget-view+json": {
       "model_id": "6ca272f0e6964bd8b5bb099bee202c73",
       "version_major": 2,
       "version_minor": 0
      },
      "text/plain": [
       "  0%|          | 0/41 [00:00<?, ?it/s]"
      ]
     },
     "metadata": {},
     "output_type": "display_data"
    },
    {
     "data": {
      "text/plain": [
       "array([[-0.6328174 , -0.63319993, -0.6346327 , ..., -0.5592192 ,\n",
       "        -0.55776495, -0.5553882 ],\n",
       "       [-0.63254887, -0.6316724 , -0.6318742 , ..., -0.55676687,\n",
       "        -0.55493146, -0.55278534],\n",
       "       [-0.6345463 , -0.6336551 , -0.6358172 , ..., -0.54483443,\n",
       "        -0.54275066, -0.54060847],\n",
       "       ...,\n",
       "       [ 0.5262324 ,  0.5326949 ,  0.5357634 , ...,  0.6983865 ,\n",
       "         0.7018202 ,  0.70224243],\n",
       "       [ 0.53653884,  0.54718244,  0.5533827 , ...,  0.7077196 ,\n",
       "         0.7094669 ,  0.7116887 ],\n",
       "       [ 0.539682  ,  0.5489382 ,  0.5567719 , ...,  0.6913836 ,\n",
       "         0.6931053 ,  0.6938973 ]], dtype=float32)"
      ]
     },
     "execution_count": 133,
     "metadata": {},
     "output_type": "execute_result"
    }
   ],
   "source": [
    "y_pred = pred(test_loader, model)[:, :, 0]\n",
    "y_pred"
   ]
  },
  {
   "cell_type": "code",
   "execution_count": 135,
   "id": "53f1ace9",
   "metadata": {
    "ExecuteTime": {
     "end_time": "2022-11-23T07:46:43.304700Z",
     "start_time": "2022-11-23T07:46:43.273350Z"
    }
   },
   "outputs": [
    {
     "ename": "ModuleNotFoundError",
     "evalue": "No module named 'vectorbt'",
     "output_type": "error",
     "traceback": [
      "\u001b[0;31m---------------------------------------------------------------------------\u001b[0m",
      "\u001b[0;31mModuleNotFoundError\u001b[0m                       Traceback (most recent call last)",
      "Cell \u001b[0;32mIn [135], line 1\u001b[0m\n\u001b[0;32m----> 1\u001b[0m \u001b[38;5;28;01mimport\u001b[39;00m \u001b[38;5;21;01mvectorbt\u001b[39;00m \u001b[38;5;28;01mas\u001b[39;00m \u001b[38;5;21;01mvbt\u001b[39;00m\n\u001b[1;32m      2\u001b[0m pf \u001b[38;5;241m=\u001b[39m vbt\u001b[38;5;241m.\u001b[39mPortfolio\u001b[38;5;241m.\u001b[39mfrom_signals(\n\u001b[1;32m      3\u001b[0m     close,\n\u001b[1;32m      4\u001b[0m     entries\u001b[38;5;241m=\u001b[39mentries,\n\u001b[0;32m   (...)\u001b[0m\n\u001b[1;32m     10\u001b[0m     size\u001b[38;5;241m=\u001b[39msize \u001b[38;5;66;03m# size=1 and short leas to inf's\u001b[39;00m\n\u001b[1;32m     11\u001b[0m )\n",
      "\u001b[0;31mModuleNotFoundError\u001b[0m: No module named 'vectorbt'"
     ]
    }
   ],
   "source": [
    "import vectorbt as vbt\n",
    "pf = vbt.Portfolio.from_signals(\n",
    "    close,\n",
    "    entries=entries,\n",
    "    exits=exits,\n",
    "    short_entries=short_entries,\n",
    "    short_exits=short_exits,\n",
    "    fees=fees,\n",
    "    freq=\"5T\",\n",
    "    size=size # size=1 and short leas to inf's\n",
    ")"
   ]
  },
  {
   "cell_type": "code",
   "execution_count": null,
   "id": "58a4e2bd",
   "metadata": {},
   "outputs": [],
   "source": []
  },
  {
   "cell_type": "code",
   "execution_count": null,
   "id": "a3dba8a8",
   "metadata": {},
   "outputs": [],
   "source": []
  }
 ],
 "metadata": {
  "jupytext": {
   "cell_metadata_filter": "-all",
   "main_language": "python",
   "notebook_metadata_filter": "-all"
  },
  "kernelspec": {
   "display_name": "deeptime",
   "language": "python",
   "name": "deeptime"
  },
  "language_info": {
   "codemirror_mode": {
    "name": "ipython",
    "version": 3
   },
   "file_extension": ".py",
   "mimetype": "text/x-python",
   "name": "python",
   "nbconvert_exporter": "python",
   "pygments_lexer": "ipython3",
   "version": "3.8.13"
  },
  "toc": {
   "base_numbering": 1,
   "nav_menu": {},
   "number_sections": true,
   "sideBar": true,
   "skip_h1_title": false,
   "title_cell": "Table of Contents",
   "title_sidebar": "Contents",
   "toc_cell": false,
   "toc_position": {},
   "toc_section_display": true,
   "toc_window_display": false
  }
 },
 "nbformat": 4,
 "nbformat_minor": 5
}
