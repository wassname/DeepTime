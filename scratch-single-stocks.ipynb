{
 "cells": [
  {
   "cell_type": "markdown",
   "id": "b1e031e3",
   "metadata": {},
   "source": [
    "- [x] try just one predictor\n",
    "    - [ ] multi input, single output\n",
    "- [x] comparem ulti\n",
    "- losses:\n",
    "    - try logp? nah\n",
    "    - mae?\n",
    "- [x] make my own csv with 5m data (maybe 10k rows)\n",
    "- [ ] backtest?"
   ]
  },
  {
   "cell_type": "code",
   "execution_count": 1,
   "id": "7f9e3d73",
   "metadata": {
    "ExecuteTime": {
     "end_time": "2022-11-22T02:31:36.717738Z",
     "start_time": "2022-11-22T02:31:36.708540Z"
    }
   },
   "outputs": [],
   "source": [
    "import warnings\n",
    "warnings.simplefilter(\"ignore\")\n",
    "\n",
    "# autoreload import your package\n",
    "%load_ext autoreload\n",
    "%autoreload 2"
   ]
  },
  {
   "cell_type": "code",
   "execution_count": 2,
   "id": "4e09086b",
   "metadata": {
    "ExecuteTime": {
     "end_time": "2022-11-22T02:31:38.523459Z",
     "start_time": "2022-11-22T02:31:36.718873Z"
    },
    "lines_to_next_cell": 0
   },
   "outputs": [],
   "source": [
    "import os\n",
    "from os.path import join\n",
    "import math\n",
    "import logging\n",
    "from typing import Callable, Optional, Union, Dict, Tuple\n",
    "\n",
    "from matplotlib import pyplot as plt\n",
    "from pathlib import Path\n",
    "import matplotlib.colors as mcolors\n",
    "\n",
    "import gin\n",
    "from fire import Fire\n",
    "import numpy as np\n",
    "import torch\n",
    "from torch.utils.data import DataLoader\n",
    "from torch import optim\n",
    "from torch import nn\n",
    "\n",
    "from experiments.base import Experiment\n",
    "from data.datasets import ForecastDataset\n",
    "from models import get_model\n",
    "from utils.checkpoint import Checkpoint\n",
    "from utils.ops import default_device, to_tensor\n",
    "from utils.losses import get_loss_fn\n",
    "from utils.metrics import calc_metrics\n",
    "\n",
    "from experiments.forecast import get_data\n",
    "gin.enter_interactive_mode()"
   ]
  },
  {
   "cell_type": "code",
   "execution_count": null,
   "id": "66d7f095",
   "metadata": {
    "ExecuteTime": {
     "end_time": "2022-11-19T23:55:34.939075Z",
     "start_time": "2022-11-19T23:55:34.820277Z"
    }
   },
   "outputs": [],
   "source": []
  },
  {
   "cell_type": "markdown",
   "id": "d4df5270",
   "metadata": {},
   "source": [
    "# auto"
   ]
  },
  {
   "cell_type": "code",
   "execution_count": 3,
   "id": "04499bef",
   "metadata": {
    "ExecuteTime": {
     "end_time": "2022-11-22T02:31:38.542165Z",
     "start_time": "2022-11-22T02:31:38.525217Z"
    }
   },
   "outputs": [],
   "source": [
    "\n",
    "\n",
    "def plot(model_name=\"deeptime\", save_path=Path(\"storage/experiments/Exchange/96M/repeat=0\"), i=200, title=None, plot=True):\n",
    "\n",
    "    gin.clear_config()\n",
    "    gin.parse_config(open(save_path/\"config.gin\"))\n",
    "\n",
    "    train_set, train_loader = get_data(flag='train', batch_size=2)\n",
    "\n",
    "    model = get_model(model_name,\n",
    "                        dim_size=train_set.data_x.shape[1],\n",
    "                        datetime_feats=train_set.timestamps.shape[-1]).to(default_device())\n",
    "    model.load_state_dict(torch.load(save_path/'model.pth'))\n",
    "    model = model.eval()\n",
    "\n",
    "\n",
    "    b = train_set[i]\n",
    "    b = [bb[None, :] for bb in b]\n",
    "    x, y, x_time, y_time = map(to_tensor, b)\n",
    "    with torch.no_grad():\n",
    "        forecast = model(x, x_time, y_time)\n",
    "\n",
    "    if title is None:\n",
    "        title = str(save_path).split('/')[-3:]\n",
    "        title = \"-\".join(title)\n",
    "    \n",
    "    colors = list(mcolors.BASE_COLORS.keys())\n",
    "    l = x.shape[1]\n",
    "    forecast2 = forecast[0].detach().cpu().numpy()\n",
    "    x2 = x[0].cpu()\n",
    "    y2 = y[0].cpu()\n",
    "    l2 = y.shape[1]\n",
    "    i_past = list(range(l))\n",
    "    i_future = list(range(l, l+l2))\n",
    "    \n",
    "    if plot:\n",
    "        plt.title(title)\n",
    "        for i in range(x.shape[-1]):\n",
    "            plt.plot(i_past, x2[:, i], c=colors[i])\n",
    "        for i in range(x.shape[-1]):\n",
    "            plt.plot(i_future, y2[:, i], c=colors[i])\n",
    "        for i in range(x.shape[-1]):\n",
    "            plt.plot(i_future, forecast2[:, i], c=colors[i], linestyle='--')\n",
    "    return x2, y2, forecast2, i_past, i_future\n"
   ]
  },
  {
   "cell_type": "code",
   "execution_count": 39,
   "id": "768530be",
   "metadata": {
    "ExecuteTime": {
     "end_time": "2022-11-22T02:39:04.239175Z",
     "start_time": "2022-11-22T02:39:04.167600Z"
    }
   },
   "outputs": [],
   "source": [
    "\n",
    "\n",
    "def plot_multi(save_paths=[Path(\"storage/experiments/Exchange/96M/repeat=0\")], i=200, title=None, plot=True):\n",
    "    for j in range(len(save_paths)):\n",
    "        save_path = save_paths[j]\n",
    "\n",
    "        gin.clear_config()\n",
    "        gin.parse_config(open(save_path/\"config.gin\"))\n",
    "        model_name = gin.query_parameter(\"instance.model_type\")\n",
    "\n",
    "        train_set, train_loader = get_data(flag='test', batch_size=3)\n",
    "\n",
    "        model = get_model(model_name,\n",
    "                            dim_size=train_set.data_x.shape[1],\n",
    "                            datetime_feats=train_set.timestamps.shape[-1]).to(default_device())\n",
    "        model.load_state_dict(torch.load(save_path/'model.pth'))\n",
    "        model = model.eval()\n",
    "\n",
    "\n",
    "        b = train_set[i]\n",
    "        b = [bb[None, :] for bb in b]\n",
    "        \n",
    "        b = next(iter(train_loader))\n",
    "        print([s.shape for s in b])\n",
    "        \n",
    "        x, y, x_time, y_time = map(to_tensor, b)\n",
    "#         print(b)\n",
    "        with torch.no_grad():\n",
    "            forecast = model(x, x_time, y_time)\n",
    "       \n",
    "        colors = list(mcolors.BASE_COLORS.keys())\n",
    "        l = x.shape[1]\n",
    "        forecast2 = forecast[0].detach().cpu().numpy()\n",
    "        x2 = x[0].cpu()\n",
    "        y2 = y[0].cpu()\n",
    "        l2 = y.shape[1]\n",
    "        i_past = list(range(l))\n",
    "        i_future = list(range(l, l+l2))\n",
    "\n",
    "        if plot:\n",
    "            plt.plot(i_past, x2[:, 0], c=colors[0], label=f\"past\")\n",
    "            plt.plot(i_future, y2[:, 0], c=colors[0], label=\"future true\", alpha=0.3)\n",
    "            \n",
    "            mtitle = str(save_path).split('/')[-2:-1]\n",
    "            mtitle = \"-\".join(mtitle)\n",
    "            plt.plot(i_future, forecast2[:, 0], c=colors[j], linestyle='--', label=f\"{mtitle}\")\n",
    "    plt.legend()\n",
    "    plt.title(title)\n",
    "    return x2, y2, forecast2, i_past, i_future\n"
   ]
  },
  {
   "cell_type": "code",
   "execution_count": 40,
   "id": "739ee5e3",
   "metadata": {
    "ExecuteTime": {
     "end_time": "2022-11-22T02:39:04.324202Z",
     "start_time": "2022-11-22T02:39:04.306581Z"
    }
   },
   "outputs": [
    {
     "name": "stdout",
     "output_type": "stream",
     "text": [
      "[Path('storage/experiments/Stocks/96M/repeat=0/_SUCCESS'), Path('storage/experiments/Stocks/96S/repeat=0/_SUCCESS'), Path('storage/experiments/Stocks/96Splus/repeat=0/_SUCCESS'), Path('storage/experiments/Stocks/96Splusshort/repeat=0/_SUCCESS'), Path('storage/experiments/Stocks/96Sshort/repeat=0/_SUCCESS')]\n"
     ]
    }
   ],
   "source": [
    "# list the models we have run...\n",
    "m=sorted(Path(\"storage/experiments/Stocks\").glob(\"**/_SUCCESS\"))\n",
    "print(m)"
   ]
  },
  {
   "cell_type": "code",
   "execution_count": 42,
   "id": "83dca123",
   "metadata": {
    "ExecuteTime": {
     "end_time": "2022-11-22T07:05:16.231276Z",
     "start_time": "2022-11-22T07:05:15.779822Z"
    }
   },
   "outputs": [
    {
     "ename": "IndexError",
     "evalue": "only integers, slices (`:`), ellipsis (`...`), numpy.newaxis (`None`) and integer or boolean arrays are valid indices\n  In call to configurable 'ForecastDataset' (<class 'data.datasets.ForecastDataset'>)\n  In call to configurable 'get_data' (<function get_data at 0x7fb53c141160>)",
     "output_type": "error",
     "traceback": [
      "\u001b[0;31m---------------------------------------------------------------------------\u001b[0m",
      "\u001b[0;31mIndexError\u001b[0m                                Traceback (most recent call last)",
      "Cell \u001b[0;32mIn [42], line 2\u001b[0m\n\u001b[1;32m      1\u001b[0m \u001b[38;5;28;01mfor\u001b[39;00m mm \u001b[38;5;129;01min\u001b[39;00m m:\n\u001b[0;32m----> 2\u001b[0m     \u001b[43mplot_multi\u001b[49m\u001b[43m(\u001b[49m\n\u001b[1;32m      3\u001b[0m \u001b[43m               \u001b[49m\u001b[43msave_paths\u001b[49m\u001b[38;5;241;43m=\u001b[39;49m\u001b[43m[\u001b[49m\n\u001b[1;32m      4\u001b[0m \u001b[43m                   \u001b[49m\u001b[43mmm\u001b[49m\u001b[38;5;241;43m.\u001b[39;49m\u001b[43mparent\u001b[49m\n\u001b[1;32m      5\u001b[0m \u001b[43m               \u001b[49m\u001b[43m]\u001b[49m\u001b[43m,\u001b[49m\n\u001b[1;32m      6\u001b[0m \u001b[43m               \u001b[49m\u001b[43mi\u001b[49m\u001b[38;5;241;43m=\u001b[39;49m\u001b[38;5;241;43m160\u001b[39;49m\n\u001b[1;32m      7\u001b[0m \u001b[43m              \u001b[49m\u001b[43m)\u001b[49m\n\u001b[1;32m      8\u001b[0m     plt\u001b[38;5;241m.\u001b[39mshow()\n\u001b[1;32m      9\u001b[0m \u001b[38;5;241m1\u001b[39m\n",
      "Cell \u001b[0;32mIn [39], line 9\u001b[0m, in \u001b[0;36mplot_multi\u001b[0;34m(save_paths, i, title, plot)\u001b[0m\n\u001b[1;32m      6\u001b[0m gin\u001b[38;5;241m.\u001b[39mparse_config(\u001b[38;5;28mopen\u001b[39m(save_path\u001b[38;5;241m/\u001b[39m\u001b[38;5;124m\"\u001b[39m\u001b[38;5;124mconfig.gin\u001b[39m\u001b[38;5;124m\"\u001b[39m))\n\u001b[1;32m      7\u001b[0m model_name \u001b[38;5;241m=\u001b[39m gin\u001b[38;5;241m.\u001b[39mquery_parameter(\u001b[38;5;124m\"\u001b[39m\u001b[38;5;124minstance.model_type\u001b[39m\u001b[38;5;124m\"\u001b[39m)\n\u001b[0;32m----> 9\u001b[0m train_set, train_loader \u001b[38;5;241m=\u001b[39m \u001b[43mget_data\u001b[49m\u001b[43m(\u001b[49m\u001b[43mflag\u001b[49m\u001b[38;5;241;43m=\u001b[39;49m\u001b[38;5;124;43m'\u001b[39;49m\u001b[38;5;124;43mtest\u001b[39;49m\u001b[38;5;124;43m'\u001b[39;49m\u001b[43m,\u001b[49m\u001b[43m \u001b[49m\u001b[43mbatch_size\u001b[49m\u001b[38;5;241;43m=\u001b[39;49m\u001b[38;5;241;43m3\u001b[39;49m\u001b[43m)\u001b[49m\n\u001b[1;32m     11\u001b[0m model \u001b[38;5;241m=\u001b[39m get_model(model_name,\n\u001b[1;32m     12\u001b[0m                     dim_size\u001b[38;5;241m=\u001b[39mtrain_set\u001b[38;5;241m.\u001b[39mdata_x\u001b[38;5;241m.\u001b[39mshape[\u001b[38;5;241m1\u001b[39m],\n\u001b[1;32m     13\u001b[0m                     datetime_feats\u001b[38;5;241m=\u001b[39mtrain_set\u001b[38;5;241m.\u001b[39mtimestamps\u001b[38;5;241m.\u001b[39mshape[\u001b[38;5;241m-\u001b[39m\u001b[38;5;241m1\u001b[39m])\u001b[38;5;241m.\u001b[39mto(default_device())\n\u001b[1;32m     14\u001b[0m model\u001b[38;5;241m.\u001b[39mload_state_dict(torch\u001b[38;5;241m.\u001b[39mload(save_path\u001b[38;5;241m/\u001b[39m\u001b[38;5;124m'\u001b[39m\u001b[38;5;124mmodel.pth\u001b[39m\u001b[38;5;124m'\u001b[39m))\n",
      "File \u001b[0;32m~/miniforge3/envs/deeptime/lib/python3.8/site-packages/gin/config.py:1605\u001b[0m, in \u001b[0;36m_make_gin_wrapper.<locals>.gin_wrapper\u001b[0;34m(*args, **kwargs)\u001b[0m\n\u001b[1;32m   1603\u001b[0m scope_info \u001b[38;5;241m=\u001b[39m \u001b[38;5;124m\"\u001b[39m\u001b[38;5;124m in scope \u001b[39m\u001b[38;5;124m'\u001b[39m\u001b[38;5;132;01m{}\u001b[39;00m\u001b[38;5;124m'\u001b[39m\u001b[38;5;124m\"\u001b[39m\u001b[38;5;241m.\u001b[39mformat(scope_str) \u001b[38;5;28;01mif\u001b[39;00m scope_str \u001b[38;5;28;01melse\u001b[39;00m \u001b[38;5;124m'\u001b[39m\u001b[38;5;124m'\u001b[39m\n\u001b[1;32m   1604\u001b[0m err_str \u001b[38;5;241m=\u001b[39m err_str\u001b[38;5;241m.\u001b[39mformat(name, fn_or_cls, scope_info)\n\u001b[0;32m-> 1605\u001b[0m \u001b[43mutils\u001b[49m\u001b[38;5;241;43m.\u001b[39;49m\u001b[43maugment_exception_message_and_reraise\u001b[49m\u001b[43m(\u001b[49m\u001b[43me\u001b[49m\u001b[43m,\u001b[49m\u001b[43m \u001b[49m\u001b[43merr_str\u001b[49m\u001b[43m)\u001b[49m\n",
      "File \u001b[0;32m~/miniforge3/envs/deeptime/lib/python3.8/site-packages/gin/utils.py:41\u001b[0m, in \u001b[0;36maugment_exception_message_and_reraise\u001b[0;34m(exception, message)\u001b[0m\n\u001b[1;32m     39\u001b[0m proxy \u001b[38;5;241m=\u001b[39m ExceptionProxy()\n\u001b[1;32m     40\u001b[0m ExceptionProxy\u001b[38;5;241m.\u001b[39m\u001b[38;5;18m__qualname__\u001b[39m \u001b[38;5;241m=\u001b[39m \u001b[38;5;28mtype\u001b[39m(exception)\u001b[38;5;241m.\u001b[39m\u001b[38;5;18m__qualname__\u001b[39m\n\u001b[0;32m---> 41\u001b[0m \u001b[38;5;28;01mraise\u001b[39;00m proxy\u001b[38;5;241m.\u001b[39mwith_traceback(exception\u001b[38;5;241m.\u001b[39m__traceback__) \u001b[38;5;28;01mfrom\u001b[39;00m \u001b[38;5;28mNone\u001b[39m\n",
      "File \u001b[0;32m~/miniforge3/envs/deeptime/lib/python3.8/site-packages/gin/config.py:1582\u001b[0m, in \u001b[0;36m_make_gin_wrapper.<locals>.gin_wrapper\u001b[0;34m(*args, **kwargs)\u001b[0m\n\u001b[1;32m   1579\u001b[0m new_kwargs\u001b[38;5;241m.\u001b[39mupdate(kwargs)\n\u001b[1;32m   1581\u001b[0m \u001b[38;5;28;01mtry\u001b[39;00m:\n\u001b[0;32m-> 1582\u001b[0m   \u001b[38;5;28;01mreturn\u001b[39;00m \u001b[43mfn\u001b[49m\u001b[43m(\u001b[49m\u001b[38;5;241;43m*\u001b[39;49m\u001b[43mnew_args\u001b[49m\u001b[43m,\u001b[49m\u001b[43m \u001b[49m\u001b[38;5;241;43m*\u001b[39;49m\u001b[38;5;241;43m*\u001b[39;49m\u001b[43mnew_kwargs\u001b[49m\u001b[43m)\u001b[49m\n\u001b[1;32m   1583\u001b[0m \u001b[38;5;28;01mexcept\u001b[39;00m \u001b[38;5;167;01mException\u001b[39;00m \u001b[38;5;28;01mas\u001b[39;00m e:  \u001b[38;5;66;03m# pylint: disable=broad-except\u001b[39;00m\n\u001b[1;32m   1584\u001b[0m   err_str \u001b[38;5;241m=\u001b[39m \u001b[38;5;124m'\u001b[39m\u001b[38;5;124m'\u001b[39m\n",
      "File \u001b[0;32m/media/wassname/SGIronWolf/projects5/investing/DeepTime/experiments/forecast.py:115\u001b[0m, in \u001b[0;36mget_data\u001b[0;34m(flag, batch_size)\u001b[0m\n\u001b[1;32m    113\u001b[0m \u001b[38;5;28;01melse\u001b[39;00m:\n\u001b[1;32m    114\u001b[0m     \u001b[38;5;28;01mraise\u001b[39;00m \u001b[38;5;167;01mValueError\u001b[39;00m(\u001b[38;5;124mf\u001b[39m\u001b[38;5;124m'\u001b[39m\u001b[38;5;124mno such flag \u001b[39m\u001b[38;5;132;01m{\u001b[39;00mflag\u001b[38;5;132;01m}\u001b[39;00m\u001b[38;5;124m'\u001b[39m)\n\u001b[0;32m--> 115\u001b[0m dataset \u001b[38;5;241m=\u001b[39m \u001b[43mForecastDataset\u001b[49m\u001b[43m(\u001b[49m\u001b[43mflag\u001b[49m\u001b[43m)\u001b[49m\n\u001b[1;32m    116\u001b[0m data_loader \u001b[38;5;241m=\u001b[39m DataLoader(dataset,\n\u001b[1;32m    117\u001b[0m                          batch_size\u001b[38;5;241m=\u001b[39mbatch_size,\n\u001b[1;32m    118\u001b[0m                          shuffle\u001b[38;5;241m=\u001b[39mshuffle,\n\u001b[1;32m    119\u001b[0m                          drop_last\u001b[38;5;241m=\u001b[39mdrop_last)\n\u001b[1;32m    120\u001b[0m \u001b[38;5;28;01mreturn\u001b[39;00m dataset, data_loader\n",
      "File \u001b[0;32m~/miniforge3/envs/deeptime/lib/python3.8/site-packages/gin/config.py:1605\u001b[0m, in \u001b[0;36m_make_gin_wrapper.<locals>.gin_wrapper\u001b[0;34m(*args, **kwargs)\u001b[0m\n\u001b[1;32m   1603\u001b[0m scope_info \u001b[38;5;241m=\u001b[39m \u001b[38;5;124m\"\u001b[39m\u001b[38;5;124m in scope \u001b[39m\u001b[38;5;124m'\u001b[39m\u001b[38;5;132;01m{}\u001b[39;00m\u001b[38;5;124m'\u001b[39m\u001b[38;5;124m\"\u001b[39m\u001b[38;5;241m.\u001b[39mformat(scope_str) \u001b[38;5;28;01mif\u001b[39;00m scope_str \u001b[38;5;28;01melse\u001b[39;00m \u001b[38;5;124m'\u001b[39m\u001b[38;5;124m'\u001b[39m\n\u001b[1;32m   1604\u001b[0m err_str \u001b[38;5;241m=\u001b[39m err_str\u001b[38;5;241m.\u001b[39mformat(name, fn_or_cls, scope_info)\n\u001b[0;32m-> 1605\u001b[0m \u001b[43mutils\u001b[49m\u001b[38;5;241;43m.\u001b[39;49m\u001b[43maugment_exception_message_and_reraise\u001b[49m\u001b[43m(\u001b[49m\u001b[43me\u001b[49m\u001b[43m,\u001b[49m\u001b[43m \u001b[49m\u001b[43merr_str\u001b[49m\u001b[43m)\u001b[49m\n",
      "File \u001b[0;32m~/miniforge3/envs/deeptime/lib/python3.8/site-packages/gin/utils.py:41\u001b[0m, in \u001b[0;36maugment_exception_message_and_reraise\u001b[0;34m(exception, message)\u001b[0m\n\u001b[1;32m     39\u001b[0m proxy \u001b[38;5;241m=\u001b[39m ExceptionProxy()\n\u001b[1;32m     40\u001b[0m ExceptionProxy\u001b[38;5;241m.\u001b[39m\u001b[38;5;18m__qualname__\u001b[39m \u001b[38;5;241m=\u001b[39m \u001b[38;5;28mtype\u001b[39m(exception)\u001b[38;5;241m.\u001b[39m\u001b[38;5;18m__qualname__\u001b[39m\n\u001b[0;32m---> 41\u001b[0m \u001b[38;5;28;01mraise\u001b[39;00m proxy\u001b[38;5;241m.\u001b[39mwith_traceback(exception\u001b[38;5;241m.\u001b[39m__traceback__) \u001b[38;5;28;01mfrom\u001b[39;00m \u001b[38;5;28mNone\u001b[39m\n",
      "File \u001b[0;32m~/miniforge3/envs/deeptime/lib/python3.8/site-packages/gin/config.py:1582\u001b[0m, in \u001b[0;36m_make_gin_wrapper.<locals>.gin_wrapper\u001b[0;34m(*args, **kwargs)\u001b[0m\n\u001b[1;32m   1579\u001b[0m new_kwargs\u001b[38;5;241m.\u001b[39mupdate(kwargs)\n\u001b[1;32m   1581\u001b[0m \u001b[38;5;28;01mtry\u001b[39;00m:\n\u001b[0;32m-> 1582\u001b[0m   \u001b[38;5;28;01mreturn\u001b[39;00m \u001b[43mfn\u001b[49m\u001b[43m(\u001b[49m\u001b[38;5;241;43m*\u001b[39;49m\u001b[43mnew_args\u001b[49m\u001b[43m,\u001b[49m\u001b[43m \u001b[49m\u001b[38;5;241;43m*\u001b[39;49m\u001b[38;5;241;43m*\u001b[39;49m\u001b[43mnew_kwargs\u001b[49m\u001b[43m)\u001b[49m\n\u001b[1;32m   1583\u001b[0m \u001b[38;5;28;01mexcept\u001b[39;00m \u001b[38;5;167;01mException\u001b[39;00m \u001b[38;5;28;01mas\u001b[39;00m e:  \u001b[38;5;66;03m# pylint: disable=broad-except\u001b[39;00m\n\u001b[1;32m   1584\u001b[0m   err_str \u001b[38;5;241m=\u001b[39m \u001b[38;5;124m'\u001b[39m\u001b[38;5;124m'\u001b[39m\n",
      "File \u001b[0;32m/media/wassname/SGIronWolf/projects5/investing/DeepTime/data/datasets.py:71\u001b[0m, in \u001b[0;36mForecastDataset.__init__\u001b[0;34m(self, flag, horizon_len, scale, cross_learn, data_path, root_path, features, target, lookback_len, lookback_aux_len, lookback_mult, time_features, normalise_time_features)\u001b[0m\n\u001b[1;32m     69\u001b[0m \u001b[38;5;28mself\u001b[39m\u001b[38;5;241m.\u001b[39mtimestamps \u001b[38;5;241m=\u001b[39m \u001b[38;5;28;01mNone\u001b[39;00m\n\u001b[1;32m     70\u001b[0m \u001b[38;5;28mself\u001b[39m\u001b[38;5;241m.\u001b[39mn_time \u001b[38;5;241m=\u001b[39m \u001b[38;5;28;01mNone\u001b[39;00m\n\u001b[0;32m---> 71\u001b[0m \u001b[38;5;28mself\u001b[39m\u001b[38;5;241m.\u001b[39mn_time_samples \u001b[38;5;241m=\u001b[39m \u001b[38;5;28;01mNone\u001b[39;00m\n\u001b[1;32m     72\u001b[0m \u001b[38;5;28mself\u001b[39m\u001b[38;5;241m.\u001b[39mload_data()\n",
      "File \u001b[0;32m/media/wassname/SGIronWolf/projects5/investing/DeepTime/data/datasets.py:105\u001b[0m, in \u001b[0;36mForecastDataset.load_data\u001b[0;34m(self)\u001b[0m\n\u001b[1;32m    103\u001b[0m \u001b[38;5;28mself\u001b[39m\u001b[38;5;241m.\u001b[39mdata_x \u001b[38;5;241m=\u001b[39m data[border1:border2] \n\u001b[1;32m    104\u001b[0m \u001b[38;5;66;03m# y is just the col we predict\u001b[39;00m\n\u001b[0;32m--> 105\u001b[0m \u001b[38;5;28mself\u001b[39m\u001b[38;5;241m.\u001b[39mdata_y \u001b[38;5;241m=\u001b[39m \u001b[43mdata\u001b[49m\u001b[43m[\u001b[49m\u001b[43mborder1\u001b[49m\u001b[43m:\u001b[49m\u001b[43mborder2\u001b[49m\u001b[43m]\u001b[49m\u001b[43m[\u001b[49m\u001b[43m[\u001b[49m\u001b[38;5;28;43mself\u001b[39;49m\u001b[38;5;241;43m.\u001b[39;49m\u001b[43mtarget\u001b[49m\u001b[43m]\u001b[49m\u001b[43m]\u001b[49m\n\u001b[1;32m    106\u001b[0m \u001b[38;5;28mself\u001b[39m\u001b[38;5;241m.\u001b[39mtimestamps \u001b[38;5;241m=\u001b[39m get_time_features(pd\u001b[38;5;241m.\u001b[39mto_datetime(df_raw\u001b[38;5;241m.\u001b[39mdate[border1:border2]\u001b[38;5;241m.\u001b[39mvalues),\n\u001b[1;32m    107\u001b[0m                                     normalise\u001b[38;5;241m=\u001b[39m\u001b[38;5;28mself\u001b[39m\u001b[38;5;241m.\u001b[39mnormalise_time_features,\n\u001b[1;32m    108\u001b[0m                                     features\u001b[38;5;241m=\u001b[39m\u001b[38;5;28mself\u001b[39m\u001b[38;5;241m.\u001b[39mtime_features)\n\u001b[1;32m    109\u001b[0m \u001b[38;5;28mself\u001b[39m\u001b[38;5;241m.\u001b[39mn_time \u001b[38;5;241m=\u001b[39m \u001b[38;5;28mlen\u001b[39m(\u001b[38;5;28mself\u001b[39m\u001b[38;5;241m.\u001b[39mdata_x)\n",
      "\u001b[0;31mIndexError\u001b[0m: only integers, slices (`:`), ellipsis (`...`), numpy.newaxis (`None`) and integer or boolean arrays are valid indices\n  In call to configurable 'ForecastDataset' (<class 'data.datasets.ForecastDataset'>)\n  In call to configurable 'get_data' (<function get_data at 0x7fb53c141160>)"
     ]
    }
   ],
   "source": [
    "for mm in m:\n",
    "    plot_multi(\n",
    "               save_paths=[\n",
    "                   mm.parent\n",
    "               ],\n",
    "               i=160\n",
    "              )\n",
    "    plt.show()\n",
    "1"
   ]
  },
  {
   "cell_type": "code",
   "execution_count": 49,
   "id": "cfc602db",
   "metadata": {
    "ExecuteTime": {
     "end_time": "2022-11-22T07:08:30.855574Z",
     "start_time": "2022-11-22T07:08:30.549156Z"
    }
   },
   "outputs": [
    {
     "ename": "AttributeError",
     "evalue": "",
     "output_type": "error",
     "traceback": [
      "\u001b[0;31m---------------------------------------------------------------------------\u001b[0m",
      "\u001b[0;31mAttributeError\u001b[0m                            Traceback (most recent call last)",
      "Cell \u001b[0;32mIn [49], line 1\u001b[0m\n\u001b[0;32m----> 1\u001b[0m \u001b[43mplot_multi\u001b[49m\u001b[43m(\u001b[49m\n\u001b[1;32m      2\u001b[0m \u001b[43m           \u001b[49m\u001b[43msave_paths\u001b[49m\u001b[38;5;241;43m=\u001b[39;49m\u001b[43m[\u001b[49m\n\u001b[1;32m      3\u001b[0m \u001b[43m               \u001b[49m\u001b[43mPath\u001b[49m\u001b[43m(\u001b[49m\u001b[38;5;124;43m\"\u001b[39;49m\u001b[38;5;124;43mstorage/experiments/Stocks/96M/repeat=0\u001b[39;49m\u001b[38;5;124;43m\"\u001b[39;49m\u001b[43m)\u001b[49m\u001b[43m,\u001b[49m\n\u001b[1;32m      4\u001b[0m \u001b[38;5;66;43;03m#                Path(\"storage/experiments/Stocks/96Mplus/repeat=0\"),\u001b[39;49;00m\n\u001b[1;32m      5\u001b[0m \u001b[43m           \u001b[49m\u001b[43m]\u001b[49m\u001b[43m,\u001b[49m\n\u001b[1;32m      6\u001b[0m \u001b[43m           \u001b[49m\u001b[43mi\u001b[49m\u001b[38;5;241;43m=\u001b[39;49m\u001b[38;5;241;43m60\u001b[39;49m\n\u001b[1;32m      7\u001b[0m \u001b[43m          \u001b[49m\u001b[43m)\u001b[49m\n\u001b[1;32m      8\u001b[0m \u001b[38;5;241m1\u001b[39m\n",
      "Cell \u001b[0;32mIn [39], line 18\u001b[0m, in \u001b[0;36mplot_multi\u001b[0;34m(save_paths, i, title, plot)\u001b[0m\n\u001b[1;32m     14\u001b[0m model\u001b[38;5;241m.\u001b[39mload_state_dict(torch\u001b[38;5;241m.\u001b[39mload(save_path\u001b[38;5;241m/\u001b[39m\u001b[38;5;124m'\u001b[39m\u001b[38;5;124mmodel.pth\u001b[39m\u001b[38;5;124m'\u001b[39m))\n\u001b[1;32m     15\u001b[0m model \u001b[38;5;241m=\u001b[39m model\u001b[38;5;241m.\u001b[39meval()\n\u001b[0;32m---> 18\u001b[0m b \u001b[38;5;241m=\u001b[39m \u001b[43mtrain_set\u001b[49m\u001b[43m[\u001b[49m\u001b[43mi\u001b[49m\u001b[43m]\u001b[49m\n\u001b[1;32m     19\u001b[0m b \u001b[38;5;241m=\u001b[39m [bb[\u001b[38;5;28;01mNone\u001b[39;00m, :] \u001b[38;5;28;01mfor\u001b[39;00m bb \u001b[38;5;129;01min\u001b[39;00m b]\n\u001b[1;32m     21\u001b[0m b \u001b[38;5;241m=\u001b[39m \u001b[38;5;28mnext\u001b[39m(\u001b[38;5;28miter\u001b[39m(train_loader))\n",
      "File \u001b[0;32m/media/wassname/SGIronWolf/projects5/investing/DeepTime/data/datasets.py:145\u001b[0m, in \u001b[0;36mForecastDataset.__getitem__\u001b[0;34m(self, idx)\u001b[0m\n\u001b[1;32m    143\u001b[0m cx_start \u001b[38;5;241m=\u001b[39m idx\n\u001b[1;32m    144\u001b[0m cx_end \u001b[38;5;241m=\u001b[39m cx_start \u001b[38;5;241m+\u001b[39m \u001b[38;5;28mself\u001b[39m\u001b[38;5;241m.\u001b[39mlookback_len\n\u001b[0;32m--> 145\u001b[0m c_start \u001b[38;5;241m=\u001b[39m cx_end \u001b[38;5;241m+\u001b[39m \u001b[38;5;28;43mself\u001b[39;49m\u001b[38;5;241;43m.\u001b[39;49m\u001b[43mgap\u001b[49m\n\u001b[1;32m    146\u001b[0m c_end \u001b[38;5;241m=\u001b[39m c_start \u001b[38;5;241m+\u001b[39m \u001b[38;5;28mself\u001b[39m\u001b[38;5;241m.\u001b[39mhorizon_len\n\u001b[1;32m    148\u001b[0m qx_start \u001b[38;5;241m=\u001b[39m cx_end \u001b[38;5;241m+\u001b[39m \u001b[38;5;28mself\u001b[39m\u001b[38;5;241m.\u001b[39mgap\n",
      "File \u001b[0;32m~/miniforge3/envs/deeptime/lib/python3.8/site-packages/torch/utils/data/dataset.py:83\u001b[0m, in \u001b[0;36mDataset.__getattr__\u001b[0;34m(self, attribute_name)\u001b[0m\n\u001b[1;32m     81\u001b[0m     \u001b[38;5;28;01mreturn\u001b[39;00m function\n\u001b[1;32m     82\u001b[0m \u001b[38;5;28;01melse\u001b[39;00m:\n\u001b[0;32m---> 83\u001b[0m     \u001b[38;5;28;01mraise\u001b[39;00m \u001b[38;5;167;01mAttributeError\u001b[39;00m\n",
      "\u001b[0;31mAttributeError\u001b[0m: "
     ]
    }
   ],
   "source": [
    "plot_multi(\n",
    "           save_paths=[\n",
    "               Path(\"storage/experiments/Stocks/96M/repeat=0\"),\n",
    "#                Path(\"storage/experiments/Stocks/96Mplus/repeat=0\"),\n",
    "           ],\n",
    "           i=60\n",
    "          )\n",
    "1"
   ]
  },
  {
   "cell_type": "code",
   "execution_count": 50,
   "id": "b3b005c0",
   "metadata": {
    "ExecuteTime": {
     "end_time": "2022-11-22T07:08:43.569996Z",
     "start_time": "2022-11-22T07:08:39.011776Z"
    }
   },
   "outputs": [
    {
     "name": "stdout",
     "output_type": "stream",
     "text": [
      "> \u001b[0;32m/home/wassname/miniforge3/envs/deeptime/lib/python3.8/site-packages/torch/utils/data/dataset.py\u001b[0m(83)\u001b[0;36m__getattr__\u001b[0;34m()\u001b[0m\n",
      "\u001b[0;32m     81 \u001b[0;31m            \u001b[0;32mreturn\u001b[0m \u001b[0mfunction\u001b[0m\u001b[0;34m\u001b[0m\u001b[0;34m\u001b[0m\u001b[0m\n",
      "\u001b[0m\u001b[0;32m     82 \u001b[0;31m        \u001b[0;32melse\u001b[0m\u001b[0;34m:\u001b[0m\u001b[0;34m\u001b[0m\u001b[0;34m\u001b[0m\u001b[0m\n",
      "\u001b[0m\u001b[0;32m---> 83 \u001b[0;31m            \u001b[0;32mraise\u001b[0m \u001b[0mAttributeError\u001b[0m\u001b[0;34m\u001b[0m\u001b[0;34m\u001b[0m\u001b[0m\n",
      "\u001b[0m\u001b[0;32m     84 \u001b[0;31m\u001b[0;34m\u001b[0m\u001b[0m\n",
      "\u001b[0m\u001b[0;32m     85 \u001b[0;31m    \u001b[0;34m@\u001b[0m\u001b[0mclassmethod\u001b[0m\u001b[0;34m\u001b[0m\u001b[0;34m\u001b[0m\u001b[0m\n",
      "\u001b[0m\n",
      "ipdb> u\n",
      "> \u001b[0;32m/media/wassname/SGIronWolf/projects5/investing/DeepTime/data/datasets.py\u001b[0m(145)\u001b[0;36m__getitem__\u001b[0;34m()\u001b[0m\n",
      "\u001b[0;32m    143 \u001b[0;31m        \u001b[0mcx_start\u001b[0m \u001b[0;34m=\u001b[0m \u001b[0midx\u001b[0m\u001b[0;34m\u001b[0m\u001b[0;34m\u001b[0m\u001b[0m\n",
      "\u001b[0m\u001b[0;32m    144 \u001b[0;31m        \u001b[0mcx_end\u001b[0m \u001b[0;34m=\u001b[0m \u001b[0mcx_start\u001b[0m \u001b[0;34m+\u001b[0m \u001b[0mself\u001b[0m\u001b[0;34m.\u001b[0m\u001b[0mlookback_len\u001b[0m\u001b[0;34m\u001b[0m\u001b[0;34m\u001b[0m\u001b[0m\n",
      "\u001b[0m\u001b[0;32m--> 145 \u001b[0;31m        \u001b[0mc_start\u001b[0m \u001b[0;34m=\u001b[0m \u001b[0mcx_end\u001b[0m \u001b[0;34m+\u001b[0m \u001b[0mself\u001b[0m\u001b[0;34m.\u001b[0m\u001b[0mgap\u001b[0m\u001b[0;34m\u001b[0m\u001b[0;34m\u001b[0m\u001b[0m\n",
      "\u001b[0m\u001b[0;32m    146 \u001b[0;31m        \u001b[0mc_end\u001b[0m \u001b[0;34m=\u001b[0m \u001b[0mc_start\u001b[0m \u001b[0;34m+\u001b[0m \u001b[0mself\u001b[0m\u001b[0;34m.\u001b[0m\u001b[0mhorizon_len\u001b[0m\u001b[0;34m\u001b[0m\u001b[0;34m\u001b[0m\u001b[0m\n",
      "\u001b[0m\u001b[0;32m    147 \u001b[0;31m\u001b[0;34m\u001b[0m\u001b[0m\n",
      "\u001b[0m\n",
      "ipdb> self.gap\n",
      "*** AttributeError\n",
      "ipdb> q\n"
     ]
    }
   ],
   "source": [
    "%debug"
   ]
  },
  {
   "cell_type": "code",
   "execution_count": 43,
   "id": "b8843217",
   "metadata": {
    "ExecuteTime": {
     "end_time": "2022-11-22T07:05:18.277499Z",
     "start_time": "2022-11-22T07:05:18.146297Z"
    }
   },
   "outputs": [
    {
     "ename": "IndexError",
     "evalue": "only integers, slices (`:`), ellipsis (`...`), numpy.newaxis (`None`) and integer or boolean arrays are valid indices\n  In call to configurable 'ForecastDataset' (<class 'data.datasets.ForecastDataset'>)\n  In call to configurable 'get_data' (<function get_data at 0x7fb53c141160>)",
     "output_type": "error",
     "traceback": [
      "\u001b[0;31m---------------------------------------------------------------------------\u001b[0m",
      "\u001b[0;31mIndexError\u001b[0m                                Traceback (most recent call last)",
      "Cell \u001b[0;32mIn [43], line 1\u001b[0m\n\u001b[0;32m----> 1\u001b[0m \u001b[43mplot_multi\u001b[49m\u001b[43m(\u001b[49m\n\u001b[1;32m      2\u001b[0m \u001b[43m           \u001b[49m\u001b[43msave_paths\u001b[49m\u001b[38;5;241;43m=\u001b[39;49m\u001b[43m[\u001b[49m\n\u001b[1;32m      3\u001b[0m \u001b[43m               \u001b[49m\u001b[43mPath\u001b[49m\u001b[43m(\u001b[49m\u001b[38;5;124;43m\"\u001b[39;49m\u001b[38;5;124;43mstorage/experiments/Stocks/96S/repeat=0\u001b[39;49m\u001b[38;5;124;43m\"\u001b[39;49m\u001b[43m)\u001b[49m\u001b[43m,\u001b[49m\n\u001b[1;32m      4\u001b[0m \u001b[43m               \u001b[49m\u001b[43mPath\u001b[49m\u001b[43m(\u001b[49m\u001b[38;5;124;43m\"\u001b[39;49m\u001b[38;5;124;43mstorage/experiments/Stocks/96Splus/repeat=0\u001b[39;49m\u001b[38;5;124;43m\"\u001b[39;49m\u001b[43m)\u001b[49m\u001b[43m,\u001b[49m\n\u001b[1;32m      5\u001b[0m \u001b[43m           \u001b[49m\u001b[43m]\u001b[49m\u001b[43m,\u001b[49m\n\u001b[1;32m      6\u001b[0m \u001b[43m           \u001b[49m\u001b[43mi\u001b[49m\u001b[38;5;241;43m=\u001b[39;49m\u001b[38;5;241;43m60\u001b[39;49m\n\u001b[1;32m      7\u001b[0m \u001b[43m          \u001b[49m\u001b[43m)\u001b[49m\n\u001b[1;32m      8\u001b[0m \u001b[38;5;241m1\u001b[39m\n",
      "Cell \u001b[0;32mIn [39], line 9\u001b[0m, in \u001b[0;36mplot_multi\u001b[0;34m(save_paths, i, title, plot)\u001b[0m\n\u001b[1;32m      6\u001b[0m gin\u001b[38;5;241m.\u001b[39mparse_config(\u001b[38;5;28mopen\u001b[39m(save_path\u001b[38;5;241m/\u001b[39m\u001b[38;5;124m\"\u001b[39m\u001b[38;5;124mconfig.gin\u001b[39m\u001b[38;5;124m\"\u001b[39m))\n\u001b[1;32m      7\u001b[0m model_name \u001b[38;5;241m=\u001b[39m gin\u001b[38;5;241m.\u001b[39mquery_parameter(\u001b[38;5;124m\"\u001b[39m\u001b[38;5;124minstance.model_type\u001b[39m\u001b[38;5;124m\"\u001b[39m)\n\u001b[0;32m----> 9\u001b[0m train_set, train_loader \u001b[38;5;241m=\u001b[39m \u001b[43mget_data\u001b[49m\u001b[43m(\u001b[49m\u001b[43mflag\u001b[49m\u001b[38;5;241;43m=\u001b[39;49m\u001b[38;5;124;43m'\u001b[39;49m\u001b[38;5;124;43mtest\u001b[39;49m\u001b[38;5;124;43m'\u001b[39;49m\u001b[43m,\u001b[49m\u001b[43m \u001b[49m\u001b[43mbatch_size\u001b[49m\u001b[38;5;241;43m=\u001b[39;49m\u001b[38;5;241;43m3\u001b[39;49m\u001b[43m)\u001b[49m\n\u001b[1;32m     11\u001b[0m model \u001b[38;5;241m=\u001b[39m get_model(model_name,\n\u001b[1;32m     12\u001b[0m                     dim_size\u001b[38;5;241m=\u001b[39mtrain_set\u001b[38;5;241m.\u001b[39mdata_x\u001b[38;5;241m.\u001b[39mshape[\u001b[38;5;241m1\u001b[39m],\n\u001b[1;32m     13\u001b[0m                     datetime_feats\u001b[38;5;241m=\u001b[39mtrain_set\u001b[38;5;241m.\u001b[39mtimestamps\u001b[38;5;241m.\u001b[39mshape[\u001b[38;5;241m-\u001b[39m\u001b[38;5;241m1\u001b[39m])\u001b[38;5;241m.\u001b[39mto(default_device())\n\u001b[1;32m     14\u001b[0m model\u001b[38;5;241m.\u001b[39mload_state_dict(torch\u001b[38;5;241m.\u001b[39mload(save_path\u001b[38;5;241m/\u001b[39m\u001b[38;5;124m'\u001b[39m\u001b[38;5;124mmodel.pth\u001b[39m\u001b[38;5;124m'\u001b[39m))\n",
      "File \u001b[0;32m~/miniforge3/envs/deeptime/lib/python3.8/site-packages/gin/config.py:1605\u001b[0m, in \u001b[0;36m_make_gin_wrapper.<locals>.gin_wrapper\u001b[0;34m(*args, **kwargs)\u001b[0m\n\u001b[1;32m   1603\u001b[0m scope_info \u001b[38;5;241m=\u001b[39m \u001b[38;5;124m\"\u001b[39m\u001b[38;5;124m in scope \u001b[39m\u001b[38;5;124m'\u001b[39m\u001b[38;5;132;01m{}\u001b[39;00m\u001b[38;5;124m'\u001b[39m\u001b[38;5;124m\"\u001b[39m\u001b[38;5;241m.\u001b[39mformat(scope_str) \u001b[38;5;28;01mif\u001b[39;00m scope_str \u001b[38;5;28;01melse\u001b[39;00m \u001b[38;5;124m'\u001b[39m\u001b[38;5;124m'\u001b[39m\n\u001b[1;32m   1604\u001b[0m err_str \u001b[38;5;241m=\u001b[39m err_str\u001b[38;5;241m.\u001b[39mformat(name, fn_or_cls, scope_info)\n\u001b[0;32m-> 1605\u001b[0m \u001b[43mutils\u001b[49m\u001b[38;5;241;43m.\u001b[39;49m\u001b[43maugment_exception_message_and_reraise\u001b[49m\u001b[43m(\u001b[49m\u001b[43me\u001b[49m\u001b[43m,\u001b[49m\u001b[43m \u001b[49m\u001b[43merr_str\u001b[49m\u001b[43m)\u001b[49m\n",
      "File \u001b[0;32m~/miniforge3/envs/deeptime/lib/python3.8/site-packages/gin/utils.py:41\u001b[0m, in \u001b[0;36maugment_exception_message_and_reraise\u001b[0;34m(exception, message)\u001b[0m\n\u001b[1;32m     39\u001b[0m proxy \u001b[38;5;241m=\u001b[39m ExceptionProxy()\n\u001b[1;32m     40\u001b[0m ExceptionProxy\u001b[38;5;241m.\u001b[39m\u001b[38;5;18m__qualname__\u001b[39m \u001b[38;5;241m=\u001b[39m \u001b[38;5;28mtype\u001b[39m(exception)\u001b[38;5;241m.\u001b[39m\u001b[38;5;18m__qualname__\u001b[39m\n\u001b[0;32m---> 41\u001b[0m \u001b[38;5;28;01mraise\u001b[39;00m proxy\u001b[38;5;241m.\u001b[39mwith_traceback(exception\u001b[38;5;241m.\u001b[39m__traceback__) \u001b[38;5;28;01mfrom\u001b[39;00m \u001b[38;5;28mNone\u001b[39m\n",
      "File \u001b[0;32m~/miniforge3/envs/deeptime/lib/python3.8/site-packages/gin/config.py:1582\u001b[0m, in \u001b[0;36m_make_gin_wrapper.<locals>.gin_wrapper\u001b[0;34m(*args, **kwargs)\u001b[0m\n\u001b[1;32m   1579\u001b[0m new_kwargs\u001b[38;5;241m.\u001b[39mupdate(kwargs)\n\u001b[1;32m   1581\u001b[0m \u001b[38;5;28;01mtry\u001b[39;00m:\n\u001b[0;32m-> 1582\u001b[0m   \u001b[38;5;28;01mreturn\u001b[39;00m \u001b[43mfn\u001b[49m\u001b[43m(\u001b[49m\u001b[38;5;241;43m*\u001b[39;49m\u001b[43mnew_args\u001b[49m\u001b[43m,\u001b[49m\u001b[43m \u001b[49m\u001b[38;5;241;43m*\u001b[39;49m\u001b[38;5;241;43m*\u001b[39;49m\u001b[43mnew_kwargs\u001b[49m\u001b[43m)\u001b[49m\n\u001b[1;32m   1583\u001b[0m \u001b[38;5;28;01mexcept\u001b[39;00m \u001b[38;5;167;01mException\u001b[39;00m \u001b[38;5;28;01mas\u001b[39;00m e:  \u001b[38;5;66;03m# pylint: disable=broad-except\u001b[39;00m\n\u001b[1;32m   1584\u001b[0m   err_str \u001b[38;5;241m=\u001b[39m \u001b[38;5;124m'\u001b[39m\u001b[38;5;124m'\u001b[39m\n",
      "File \u001b[0;32m/media/wassname/SGIronWolf/projects5/investing/DeepTime/experiments/forecast.py:115\u001b[0m, in \u001b[0;36mget_data\u001b[0;34m(flag, batch_size)\u001b[0m\n\u001b[1;32m    113\u001b[0m \u001b[38;5;28;01melse\u001b[39;00m:\n\u001b[1;32m    114\u001b[0m     \u001b[38;5;28;01mraise\u001b[39;00m \u001b[38;5;167;01mValueError\u001b[39;00m(\u001b[38;5;124mf\u001b[39m\u001b[38;5;124m'\u001b[39m\u001b[38;5;124mno such flag \u001b[39m\u001b[38;5;132;01m{\u001b[39;00mflag\u001b[38;5;132;01m}\u001b[39;00m\u001b[38;5;124m'\u001b[39m)\n\u001b[0;32m--> 115\u001b[0m dataset \u001b[38;5;241m=\u001b[39m \u001b[43mForecastDataset\u001b[49m\u001b[43m(\u001b[49m\u001b[43mflag\u001b[49m\u001b[43m)\u001b[49m\n\u001b[1;32m    116\u001b[0m data_loader \u001b[38;5;241m=\u001b[39m DataLoader(dataset,\n\u001b[1;32m    117\u001b[0m                          batch_size\u001b[38;5;241m=\u001b[39mbatch_size,\n\u001b[1;32m    118\u001b[0m                          shuffle\u001b[38;5;241m=\u001b[39mshuffle,\n\u001b[1;32m    119\u001b[0m                          drop_last\u001b[38;5;241m=\u001b[39mdrop_last)\n\u001b[1;32m    120\u001b[0m \u001b[38;5;28;01mreturn\u001b[39;00m dataset, data_loader\n",
      "File \u001b[0;32m~/miniforge3/envs/deeptime/lib/python3.8/site-packages/gin/config.py:1605\u001b[0m, in \u001b[0;36m_make_gin_wrapper.<locals>.gin_wrapper\u001b[0;34m(*args, **kwargs)\u001b[0m\n\u001b[1;32m   1603\u001b[0m scope_info \u001b[38;5;241m=\u001b[39m \u001b[38;5;124m\"\u001b[39m\u001b[38;5;124m in scope \u001b[39m\u001b[38;5;124m'\u001b[39m\u001b[38;5;132;01m{}\u001b[39;00m\u001b[38;5;124m'\u001b[39m\u001b[38;5;124m\"\u001b[39m\u001b[38;5;241m.\u001b[39mformat(scope_str) \u001b[38;5;28;01mif\u001b[39;00m scope_str \u001b[38;5;28;01melse\u001b[39;00m \u001b[38;5;124m'\u001b[39m\u001b[38;5;124m'\u001b[39m\n\u001b[1;32m   1604\u001b[0m err_str \u001b[38;5;241m=\u001b[39m err_str\u001b[38;5;241m.\u001b[39mformat(name, fn_or_cls, scope_info)\n\u001b[0;32m-> 1605\u001b[0m \u001b[43mutils\u001b[49m\u001b[38;5;241;43m.\u001b[39;49m\u001b[43maugment_exception_message_and_reraise\u001b[49m\u001b[43m(\u001b[49m\u001b[43me\u001b[49m\u001b[43m,\u001b[49m\u001b[43m \u001b[49m\u001b[43merr_str\u001b[49m\u001b[43m)\u001b[49m\n",
      "File \u001b[0;32m~/miniforge3/envs/deeptime/lib/python3.8/site-packages/gin/utils.py:41\u001b[0m, in \u001b[0;36maugment_exception_message_and_reraise\u001b[0;34m(exception, message)\u001b[0m\n\u001b[1;32m     39\u001b[0m proxy \u001b[38;5;241m=\u001b[39m ExceptionProxy()\n\u001b[1;32m     40\u001b[0m ExceptionProxy\u001b[38;5;241m.\u001b[39m\u001b[38;5;18m__qualname__\u001b[39m \u001b[38;5;241m=\u001b[39m \u001b[38;5;28mtype\u001b[39m(exception)\u001b[38;5;241m.\u001b[39m\u001b[38;5;18m__qualname__\u001b[39m\n\u001b[0;32m---> 41\u001b[0m \u001b[38;5;28;01mraise\u001b[39;00m proxy\u001b[38;5;241m.\u001b[39mwith_traceback(exception\u001b[38;5;241m.\u001b[39m__traceback__) \u001b[38;5;28;01mfrom\u001b[39;00m \u001b[38;5;28mNone\u001b[39m\n",
      "File \u001b[0;32m~/miniforge3/envs/deeptime/lib/python3.8/site-packages/gin/config.py:1582\u001b[0m, in \u001b[0;36m_make_gin_wrapper.<locals>.gin_wrapper\u001b[0;34m(*args, **kwargs)\u001b[0m\n\u001b[1;32m   1579\u001b[0m new_kwargs\u001b[38;5;241m.\u001b[39mupdate(kwargs)\n\u001b[1;32m   1581\u001b[0m \u001b[38;5;28;01mtry\u001b[39;00m:\n\u001b[0;32m-> 1582\u001b[0m   \u001b[38;5;28;01mreturn\u001b[39;00m \u001b[43mfn\u001b[49m\u001b[43m(\u001b[49m\u001b[38;5;241;43m*\u001b[39;49m\u001b[43mnew_args\u001b[49m\u001b[43m,\u001b[49m\u001b[43m \u001b[49m\u001b[38;5;241;43m*\u001b[39;49m\u001b[38;5;241;43m*\u001b[39;49m\u001b[43mnew_kwargs\u001b[49m\u001b[43m)\u001b[49m\n\u001b[1;32m   1583\u001b[0m \u001b[38;5;28;01mexcept\u001b[39;00m \u001b[38;5;167;01mException\u001b[39;00m \u001b[38;5;28;01mas\u001b[39;00m e:  \u001b[38;5;66;03m# pylint: disable=broad-except\u001b[39;00m\n\u001b[1;32m   1584\u001b[0m   err_str \u001b[38;5;241m=\u001b[39m \u001b[38;5;124m'\u001b[39m\u001b[38;5;124m'\u001b[39m\n",
      "File \u001b[0;32m/media/wassname/SGIronWolf/projects5/investing/DeepTime/data/datasets.py:71\u001b[0m, in \u001b[0;36mForecastDataset.__init__\u001b[0;34m(self, flag, horizon_len, scale, cross_learn, data_path, root_path, features, target, lookback_len, lookback_aux_len, lookback_mult, time_features, normalise_time_features)\u001b[0m\n\u001b[1;32m     69\u001b[0m \u001b[38;5;28mself\u001b[39m\u001b[38;5;241m.\u001b[39mtimestamps \u001b[38;5;241m=\u001b[39m \u001b[38;5;28;01mNone\u001b[39;00m\n\u001b[1;32m     70\u001b[0m \u001b[38;5;28mself\u001b[39m\u001b[38;5;241m.\u001b[39mn_time \u001b[38;5;241m=\u001b[39m \u001b[38;5;28;01mNone\u001b[39;00m\n\u001b[0;32m---> 71\u001b[0m \u001b[38;5;28mself\u001b[39m\u001b[38;5;241m.\u001b[39mn_time_samples \u001b[38;5;241m=\u001b[39m \u001b[38;5;28;01mNone\u001b[39;00m\n\u001b[1;32m     72\u001b[0m \u001b[38;5;28mself\u001b[39m\u001b[38;5;241m.\u001b[39mload_data()\n",
      "File \u001b[0;32m/media/wassname/SGIronWolf/projects5/investing/DeepTime/data/datasets.py:105\u001b[0m, in \u001b[0;36mForecastDataset.load_data\u001b[0;34m(self)\u001b[0m\n\u001b[1;32m    103\u001b[0m \u001b[38;5;28mself\u001b[39m\u001b[38;5;241m.\u001b[39mdata_x \u001b[38;5;241m=\u001b[39m data[border1:border2] \n\u001b[1;32m    104\u001b[0m \u001b[38;5;66;03m# y is just the col we predict\u001b[39;00m\n\u001b[0;32m--> 105\u001b[0m \u001b[38;5;28mself\u001b[39m\u001b[38;5;241m.\u001b[39mdata_y \u001b[38;5;241m=\u001b[39m \u001b[43mdata\u001b[49m\u001b[43m[\u001b[49m\u001b[43mborder1\u001b[49m\u001b[43m:\u001b[49m\u001b[43mborder2\u001b[49m\u001b[43m]\u001b[49m\u001b[43m[\u001b[49m\u001b[43m[\u001b[49m\u001b[38;5;28;43mself\u001b[39;49m\u001b[38;5;241;43m.\u001b[39;49m\u001b[43mtarget\u001b[49m\u001b[43m]\u001b[49m\u001b[43m]\u001b[49m\n\u001b[1;32m    106\u001b[0m \u001b[38;5;28mself\u001b[39m\u001b[38;5;241m.\u001b[39mtimestamps \u001b[38;5;241m=\u001b[39m get_time_features(pd\u001b[38;5;241m.\u001b[39mto_datetime(df_raw\u001b[38;5;241m.\u001b[39mdate[border1:border2]\u001b[38;5;241m.\u001b[39mvalues),\n\u001b[1;32m    107\u001b[0m                                     normalise\u001b[38;5;241m=\u001b[39m\u001b[38;5;28mself\u001b[39m\u001b[38;5;241m.\u001b[39mnormalise_time_features,\n\u001b[1;32m    108\u001b[0m                                     features\u001b[38;5;241m=\u001b[39m\u001b[38;5;28mself\u001b[39m\u001b[38;5;241m.\u001b[39mtime_features)\n\u001b[1;32m    109\u001b[0m \u001b[38;5;28mself\u001b[39m\u001b[38;5;241m.\u001b[39mn_time \u001b[38;5;241m=\u001b[39m \u001b[38;5;28mlen\u001b[39m(\u001b[38;5;28mself\u001b[39m\u001b[38;5;241m.\u001b[39mdata_x)\n",
      "\u001b[0;31mIndexError\u001b[0m: only integers, slices (`:`), ellipsis (`...`), numpy.newaxis (`None`) and integer or boolean arrays are valid indices\n  In call to configurable 'ForecastDataset' (<class 'data.datasets.ForecastDataset'>)\n  In call to configurable 'get_data' (<function get_data at 0x7fb53c141160>)"
     ]
    }
   ],
   "source": [
    "plot_multi(\n",
    "           save_paths=[\n",
    "               Path(\"storage/experiments/Stocks/96S/repeat=0\"),\n",
    "               Path(\"storage/experiments/Stocks/96Splus/repeat=0\"),\n",
    "           ],\n",
    "           i=60\n",
    "          )\n",
    "1"
   ]
  },
  {
   "cell_type": "code",
   "execution_count": 44,
   "id": "7486f672",
   "metadata": {
    "ExecuteTime": {
     "end_time": "2022-11-22T07:07:06.097048Z",
     "start_time": "2022-11-22T07:06:49.173386Z"
    }
   },
   "outputs": [
    {
     "name": "stdout",
     "output_type": "stream",
     "text": [
      "> \u001b[0;32m/media/wassname/SGIronWolf/projects5/investing/DeepTime/data/datasets.py\u001b[0m(105)\u001b[0;36mload_data\u001b[0;34m()\u001b[0m\n",
      "\u001b[0;32m    103 \u001b[0;31m        \u001b[0mself\u001b[0m\u001b[0;34m.\u001b[0m\u001b[0mdata_x\u001b[0m \u001b[0;34m=\u001b[0m \u001b[0mdata\u001b[0m\u001b[0;34m[\u001b[0m\u001b[0mborder1\u001b[0m\u001b[0;34m:\u001b[0m\u001b[0mborder2\u001b[0m\u001b[0;34m]\u001b[0m\u001b[0;34m\u001b[0m\u001b[0;34m\u001b[0m\u001b[0m\n",
      "\u001b[0m\u001b[0;32m    104 \u001b[0;31m        \u001b[0;31m# y is just the col we predict\u001b[0m\u001b[0;34m\u001b[0m\u001b[0;34m\u001b[0m\u001b[0;34m\u001b[0m\u001b[0m\n",
      "\u001b[0m\u001b[0;32m--> 105 \u001b[0;31m        \u001b[0mself\u001b[0m\u001b[0;34m.\u001b[0m\u001b[0mdata_y\u001b[0m \u001b[0;34m=\u001b[0m \u001b[0mdata\u001b[0m\u001b[0;34m[\u001b[0m\u001b[0mborder1\u001b[0m\u001b[0;34m:\u001b[0m\u001b[0mborder2\u001b[0m\u001b[0;34m]\u001b[0m\u001b[0;34m[\u001b[0m\u001b[0;34m[\u001b[0m\u001b[0mself\u001b[0m\u001b[0;34m.\u001b[0m\u001b[0mtarget\u001b[0m\u001b[0;34m]\u001b[0m\u001b[0;34m]\u001b[0m\u001b[0;34m\u001b[0m\u001b[0;34m\u001b[0m\u001b[0m\n",
      "\u001b[0m\u001b[0;32m    106 \u001b[0;31m        self.timestamps = get_time_features(pd.to_datetime(df_raw.date[border1:border2].values),\n",
      "\u001b[0m\u001b[0;32m    107 \u001b[0;31m                                            \u001b[0mnormalise\u001b[0m\u001b[0;34m=\u001b[0m\u001b[0mself\u001b[0m\u001b[0;34m.\u001b[0m\u001b[0mnormalise_time_features\u001b[0m\u001b[0;34m,\u001b[0m\u001b[0;34m\u001b[0m\u001b[0;34m\u001b[0m\u001b[0m\n",
      "\u001b[0m\n",
      "ipdb> self.target\n",
      "'RSMKs_18_144_72'\n",
      "ipdb> data[border1:border2]\n",
      "array([[-0.31080395],\n",
      "       [-0.30072371],\n",
      "       [-0.29116544],\n",
      "       ...,\n",
      "       [-0.14084614],\n",
      "       [-0.15264537],\n",
      "       [-0.16396183]])\n",
      "ipdb> data\n",
      "array([[ 0.08264075],\n",
      "       [ 0.08548946],\n",
      "       [ 0.08766026],\n",
      "       ...,\n",
      "       [-0.14084614],\n",
      "       [-0.15264537],\n",
      "       [-0.16396183]])\n",
      "ipdb> data.shape\n",
      "(53398, 1)\n",
      "ipdb> q\n"
     ]
    }
   ],
   "source": [
    "%debug"
   ]
  },
  {
   "cell_type": "code",
   "execution_count": 38,
   "id": "d39ba7c5",
   "metadata": {
    "ExecuteTime": {
     "end_time": "2022-11-22T02:36:49.885952Z",
     "start_time": "2022-11-22T02:36:49.217176Z"
    }
   },
   "outputs": [
    {
     "name": "stdout",
     "output_type": "stream",
     "text": [
      "torch.Size([1, 54, 1]) torch.Size([1, 54, 256]) 3 torch.Size([3, 54, 256])\n",
      "receptive field [690 378 242]=[138  18   2]*[[ 1  1  1]\n",
      " [ 1  2  4]\n",
      " [ 1  4 16]\n",
      " [ 1  6 36]\n",
      " [ 1  8 64]]\n"
     ]
    },
    {
     "data": {
      "text/plain": [
       "1"
      ]
     },
     "execution_count": 38,
     "metadata": {},
     "output_type": "execute_result"
    },
    {
     "data": {
      "image/png": "[encoded data removed]",
      "text/plain": [
       "<Figure size 640x480 with 1 Axes>"
      ]
     },
     "metadata": {},
     "output_type": "display_data"
    }
   ],
   "source": [
    "plot_multi(\n",
    "           save_paths=[\n",
    "               Path(\"storage/experiments/Stocks/96Sshort/repeat=0\"),\n",
    "               Path(\"storage/experiments/Stocks/96Splusshort/repeat=0\"),\n",
    "           ], i=60)\n",
    "1"
   ]
  },
  {
   "cell_type": "code",
   "execution_count": null,
   "id": "9af56ddc",
   "metadata": {
    "ExecuteTime": {
     "end_time": "2022-11-22T02:31:41.691079Z",
     "start_time": "2022-11-22T02:31:41.691072Z"
    }
   },
   "outputs": [],
   "source": [
    "# plot(\"deeptime\", Path(\"storage/experiments/Exchange/96S/repeat=0\"));"
   ]
  },
  {
   "cell_type": "markdown",
   "id": "7fee5ab7",
   "metadata": {
    "ExecuteTime": {
     "end_time": "2022-11-20T00:57:32.922740Z",
     "start_time": "2022-11-20T00:57:32.919738Z"
    }
   },
   "source": [
    "# multi"
   ]
  },
  {
   "cell_type": "code",
   "execution_count": null,
   "id": "f59232cc",
   "metadata": {
    "ExecuteTime": {
     "end_time": "2022-11-22T02:31:41.691700Z",
     "start_time": "2022-11-22T02:31:41.691693Z"
    }
   },
   "outputs": [],
   "source": [
    "\n",
    "\n",
    "def plot_multiM(save_paths=[Path(\"storage/experiments/Exchange/96M/repeat=0\")], i=200, title=None, plot=True):\n",
    "    for j in range(len(save_paths)):\n",
    "        save_path = save_paths[j]\n",
    "\n",
    "        gin.clear_config()\n",
    "        gin.parse_config(open(save_path/\"config.gin\"))\n",
    "        model_name = gin.query_parameter(\"instance.model_type\")\n",
    "        train_set, train_loader = get_data(flag='train', batch_size=2)\n",
    "\n",
    "        model = get_model(model_name,\n",
    "                            dim_size=train_set.data_x.shape[1],\n",
    "                            datetime_feats=train_set.timestamps.shape[-1]).to(default_device())\n",
    "        model.load_state_dict(torch.load(save_path/'model.pth'))\n",
    "        model = model.eval()\n",
    "\n",
    "\n",
    "        b = train_set[i]\n",
    "        b = [bb[None, :] for bb in b]\n",
    "        x, y, x_time, y_time = map(to_tensor, b)\n",
    "        with torch.no_grad():\n",
    "            forecast = model(x, x_time, y_time)\n",
    "\n",
    "       \n",
    "        colors = list(mcolors.BASE_COLORS.keys())\n",
    "        l = x.shape[1]\n",
    "        forecast2 = forecast[0].detach().cpu().numpy()\n",
    "        x2 = x[0].cpu()\n",
    "        y2 = y[0].cpu()\n",
    "        l2 = y.shape[1]\n",
    "        i_past = list(range(l))\n",
    "        i_future = list(range(l, l+l2))\n",
    "\n",
    "        linestyles =  [ '--', '-.', '-', ':']\n",
    "        if plot:\n",
    "            ls = linestyles[j]\n",
    "            print(ls)\n",
    "            if j==0:\n",
    "                \n",
    "                \n",
    "                for k in range(x.shape[-1]):\n",
    "                    plt.plot(i_past, x2[:, k], c=colors[k], label=f\"var {k}\")\n",
    "                for k in range(x.shape[-1]):\n",
    "                    plt.plot(i_future, y2[:, k], c=colors[k], alpha=0.3)\n",
    "            \n",
    "            mtitle = str(save_path).split('/')[-2:-1]\n",
    "            mtitle = \"-\".join(mtitle)\n",
    "            for k in range(x.shape[-1]):\n",
    "                plt.plot(i_future, forecast2[:, k], c=colors[k], linestyle=ls, label=f\"{mtitle}\" if k==0 else None)\n",
    "    plt.legend()\n",
    "    plt.title(title)\n",
    "    return x2, y2, forecast2, i_past, i_future\n"
   ]
  },
  {
   "cell_type": "code",
   "execution_count": null,
   "id": "b1d152b2",
   "metadata": {
    "ExecuteTime": {
     "end_time": "2022-11-22T02:31:41.692264Z",
     "start_time": "2022-11-22T02:31:41.692258Z"
    }
   },
   "outputs": [],
   "source": [
    "plot_multiM([Path(\"storage/experiments/Stocks/96M/repeat=0\")]);"
   ]
  },
  {
   "cell_type": "code",
   "execution_count": null,
   "id": "e8680326",
   "metadata": {},
   "outputs": [],
   "source": []
  },
  {
   "cell_type": "code",
   "execution_count": null,
   "id": "c20bb663",
   "metadata": {},
   "outputs": [],
   "source": []
  }
 ],
 "metadata": {
  "jupytext": {
   "cell_metadata_filter": "-all",
   "main_language": "python",
   "notebook_metadata_filter": "-all"
  },
  "kernelspec": {
   "display_name": "deeptime",
   "language": "python",
   "name": "deeptime"
  },
  "language_info": {
   "codemirror_mode": {
    "name": "ipython",
    "version": 3
   },
   "file_extension": ".py",
   "mimetype": "text/x-python",
   "name": "python",
   "nbconvert_exporter": "python",
   "pygments_lexer": "ipython3",
   "version": "3.8.13"
  },
  "toc": {
   "base_numbering": 1,
   "nav_menu": {},
   "number_sections": true,
   "sideBar": true,
   "skip_h1_title": false,
   "title_cell": "Table of Contents",
   "title_sidebar": "Contents",
   "toc_cell": false,
   "toc_position": {},
   "toc_section_display": true,
   "toc_window_display": false
  }
 },
 "nbformat": 4,
 "nbformat_minor": 5
}
