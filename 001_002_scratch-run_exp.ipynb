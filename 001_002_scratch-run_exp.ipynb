{
 "cells": [
  {
   "cell_type": "markdown",
   "id": "b1e031e3",
   "metadata": {},
   "source": [
    "- [x] try just one predictor\n",
    "    - [ ] multi input, single output\n",
    "- [x] comparem ulti\n",
    "- losses:\n",
    "    - try logp? nah\n",
    "    - mae?\n",
    "- [x] make my own csv with 5m data (maybe 10k rows)\n",
    "- [ ] backtest?"
   ]
  },
  {
   "cell_type": "code",
   "execution_count": 1,
   "id": "7f9e3d73",
   "metadata": {
    "ExecuteTime": {
     "end_time": "2022-11-23T06:58:24.757461Z",
     "start_time": "2022-11-23T06:58:24.749861Z"
    }
   },
   "outputs": [],
   "source": [
    "import warnings\n",
    "warnings.simplefilter(\"ignore\")\n",
    "\n",
    "# autoreload import your package\n",
    "%load_ext autoreload\n",
    "%autoreload 2"
   ]
  },
  {
   "cell_type": "code",
   "execution_count": 2,
   "id": "4e09086b",
   "metadata": {
    "ExecuteTime": {
     "end_time": "2022-11-23T06:58:25.961679Z",
     "start_time": "2022-11-23T06:58:24.758565Z"
    },
    "lines_to_next_cell": 0
   },
   "outputs": [],
   "source": [
    "import os\n",
    "from os.path import join\n",
    "import math\n",
    "import logging\n",
    "from typing import Callable, Optional, Union, Dict, Tuple\n",
    "\n",
    "from matplotlib import pyplot as plt\n",
    "from pathlib import Path\n",
    "import matplotlib.colors as mcolors\n",
    "\n",
    "import gin\n",
    "from fire import Fire\n",
    "import numpy as np\n",
    "import torch\n",
    "from torch.utils.data import DataLoader\n",
    "from torch import optim\n",
    "from torch import nn\n",
    "\n",
    "from experiments.base import Experiment\n",
    "from data.datasets import ForecastDataset\n",
    "from models import get_model\n",
    "from utils.checkpoint import Checkpoint\n",
    "from utils.ops import default_device, to_tensor\n",
    "from utils.losses import get_loss_fn\n",
    "from utils.metrics import calc_metrics\n",
    "\n",
    "from experiments.forecast import get_data\n",
    "gin.enter_interactive_mode()"
   ]
  },
  {
   "cell_type": "code",
   "execution_count": 3,
   "id": "66d7f095",
   "metadata": {
    "ExecuteTime": {
     "end_time": "2022-11-23T06:58:25.987675Z",
     "start_time": "2022-11-23T06:58:25.963849Z"
    }
   },
   "outputs": [
    {
     "data": {
      "text/plain": [
       "1"
      ]
     },
     "execution_count": 3,
     "metadata": {},
     "output_type": "execute_result"
    }
   ],
   "source": [
    "import logging\n",
    "logging.root.setLevel(logging.INFO)\n",
    "\n",
    "from loguru import logger\n",
    "logger.remove()\n",
    "logger.add(os.sys.stdout, level=\"INFO\", colorize=True, format=\"<level>{time} | {message}</level>\")"
   ]
  },
  {
   "cell_type": "markdown",
   "id": "d4df5270",
   "metadata": {},
   "source": [
    "# auto"
   ]
  },
  {
   "cell_type": "code",
   "execution_count": 4,
   "id": "04499bef",
   "metadata": {
    "ExecuteTime": {
     "end_time": "2022-11-23T06:58:26.005030Z",
     "start_time": "2022-11-23T06:58:25.988575Z"
    }
   },
   "outputs": [],
   "source": [
    "\n",
    "\n",
    "def plot(model_name=\"deeptime\", save_path=Path(\"storage/experiments/Exchange/96M/repeat=0\"), i=200, title=None, plot=True):\n",
    "\n",
    "    gin.clear_config()\n",
    "    gin.parse_config(open(save_path/\"config.gin\"))\n",
    "\n",
    "    train_set, train_loader = get_data(flag='train', batch_size=2)\n",
    "\n",
    "    model = get_model(model_name,\n",
    "                        dim_size=train_set.data_x.shape[1],\n",
    "                        datetime_feats=train_set.timestamps.shape[-1]).to(default_device())\n",
    "    model.load_state_dict(torch.load(save_path/'model.pth'))\n",
    "    model = model.eval()\n",
    "\n",
    "\n",
    "    b = train_set[i]\n",
    "    b = [bb[None, :] for bb in b]\n",
    "    b2 = list(map(to_tensor, b))\n",
    "    context_past_x, context_y, query_past_x, query_y, context_time, query_time = b2\n",
    "    with torch.no_grad():\n",
    "        forecast = model(*b2)\n",
    "\n",
    "    if title is None:\n",
    "        title = str(save_path).split('/')[-3:]\n",
    "        title = \"-\".join(title)\n",
    "    \n",
    "    colors = list(mcolors.BASE_COLORS.keys())\n",
    "    l = x.shape[1]\n",
    "    forecast2 = forecast[0].detach().cpu().numpy()\n",
    "    x2 = x[0].cpu()\n",
    "    y2 = y[0].cpu()\n",
    "    l2 = y.shape[1]\n",
    "    i_past = list(range(l))\n",
    "    i_future = list(range(l, l+l2))\n",
    "    \n",
    "    if plot:\n",
    "        plt.title(title)\n",
    "        for i in range(x.shape[-1]):\n",
    "            plt.plot(i_past, x2[:, i], c=colors[i])\n",
    "        for i in range(x.shape[-1]):\n",
    "            plt.plot(i_future, y2[:, i], c=colors[i])\n",
    "        for i in range(x.shape[-1]):\n",
    "            plt.plot(i_future, forecast2[:, i], c=colors[i], linestyle='--')\n",
    "    return x2, y2, forecast2, i_past, i_future\n"
   ]
  },
  {
   "cell_type": "code",
   "execution_count": null,
   "id": "a51165b9",
   "metadata": {
    "ExecuteTime": {
     "end_time": "2022-11-22T13:28:35.849491Z",
     "start_time": "2022-11-22T13:28:35.766453Z"
    },
    "scrolled": true
   },
   "outputs": [],
   "source": []
  },
  {
   "cell_type": "code",
   "execution_count": 5,
   "id": "dd540a97",
   "metadata": {
    "ExecuteTime": {
     "end_time": "2022-11-23T06:58:26.027691Z",
     "start_time": "2022-11-23T06:58:26.006255Z"
    }
   },
   "outputs": [
    {
     "data": {
      "text/plain": [
       "['b', 'g', 'r', 'c', 'm', 'y', 'k', 'w']"
      ]
     },
     "execution_count": 5,
     "metadata": {},
     "output_type": "execute_result"
    }
   ],
   "source": [
    "list(mcolors.BASE_COLORS.keys())"
   ]
  },
  {
   "cell_type": "markdown",
   "id": "e8523787",
   "metadata": {
    "ExecuteTime": {
     "end_time": "2022-11-22T13:38:15.786656Z",
     "start_time": "2022-11-22T13:38:15.303577Z"
    }
   },
   "source": [
    "# view model"
   ]
  },
  {
   "cell_type": "markdown",
   "id": "ccf70857",
   "metadata": {},
   "source": [
    "# run exps"
   ]
  },
  {
   "cell_type": "code",
   "execution_count": null,
   "id": "694f6ac4",
   "metadata": {
    "ExecuteTime": {
     "end_time": "2022-11-23T03:31:08.583641Z",
     "start_time": "2022-11-23T03:31:08.558690Z"
    }
   },
   "outputs": [],
   "source": []
  },
  {
   "cell_type": "code",
   "execution_count": 6,
   "id": "0b70f754",
   "metadata": {
    "ExecuteTime": {
     "end_time": "2022-11-23T06:58:26.043794Z",
     "start_time": "2022-11-23T06:58:26.028937Z"
    }
   },
   "outputs": [],
   "source": [
    "# list the models we have run...\n",
    "configs=sorted(Path(\"storage/experiments/Stocks\").glob(\"**/config.gin\"))\n",
    "import random\n",
    "random.shuffle(configs)\n",
    "# print(configs)"
   ]
  },
  {
   "cell_type": "code",
   "execution_count": 7,
   "id": "c09e8335",
   "metadata": {
    "ExecuteTime": {
     "end_time": "2022-11-23T06:58:26.058417Z",
     "start_time": "2022-11-23T06:58:26.044685Z"
    }
   },
   "outputs": [],
   "source": [
    "from experiments.forecast import ForecastExperiment\n",
    "from tqdm.auto import tqdm"
   ]
  },
  {
   "cell_type": "code",
   "execution_count": null,
   "id": "a4eba154",
   "metadata": {
    "ExecuteTime": {
     "start_time": "2022-11-23T06:58:24.749Z"
    },
    "scrolled": false
   },
   "outputs": [
    {
     "data": {
      "application/vnd.jupyter.widget-view+json": {
       "model_id": "82dcfd19e8a74cf89d3d49aef4bff644",
       "version_major": 2,
       "version_minor": 0
      },
      "text/plain": [
       "  0%|          | 0/42 [00:00<?, ?it/s]"
      ]
     },
     "metadata": {},
     "output_type": "display_data"
    },
    {
     "name": "stdout",
     "output_type": "stream",
     "text": [
      "storage/experiments/Stocks/96M2S/lrn=Ridge,inr=INRPlus2,enc=transformer2,repeat=0/config.gin\n",
      "receptive field [690 378 242]\n"
     ]
    },
    {
     "name": "stderr",
     "output_type": "stream",
     "text": [
      "INFO:root:epochs: 1, iters: 100 | training loss: 0.23\n",
      "INFO:root:Validation loss decreased (inf --> 0.142). Saving model ...\n",
      "INFO:root:epochs: 2, iters: 100 | training loss: 0.07\n",
      "INFO:root:Validation loss decreased (0.142 --> 0.024). Saving model ...\n",
      "INFO:root:epochs: 3, iters: 100 | training loss: 0.04\n",
      "INFO:root:Validation loss decreased (0.024 --> 0.017). Saving model ...\n",
      "INFO:root:epochs: 4, iters: 100 | training loss: 0.04\n",
      "INFO:root:Validation loss increased (0.017 --> 0.020). Early stopping counter: 1 out of 7\n",
      "INFO:root:epochs: 5, iters: 100 | training loss: 0.05\n",
      "INFO:root:Validation loss decreased (0.017 --> 0.017). Saving model ...\n",
      "INFO:root:epochs: 6, iters: 100 | training loss: 0.06\n",
      "INFO:root:Validation loss increased (0.017 --> 0.019). Early stopping counter: 1 out of 7\n",
      "INFO:root:epochs: 7, iters: 100 | training loss: 0.03\n",
      "INFO:root:Validation loss increased (0.017 --> 0.017). Early stopping counter: 2 out of 7\n",
      "INFO:root:epochs: 8, iters: 100 | training loss: 0.06\n",
      "INFO:root:Validation loss increased (0.017 --> 0.022). Early stopping counter: 3 out of 7\n",
      "INFO:root:epochs: 9, iters: 100 | training loss: 0.03\n",
      "INFO:root:Validation loss increased (0.017 --> 0.023). Early stopping counter: 4 out of 7\n",
      "INFO:root:epochs: 10, iters: 100 | training loss: 0.03\n",
      "INFO:root:Validation loss decreased (0.017 --> 0.017). Saving model ...\n",
      "INFO:root:epochs: 11, iters: 100 | training loss: 0.03\n",
      "INFO:root:Validation loss decreased (0.017 --> 0.016). Saving model ...\n",
      "INFO:root:epochs: 12, iters: 100 | training loss: 0.02\n",
      "INFO:root:Validation loss decreased (0.016 --> 0.016). Saving model ...\n",
      "INFO:root:epochs: 13, iters: 100 | training loss: 0.03\n",
      "INFO:root:Validation loss increased (0.016 --> 0.017). Early stopping counter: 1 out of 7\n",
      "INFO:root:epochs: 14, iters: 100 | training loss: 0.05\n",
      "INFO:root:Validation loss increased (0.016 --> 0.016). Early stopping counter: 2 out of 7\n",
      "INFO:root:epochs: 15, iters: 100 | training loss: 0.02\n",
      "INFO:root:Validation loss decreased (0.016 --> 0.015). Saving model ...\n",
      "INFO:root:epochs: 16, iters: 100 | training loss: 0.02\n",
      "INFO:root:Validation loss increased (0.015 --> 0.016). Early stopping counter: 1 out of 7\n",
      "INFO:root:epochs: 17, iters: 100 | training loss: 0.02\n",
      "INFO:root:Validation loss increased (0.015 --> 0.019). Early stopping counter: 2 out of 7\n",
      "INFO:root:epochs: 18, iters: 100 | training loss: 0.03\n",
      "INFO:root:Validation loss decreased (0.015 --> 0.015). Saving model ...\n",
      "INFO:root:epochs: 19, iters: 100 | training loss: 0.04\n",
      "INFO:root:Validation loss decreased (0.015 --> 0.015). Saving model ...\n",
      "INFO:root:epochs: 20, iters: 100 | training loss: 0.03\n",
      "INFO:root:Validation loss increased (0.015 --> 0.016). Early stopping counter: 1 out of 7\n",
      "INFO:root:epochs: 21, iters: 100 | training loss: 0.04\n",
      "INFO:root:Validation loss increased (0.015 --> 0.016). Early stopping counter: 2 out of 7\n",
      "INFO:root:epochs: 22, iters: 100 | training loss: 0.05\n",
      "INFO:root:Validation loss increased (0.015 --> 0.017). Early stopping counter: 3 out of 7\n",
      "INFO:root:epochs: 23, iters: 100 | training loss: 0.04\n",
      "INFO:root:Validation loss decreased (0.015 --> 0.015). Saving model ...\n",
      "INFO:root:epochs: 24, iters: 100 | training loss: 0.07\n",
      "INFO:root:Validation loss increased (0.015 --> 0.015). Early stopping counter: 1 out of 7\n",
      "INFO:root:epochs: 25, iters: 100 | training loss: 0.05\n",
      "INFO:root:Validation loss decreased (0.015 --> 0.015). Saving model ...\n",
      "INFO:root:epochs: 26, iters: 100 | training loss: 0.02\n",
      "INFO:root:Validation loss increased (0.015 --> 0.015). Early stopping counter: 1 out of 7\n",
      "INFO:root:epochs: 27, iters: 100 | training loss: 0.07\n",
      "INFO:root:Validation loss increased (0.015 --> 0.018). Early stopping counter: 2 out of 7\n",
      "INFO:root:epochs: 28, iters: 100 | training loss: 0.05\n",
      "INFO:root:Validation loss increased (0.015 --> 0.015). Early stopping counter: 3 out of 7\n",
      "INFO:root:epochs: 29, iters: 100 | training loss: 0.03\n",
      "INFO:root:Validation loss decreased (0.015 --> 0.014). Saving model ...\n",
      "INFO:root:epochs: 30, iters: 100 | training loss: 0.04\n",
      "INFO:root:Validation loss increased (0.014 --> 0.014). Early stopping counter: 1 out of 7\n",
      "INFO:root:epochs: 31, iters: 100 | training loss: 0.03\n",
      "INFO:root:Validation loss increased (0.014 --> 0.015). Early stopping counter: 2 out of 7\n",
      "INFO:root:epochs: 32, iters: 100 | training loss: 0.03\n",
      "INFO:root:Validation loss increased (0.014 --> 0.015). Early stopping counter: 3 out of 7\n",
      "INFO:root:epochs: 33, iters: 100 | training loss: 0.03\n",
      "INFO:root:Validation loss increased (0.014 --> 0.015). Early stopping counter: 4 out of 7\n",
      "INFO:root:epochs: 34, iters: 100 | training loss: 0.02\n",
      "INFO:root:Validation loss decreased (0.014 --> 0.014). Saving model ...\n",
      "INFO:root:epochs: 35, iters: 100 | training loss: 0.03\n",
      "INFO:root:Validation loss increased (0.014 --> 0.015). Early stopping counter: 1 out of 7\n",
      "INFO:root:epochs: 36, iters: 100 | training loss: 0.03\n",
      "INFO:root:Validation loss increased (0.014 --> 0.014). Early stopping counter: 2 out of 7\n",
      "INFO:root:epochs: 37, iters: 100 | training loss: 0.04\n",
      "INFO:root:Validation loss decreased (0.014 --> 0.014). Saving model ...\n",
      "INFO:root:epochs: 38, iters: 100 | training loss: 0.03\n",
      "INFO:root:Validation loss increased (0.014 --> 0.015). Early stopping counter: 1 out of 7\n",
      "INFO:root:epochs: 39, iters: 100 | training loss: 0.02\n",
      "INFO:root:Validation loss increased (0.014 --> 0.014). Early stopping counter: 2 out of 7\n",
      "INFO:root:epochs: 40, iters: 100 | training loss: 0.04\n",
      "INFO:root:Validation loss increased (0.014 --> 0.014). Early stopping counter: 3 out of 7\n",
      "INFO:root:epochs: 41, iters: 100 | training loss: 0.07\n",
      "INFO:root:Validation loss increased (0.014 --> 0.015). Early stopping counter: 4 out of 7\n",
      "INFO:root:epochs: 42, iters: 100 | training loss: 0.06\n",
      "INFO:root:Validation loss increased (0.014 --> 0.014). Early stopping counter: 5 out of 7\n",
      "INFO:root:epochs: 43, iters: 100 | training loss: 0.03\n",
      "INFO:root:Validation loss increased (0.014 --> 0.014). Early stopping counter: 6 out of 7\n",
      "INFO:root:epochs: 44, iters: 100 | training loss: 0.03\n",
      "INFO:root:Validation loss increased (0.014 --> 0.014). Early stopping counter: 7 out of 7\n",
      "INFO:root:Early stopping\n"
     ]
    },
    {
     "name": "stdout",
     "output_type": "stream",
     "text": [
      "storage/experiments/Stocks/96M2S/lrn=None,inr=INR,enc=lstm,repeat=0/config.gin\n"
     ]
    },
    {
     "name": "stderr",
     "output_type": "stream",
     "text": [
      "INFO:root:epochs: 1, iters: 100 | training loss: 1.33\n",
      "INFO:root:Validation loss decreased (inf --> 0.624). Saving model ...\n",
      "INFO:root:epochs: 2, iters: 100 | training loss: 0.39\n",
      "INFO:root:Validation loss decreased (0.624 --> 0.141). Saving model ...\n",
      "INFO:root:epochs: 3, iters: 100 | training loss: 0.15\n",
      "INFO:root:Validation loss decreased (0.141 --> 0.080). Saving model ...\n",
      "INFO:root:epochs: 4, iters: 100 | training loss: 0.33\n",
      "INFO:root:Validation loss increased (0.080 --> 0.095). Early stopping counter: 1 out of 7\n",
      "INFO:root:epochs: 5, iters: 100 | training loss: 0.17\n",
      "INFO:root:Validation loss increased (0.080 --> 0.128). Early stopping counter: 2 out of 7\n",
      "INFO:root:epochs: 6, iters: 100 | training loss: 0.22\n",
      "INFO:root:Validation loss decreased (0.080 --> 0.076). Saving model ...\n",
      "INFO:root:epochs: 7, iters: 100 | training loss: 0.15\n",
      "INFO:root:Validation loss increased (0.076 --> 0.091). Early stopping counter: 1 out of 7\n",
      "INFO:root:epochs: 8, iters: 100 | training loss: 0.29\n",
      "INFO:root:Validation loss increased (0.076 --> 0.166). Early stopping counter: 2 out of 7\n",
      "INFO:root:epochs: 9, iters: 100 | training loss: 0.16\n",
      "INFO:root:Validation loss decreased (0.076 --> 0.059). Saving model ...\n",
      "INFO:root:epochs: 10, iters: 100 | training loss: 0.20\n",
      "INFO:root:Validation loss increased (0.059 --> 0.083). Early stopping counter: 1 out of 7\n",
      "INFO:root:epochs: 11, iters: 100 | training loss: 0.39\n",
      "INFO:root:Validation loss increased (0.059 --> 0.087). Early stopping counter: 2 out of 7\n",
      "INFO:root:epochs: 12, iters: 100 | training loss: 0.12\n",
      "INFO:root:Validation loss increased (0.059 --> 0.060). Early stopping counter: 3 out of 7\n",
      "INFO:root:epochs: 13, iters: 100 | training loss: 0.16\n",
      "INFO:root:Validation loss increased (0.059 --> 0.128). Early stopping counter: 4 out of 7\n",
      "INFO:root:epochs: 14, iters: 100 | training loss: 0.16\n",
      "INFO:root:Validation loss increased (0.059 --> 0.103). Early stopping counter: 5 out of 7\n",
      "INFO:root:epochs: 15, iters: 100 | training loss: 0.13\n",
      "INFO:root:Validation loss increased (0.059 --> 0.066). Early stopping counter: 6 out of 7\n",
      "INFO:root:epochs: 16, iters: 100 | training loss: 0.21\n",
      "INFO:root:Validation loss increased (0.059 --> 0.111). Early stopping counter: 7 out of 7\n",
      "INFO:root:Early stopping\n"
     ]
    },
    {
     "name": "stdout",
     "output_type": "stream",
     "text": [
      "storage/experiments/Stocks/96M2S/lrn=Transformer,inr=INRPlus2,enc=mlp,repeat=0/config.gin\n",
      "receptive field [690 378 242]\n"
     ]
    },
    {
     "name": "stderr",
     "output_type": "stream",
     "text": [
      "INFO:root:epochs: 1, iters: 100 | training loss: 1.23\n",
      "INFO:root:Validation loss decreased (inf --> 0.367). Saving model ...\n",
      "INFO:root:epochs: 2, iters: 100 | training loss: 0.16\n",
      "INFO:root:Validation loss decreased (0.367 --> 0.056). Saving model ...\n",
      "INFO:root:epochs: 3, iters: 100 | training loss: 0.08\n",
      "INFO:root:Validation loss increased (0.056 --> 0.059). Early stopping counter: 1 out of 7\n",
      "INFO:root:epochs: 4, iters: 100 | training loss: 0.13\n",
      "INFO:root:Validation loss increased (0.056 --> 0.059). Early stopping counter: 2 out of 7\n",
      "INFO:root:epochs: 5, iters: 100 | training loss: 0.11\n",
      "INFO:root:Validation loss increased (0.056 --> 0.058). Early stopping counter: 3 out of 7\n",
      "INFO:root:epochs: 6, iters: 100 | training loss: 0.09\n",
      "INFO:root:Validation loss increased (0.056 --> 0.057). Early stopping counter: 4 out of 7\n",
      "INFO:root:epochs: 7, iters: 100 | training loss: 0.10\n",
      "INFO:root:Validation loss increased (0.056 --> 0.060). Early stopping counter: 5 out of 7\n",
      "INFO:root:epochs: 8, iters: 100 | training loss: 0.12\n",
      "INFO:root:Validation loss decreased (0.056 --> 0.056). Saving model ...\n",
      "INFO:root:epochs: 9, iters: 100 | training loss: 0.10\n",
      "INFO:root:Validation loss increased (0.056 --> 0.063). Early stopping counter: 1 out of 7\n",
      "INFO:root:epochs: 10, iters: 100 | training loss: 0.10\n",
      "INFO:root:Validation loss increased (0.056 --> 0.059). Early stopping counter: 2 out of 7\n",
      "INFO:root:epochs: 11, iters: 100 | training loss: 0.09\n",
      "INFO:root:Validation loss increased (0.056 --> 0.062). Early stopping counter: 3 out of 7\n",
      "INFO:root:epochs: 12, iters: 100 | training loss: 0.10\n",
      "INFO:root:Validation loss decreased (0.056 --> 0.055). Saving model ...\n",
      "INFO:root:epochs: 13, iters: 100 | training loss: 0.11\n",
      "INFO:root:Validation loss increased (0.055 --> 0.062). Early stopping counter: 1 out of 7\n",
      "INFO:root:epochs: 14, iters: 100 | training loss: 0.07\n",
      "INFO:root:Validation loss increased (0.055 --> 0.059). Early stopping counter: 2 out of 7\n",
      "INFO:root:epochs: 15, iters: 100 | training loss: 0.08\n",
      "INFO:root:Validation loss increased (0.055 --> 0.056). Early stopping counter: 3 out of 7\n",
      "INFO:root:epochs: 16, iters: 100 | training loss: 0.07\n",
      "INFO:root:Validation loss increased (0.055 --> 0.063). Early stopping counter: 4 out of 7\n",
      "INFO:root:epochs: 17, iters: 100 | training loss: 0.11\n",
      "INFO:root:Validation loss increased (0.055 --> 0.056). Early stopping counter: 5 out of 7\n",
      "INFO:root:epochs: 18, iters: 100 | training loss: 0.11\n",
      "INFO:root:Validation loss increased (0.055 --> 0.061). Early stopping counter: 6 out of 7\n",
      "INFO:root:epochs: 19, iters: 100 | training loss: 0.11\n",
      "INFO:root:Validation loss increased (0.055 --> 0.057). Early stopping counter: 7 out of 7\n",
      "INFO:root:Early stopping\n"
     ]
    },
    {
     "name": "stdout",
     "output_type": "stream",
     "text": [
      "storage/experiments/Stocks/96M2S/lrn=None,inr=INRPlus2,enc=none,repeat=0/config.gin\n",
      "receptive field [690 378 242]\n"
     ]
    },
    {
     "name": "stderr",
     "output_type": "stream",
     "text": [
      "INFO:root:epochs: 1, iters: 100 | training loss: 1.18\n",
      "INFO:root:Validation loss decreased (inf --> 0.529). Saving model ...\n",
      "INFO:root:epochs: 2, iters: 100 | training loss: 0.89\n",
      "INFO:root:Validation loss decreased (0.529 --> 0.332). Saving model ...\n",
      "INFO:root:epochs: 3, iters: 100 | training loss: 1.60\n",
      "INFO:root:Validation loss decreased (0.332 --> 0.314). Saving model ...\n",
      "INFO:root:epochs: 4, iters: 100 | training loss: 1.19\n",
      "INFO:root:Validation loss increased (0.314 --> 0.321). Early stopping counter: 1 out of 7\n",
      "INFO:root:epochs: 5, iters: 100 | training loss: 1.15\n",
      "INFO:root:Validation loss increased (0.314 --> 0.318). Early stopping counter: 2 out of 7\n",
      "INFO:root:epochs: 6, iters: 100 | training loss: 0.67\n",
      "INFO:root:Validation loss increased (0.314 --> 0.317). Early stopping counter: 3 out of 7\n",
      "INFO:root:epochs: 7, iters: 100 | training loss: 0.98\n",
      "INFO:root:Validation loss increased (0.314 --> 0.323). Early stopping counter: 4 out of 7\n",
      "INFO:root:epochs: 8, iters: 100 | training loss: 1.16\n",
      "INFO:root:Validation loss increased (0.314 --> 0.335). Early stopping counter: 5 out of 7\n",
      "INFO:root:epochs: 9, iters: 100 | training loss: 1.31\n",
      "INFO:root:Validation loss increased (0.314 --> 0.333). Early stopping counter: 6 out of 7\n",
      "INFO:root:epochs: 10, iters: 100 | training loss: 1.44\n",
      "INFO:root:Validation loss increased (0.314 --> 0.324). Early stopping counter: 7 out of 7\n",
      "INFO:root:Early stopping\n"
     ]
    },
    {
     "name": "stdout",
     "output_type": "stream",
     "text": [
      "storage/experiments/Stocks/96M2S/lrn=Transformer,inr=INRPlus2,enc=lstm,repeat=0/config.gin\n",
      "receptive field [690 378 242]\n"
     ]
    },
    {
     "name": "stderr",
     "output_type": "stream",
     "text": [
      "INFO:root:epochs: 1, iters: 100 | training loss: 1.10\n",
      "INFO:root:Validation loss decreased (inf --> 0.286). Saving model ...\n",
      "INFO:root:epochs: 2, iters: 100 | training loss: 0.11\n",
      "INFO:root:Validation loss decreased (0.286 --> 0.059). Saving model ...\n",
      "INFO:root:epochs: 3, iters: 100 | training loss: 0.18\n",
      "INFO:root:Validation loss decreased (0.059 --> 0.057). Saving model ...\n",
      "INFO:root:epochs: 4, iters: 100 | training loss: 0.18\n",
      "INFO:root:Validation loss decreased (0.057 --> 0.057). Saving model ...\n",
      "INFO:root:epochs: 5, iters: 100 | training loss: 0.14\n",
      "INFO:root:Validation loss increased (0.057 --> 0.060). Early stopping counter: 1 out of 7\n",
      "INFO:root:epochs: 6, iters: 100 | training loss: 0.08\n",
      "INFO:root:Validation loss increased (0.057 --> 0.059). Early stopping counter: 2 out of 7\n",
      "INFO:root:epochs: 7, iters: 100 | training loss: 0.07\n",
      "INFO:root:Validation loss decreased (0.057 --> 0.057). Saving model ...\n",
      "INFO:root:epochs: 8, iters: 100 | training loss: 0.06\n",
      "INFO:root:Validation loss increased (0.057 --> 0.077). Early stopping counter: 1 out of 7\n",
      "INFO:root:epochs: 9, iters: 100 | training loss: 0.11\n",
      "INFO:root:Validation loss increased (0.057 --> 0.060). Early stopping counter: 2 out of 7\n",
      "INFO:root:epochs: 10, iters: 100 | training loss: 0.15\n",
      "INFO:root:Validation loss increased (0.057 --> 0.060). Early stopping counter: 3 out of 7\n",
      "INFO:root:epochs: 11, iters: 100 | training loss: 0.10\n",
      "INFO:root:Validation loss increased (0.057 --> 0.057). Early stopping counter: 4 out of 7\n",
      "INFO:root:epochs: 12, iters: 100 | training loss: 0.09\n",
      "INFO:root:Validation loss increased (0.057 --> 0.069). Early stopping counter: 5 out of 7\n",
      "INFO:root:epochs: 13, iters: 100 | training loss: 0.12\n",
      "INFO:root:Validation loss increased (0.057 --> 0.058). Early stopping counter: 6 out of 7\n",
      "INFO:root:epochs: 14, iters: 100 | training loss: 0.16\n",
      "INFO:root:Validation loss increased (0.057 --> 0.058). Early stopping counter: 7 out of 7\n",
      "INFO:root:Early stopping\n"
     ]
    },
    {
     "name": "stdout",
     "output_type": "stream",
     "text": [
      "storage/experiments/Stocks/96M2S/lrn=None,inr=INR,enc=lstm2,repeat=0/config.gin\n",
      "storage/experiments/Stocks/96M2S/lrn=None,inr=INRPlus2,enc=lstm,repeat=0/config.gin\n",
      "receptive field [690 378 242]\n"
     ]
    },
    {
     "name": "stderr",
     "output_type": "stream",
     "text": [
      "INFO:root:epochs: 1, iters: 100 | training loss: 1.80\n",
      "INFO:root:Validation loss decreased (inf --> 0.379). Saving model ...\n",
      "INFO:root:epochs: 2, iters: 100 | training loss: 0.67\n",
      "INFO:root:Validation loss decreased (0.379 --> 0.134). Saving model ...\n",
      "INFO:root:epochs: 3, iters: 100 | training loss: 0.21\n",
      "INFO:root:Validation loss decreased (0.134 --> 0.065). Saving model ...\n",
      "INFO:root:epochs: 4, iters: 100 | training loss: 0.16\n",
      "INFO:root:Validation loss increased (0.065 --> 0.087). Early stopping counter: 1 out of 7\n",
      "INFO:root:epochs: 5, iters: 100 | training loss: 0.19\n",
      "INFO:root:Validation loss increased (0.065 --> 0.125). Early stopping counter: 2 out of 7\n",
      "INFO:root:epochs: 6, iters: 100 | training loss: 0.15\n",
      "INFO:root:Validation loss increased (0.065 --> 0.080). Early stopping counter: 3 out of 7\n",
      "INFO:root:epochs: 7, iters: 100 | training loss: 0.15\n",
      "INFO:root:Validation loss increased (0.065 --> 0.116). Early stopping counter: 4 out of 7\n",
      "INFO:root:epochs: 8, iters: 100 | training loss: 0.28\n",
      "INFO:root:Validation loss increased (0.065 --> 0.077). Early stopping counter: 5 out of 7\n",
      "INFO:root:epochs: 9, iters: 100 | training loss: 0.28\n",
      "INFO:root:Validation loss increased (0.065 --> 0.123). Early stopping counter: 6 out of 7\n",
      "INFO:root:epochs: 10, iters: 100 | training loss: 0.20\n",
      "INFO:root:Validation loss increased (0.065 --> 0.102). Early stopping counter: 7 out of 7\n",
      "INFO:root:Early stopping\n"
     ]
    },
    {
     "name": "stdout",
     "output_type": "stream",
     "text": [
      "storage/experiments/Stocks/96M2S/lrn=Transformer,inr=INRPlus2,enc=transformer2,repeat=0/config.gin\n",
      "receptive field [690 378 242]\n"
     ]
    },
    {
     "name": "stderr",
     "output_type": "stream",
     "text": [
      "INFO:root:epochs: 1, iters: 100 | training loss: 0.76\n",
      "INFO:root:Validation loss decreased (inf --> 0.377). Saving model ...\n",
      "INFO:root:epochs: 2, iters: 100 | training loss: 0.20\n",
      "INFO:root:Validation loss decreased (0.377 --> 0.060). Saving model ...\n",
      "INFO:root:epochs: 3, iters: 100 | training loss: 0.13\n",
      "INFO:root:Validation loss decreased (0.060 --> 0.057). Saving model ...\n",
      "INFO:root:epochs: 4, iters: 100 | training loss: 0.08\n",
      "INFO:root:Validation loss increased (0.057 --> 0.065). Early stopping counter: 1 out of 7\n",
      "INFO:root:epochs: 5, iters: 100 | training loss: 0.12\n",
      "INFO:root:Validation loss increased (0.057 --> 0.067). Early stopping counter: 2 out of 7\n",
      "INFO:root:epochs: 6, iters: 100 | training loss: 0.11\n",
      "INFO:root:Validation loss increased (0.057 --> 0.062). Early stopping counter: 3 out of 7\n",
      "INFO:root:epochs: 7, iters: 100 | training loss: 0.08\n",
      "INFO:root:Validation loss increased (0.057 --> 0.062). Early stopping counter: 4 out of 7\n",
      "INFO:root:epochs: 8, iters: 100 | training loss: 0.09\n",
      "INFO:root:Validation loss increased (0.057 --> 0.059). Early stopping counter: 5 out of 7\n",
      "INFO:root:epochs: 9, iters: 100 | training loss: 0.09\n",
      "INFO:root:Validation loss increased (0.057 --> 0.069). Early stopping counter: 6 out of 7\n",
      "INFO:root:epochs: 10, iters: 100 | training loss: 0.12\n",
      "INFO:root:Validation loss increased (0.057 --> 0.065). Early stopping counter: 7 out of 7\n",
      "INFO:root:Early stopping\n"
     ]
    },
    {
     "name": "stdout",
     "output_type": "stream",
     "text": [
      "storage/experiments/Stocks/96M2S/lrn=Ridge,inr=INR,enc=none,repeat=0/config.gin\n"
     ]
    },
    {
     "name": "stderr",
     "output_type": "stream",
     "text": [
      "INFO:root:epochs: 1, iters: 100 | training loss: 0.68\n",
      "INFO:root:Validation loss decreased (inf --> 0.298). Saving model ...\n",
      "INFO:root:epochs: 2, iters: 100 | training loss: 0.10\n",
      "INFO:root:Validation loss decreased (0.298 --> 0.041). Saving model ...\n",
      "INFO:root:epochs: 3, iters: 100 | training loss: 0.07\n",
      "INFO:root:Validation loss decreased (0.041 --> 0.031). Saving model ...\n",
      "INFO:root:epochs: 4, iters: 100 | training loss: 0.04\n",
      "INFO:root:Validation loss decreased (0.031 --> 0.027). Saving model ...\n",
      "INFO:root:epochs: 5, iters: 100 | training loss: 0.04\n",
      "INFO:root:Validation loss decreased (0.027 --> 0.023). Saving model ...\n",
      "INFO:root:epochs: 6, iters: 100 | training loss: 0.07\n",
      "INFO:root:Validation loss increased (0.023 --> 0.024). Early stopping counter: 1 out of 7\n",
      "INFO:root:epochs: 7, iters: 100 | training loss: 0.11\n",
      "INFO:root:Validation loss increased (0.023 --> 0.024). Early stopping counter: 2 out of 7\n",
      "INFO:root:epochs: 8, iters: 100 | training loss: 0.06\n",
      "INFO:root:Validation loss decreased (0.023 --> 0.021). Saving model ...\n",
      "INFO:root:epochs: 9, iters: 100 | training loss: 0.06\n",
      "INFO:root:Validation loss increased (0.021 --> 0.032). Early stopping counter: 1 out of 7\n",
      "INFO:root:epochs: 10, iters: 100 | training loss: 0.07\n",
      "INFO:root:Validation loss increased (0.021 --> 0.024). Early stopping counter: 2 out of 7\n",
      "INFO:root:epochs: 11, iters: 100 | training loss: 0.06\n",
      "INFO:root:Validation loss decreased (0.021 --> 0.018). Saving model ...\n",
      "INFO:root:epochs: 12, iters: 100 | training loss: 0.06\n",
      "INFO:root:Validation loss increased (0.018 --> 0.022). Early stopping counter: 1 out of 7\n",
      "INFO:root:epochs: 13, iters: 100 | training loss: 0.06\n",
      "INFO:root:Validation loss increased (0.018 --> 0.028). Early stopping counter: 2 out of 7\n",
      "INFO:root:epochs: 14, iters: 100 | training loss: 0.07\n",
      "INFO:root:Validation loss increased (0.018 --> 0.023). Early stopping counter: 3 out of 7\n",
      "INFO:root:epochs: 15, iters: 100 | training loss: 0.04\n",
      "INFO:root:Validation loss increased (0.018 --> 0.021). Early stopping counter: 4 out of 7\n",
      "INFO:root:epochs: 16, iters: 100 | training loss: 0.07\n",
      "INFO:root:Validation loss increased (0.018 --> 0.027). Early stopping counter: 5 out of 7\n",
      "INFO:root:epochs: 17, iters: 100 | training loss: 0.06\n",
      "INFO:root:Validation loss increased (0.018 --> 0.020). Early stopping counter: 6 out of 7\n",
      "INFO:root:epochs: 18, iters: 100 | training loss: 0.05\n",
      "INFO:root:Validation loss decreased (0.018 --> 0.017). Saving model ...\n",
      "INFO:root:epochs: 19, iters: 100 | training loss: 0.03\n",
      "INFO:root:Validation loss increased (0.017 --> 0.032). Early stopping counter: 1 out of 7\n",
      "INFO:root:epochs: 20, iters: 100 | training loss: 0.09\n",
      "INFO:root:Validation loss increased (0.017 --> 0.036). Early stopping counter: 2 out of 7\n",
      "INFO:root:epochs: 21, iters: 100 | training loss: 0.06\n",
      "INFO:root:Validation loss increased (0.017 --> 0.044). Early stopping counter: 3 out of 7\n",
      "INFO:root:epochs: 22, iters: 100 | training loss: 0.04\n",
      "INFO:root:Validation loss increased (0.017 --> 0.033). Early stopping counter: 4 out of 7\n",
      "INFO:root:epochs: 23, iters: 100 | training loss: 0.06\n",
      "INFO:root:Validation loss increased (0.017 --> 0.028). Early stopping counter: 5 out of 7\n",
      "INFO:root:epochs: 24, iters: 100 | training loss: 0.03\n",
      "INFO:root:Validation loss increased (0.017 --> 0.025). Early stopping counter: 6 out of 7\n",
      "INFO:root:epochs: 25, iters: 100 | training loss: 0.04\n",
      "INFO:root:Validation loss increased (0.017 --> 0.025). Early stopping counter: 7 out of 7\n",
      "INFO:root:Early stopping\n"
     ]
    },
    {
     "name": "stdout",
     "output_type": "stream",
     "text": [
      "storage/experiments/Stocks/96M2S/lrn=None,inr=INRPlus2,enc=lstm2,repeat=0/config.gin\n",
      "receptive field [690 378 242]\n"
     ]
    },
    {
     "name": "stderr",
     "output_type": "stream",
     "text": [
      "INFO:root:epochs: 1, iters: 100 | training loss: 1.62\n",
      "INFO:root:Validation loss decreased (inf --> 0.531). Saving model ...\n",
      "INFO:root:epochs: 2, iters: 100 | training loss: 0.61\n",
      "INFO:root:Validation loss decreased (0.531 --> 0.278). Saving model ...\n",
      "INFO:root:epochs: 3, iters: 100 | training loss: 0.22\n",
      "INFO:root:Validation loss decreased (0.278 --> 0.156). Saving model ...\n",
      "INFO:root:epochs: 4, iters: 100 | training loss: 0.59\n",
      "INFO:root:Validation loss decreased (0.156 --> 0.136). Saving model ...\n",
      "INFO:root:epochs: 5, iters: 100 | training loss: 0.37\n",
      "INFO:root:Validation loss increased (0.136 --> 0.171). Early stopping counter: 1 out of 7\n",
      "INFO:root:epochs: 6, iters: 100 | training loss: 0.35\n",
      "INFO:root:Validation loss increased (0.136 --> 0.483). Early stopping counter: 2 out of 7\n",
      "INFO:root:epochs: 7, iters: 100 | training loss: 0.56\n",
      "INFO:root:Validation loss increased (0.136 --> 0.188). Early stopping counter: 3 out of 7\n",
      "INFO:root:epochs: 8, iters: 100 | training loss: 0.36\n",
      "INFO:root:Validation loss increased (0.136 --> 0.312). Early stopping counter: 4 out of 7\n",
      "INFO:root:epochs: 9, iters: 100 | training loss: 0.35\n",
      "INFO:root:Validation loss increased (0.136 --> 0.210). Early stopping counter: 5 out of 7\n",
      "INFO:root:epochs: 10, iters: 100 | training loss: 0.25\n",
      "INFO:root:Validation loss increased (0.136 --> 0.284). Early stopping counter: 6 out of 7\n",
      "INFO:root:epochs: 11, iters: 100 | training loss: 0.31\n",
      "INFO:root:Validation loss increased (0.136 --> 0.418). Early stopping counter: 7 out of 7\n",
      "INFO:root:Early stopping\n"
     ]
    },
    {
     "name": "stdout",
     "output_type": "stream",
     "text": [
      "storage/experiments/Stocks/96M2S/lrn=Ridge,inr=INR,enc=transformer,repeat=0/config.gin\n"
     ]
    },
    {
     "name": "stderr",
     "output_type": "stream",
     "text": [
      "INFO:root:epochs: 1, iters: 100 | training loss: 1.34\n",
      "INFO:root:Validation loss decreased (inf --> 0.299). Saving model ...\n",
      "INFO:root:epochs: 2, iters: 100 | training loss: 0.17\n",
      "INFO:root:Validation loss decreased (0.299 --> 0.122). Saving model ...\n",
      "INFO:root:epochs: 3, iters: 100 | training loss: 0.22\n",
      "INFO:root:Validation loss decreased (0.122 --> 0.090). Saving model ...\n",
      "INFO:root:epochs: 4, iters: 100 | training loss: 0.29\n",
      "INFO:root:Validation loss decreased (0.090 --> 0.071). Saving model ...\n",
      "INFO:root:epochs: 5, iters: 100 | training loss: 0.30\n",
      "INFO:root:Validation loss increased (0.071 --> 0.084). Early stopping counter: 1 out of 7\n",
      "INFO:root:epochs: 6, iters: 100 | training loss: 0.19\n",
      "INFO:root:Validation loss decreased (0.071 --> 0.066). Saving model ...\n",
      "INFO:root:epochs: 7, iters: 100 | training loss: 0.15\n"
     ]
    }
   ],
   "source": [
    "for config in tqdm(configs):\n",
    "    save_path = config.parent\n",
    "\n",
    "    exp = ForecastExperiment(config_path=config)\n",
    "    print(config)\n",
    "    try:\n",
    "        exp.run()\n",
    "    except KeyboardInterrupt:\n",
    "        raise\n",
    "    except Exception as e:\n",
    "        raise\n",
    "        print(e)\n",
    "        pass"
   ]
  },
  {
   "cell_type": "code",
   "execution_count": null,
   "id": "d587ef65",
   "metadata": {
    "ExecuteTime": {
     "start_time": "2022-11-23T06:58:24.749Z"
    }
   },
   "outputs": [],
   "source": [
    "%debug"
   ]
  },
  {
   "cell_type": "code",
   "execution_count": null,
   "id": "c1565c46",
   "metadata": {
    "ExecuteTime": {
     "start_time": "2022-11-23T06:58:24.749Z"
    }
   },
   "outputs": [],
   "source": [
    "exp.instance()"
   ]
  },
  {
   "cell_type": "code",
   "execution_count": null,
   "id": "43aacbb6",
   "metadata": {
    "ExecuteTime": {
     "start_time": "2022-11-23T06:58:24.766Z"
    }
   },
   "outputs": [],
   "source": [
    "# save_path = Path('storage/experiments/Stocks/96M2S/repeat=0')"
   ]
  },
  {
   "cell_type": "code",
   "execution_count": null,
   "id": "dd2a96b6",
   "metadata": {
    "ExecuteTime": {
     "start_time": "2022-11-23T06:58:24.766Z"
    }
   },
   "outputs": [],
   "source": [
    "# gin.clear_config()\n",
    "# config_path = save_path/\"config.gin\"\n",
    "# gin.parse_config(open(config_path))\n",
    "# model_name = gin.query_parameter(\"instance.model_type\")\n",
    "# model_name"
   ]
  },
  {
   "cell_type": "code",
   "execution_count": null,
   "id": "61b1ac70",
   "metadata": {
    "ExecuteTime": {
     "start_time": "2022-11-23T06:58:24.766Z"
    }
   },
   "outputs": [],
   "source": [
    "\n",
    "# exp = ForecastExperiment(config_path=config_path)\n",
    "# # exp.run()"
   ]
  },
  {
   "cell_type": "code",
   "execution_count": null,
   "id": "629ea87a",
   "metadata": {
    "ExecuteTime": {
     "start_time": "2022-11-23T06:58:24.766Z"
    }
   },
   "outputs": [],
   "source": [
    "def save_path2name(save_path: Path) -> str:\n",
    "    \"\"\"\n",
    "    Path('storage/experiments/Stocks/96M2S/base_learner=None,inr=INR,encoder=mlp,repeat=0')\n",
    "    to \n",
    "    '96M2S-None_INR_mlp_0'\n",
    "    \"\"\"\n",
    "    mtitle = str(save_path).split('/')[-2:]\n",
    "    tags = mtitle[-1]\n",
    "    tags = [x.split('=')[-1] for x in tags.split(',')]\n",
    "    mtitle[-1] = '_'.join(tags)\n",
    "    mtitle = \"-\".join(mtitle)\n",
    "    return mtitle\n",
    "\n",
    "# save_path2name(save_path)\n",
    "# save_path"
   ]
  },
  {
   "cell_type": "markdown",
   "id": "2269528b",
   "metadata": {},
   "source": [
    "# view all"
   ]
  },
  {
   "cell_type": "code",
   "execution_count": null,
   "id": "768530be",
   "metadata": {
    "ExecuteTime": {
     "start_time": "2022-11-23T06:58:24.766Z"
    }
   },
   "outputs": [],
   "source": [
    "from torchsummaryX import summary\n",
    "\n",
    "def plot_multi(save_paths=[Path(\"storage/experiments/Exchange/96M/repeat=0\")], i=200, title=None, plot=True, verbose=1,):\n",
    "    assert len(save_paths)>0\n",
    "    for j in range(len(save_paths)):\n",
    "        save_path = save_paths[j]\n",
    "\n",
    "        gin.clear_config()\n",
    "        gin.parse_config(open(save_path/\"config.gin\"))\n",
    "        model_name = gin.query_parameter(\"instance.model_type\")\n",
    "\n",
    "        train_set, train_loader = get_data(flag='test', batch_size=3)\n",
    "        seq_len = train_set[0][0].shape[0]\n",
    "        model = get_model(model_name,\n",
    "                            dim_size=train_set.data_x.shape[1],\n",
    "                          seq_len=seq_len,\n",
    "                            datetime_feats=train_set.timestamps.shape[-1]).to(default_device())\n",
    "        model.load_state_dict(torch.load(save_path/'model.pth'))\n",
    "        model = model.eval()\n",
    "        \n",
    "        \n",
    "\n",
    "\n",
    "        b = train_set[i]\n",
    "        b = [bb[None, :] for bb in b]\n",
    "        b2 = list(map(to_tensor, b))\n",
    "        \n",
    "#         b = next(iter(train_loader))\n",
    "#         print([s.shape for s in b]\n",
    "        \n",
    "        if verbose>1:\n",
    "            \n",
    "#             print(model)\n",
    "            summary(model, *b2)\n",
    "            print(save_path)\n",
    "        \n",
    "        context_past_x, context_y, query_past_x, query_y, context_time, query_time = b2\n",
    "        with torch.no_grad():\n",
    "            forecast = model(*b2)\n",
    "       \n",
    "        colors = list(mcolors.BASE_COLORS.keys())\n",
    "        l = context_time.shape[1]\n",
    "        forecast2 = forecast[0].detach().cpu().numpy()\n",
    "        x2 = context_y[0].cpu()\n",
    "        y2 = query_y[0].cpu()\n",
    "        l2 = query_time.shape[1]\n",
    "        i_past = list(range(l))\n",
    "        i_future = list(range(l, l+l2))\n",
    "        \n",
    "        \n",
    "\n",
    "        if plot:\n",
    "        \n",
    "            if j==0:\n",
    "                plt.plot(i_past, x2[:, 0], c=colors[0], label=f\"past\")\n",
    "                plt.plot(i_future, y2[:, 0], c=colors[0], label=\"future true\", alpha=0.3)\n",
    "            mtitle = save_path2name(save_path)\n",
    "            plt.plot(i_future, forecast2[:, 0], linestyle='--', label=f\"{mtitle}\") # c=colors[j], \n",
    "            \n",
    "\n",
    "    plt.legend()\n",
    "    plt.title(title)\n",
    "    return x2, y2, forecast2, i_past, i_future\n"
   ]
  },
  {
   "cell_type": "code",
   "execution_count": null,
   "id": "739ee5e3",
   "metadata": {
    "ExecuteTime": {
     "start_time": "2022-11-23T06:58:24.766Z"
    }
   },
   "outputs": [],
   "source": [
    "# list the models we have run...\n",
    "m=sorted(Path(\"storage/experiments/Stocks/96M2S\").glob(\"**/_SUCCESS\"))\n",
    "print(m)"
   ]
  },
  {
   "cell_type": "code",
   "execution_count": null,
   "id": "19fe898b",
   "metadata": {
    "ExecuteTime": {
     "start_time": "2022-11-23T06:58:24.766Z"
    }
   },
   "outputs": [],
   "source": [
    "for mm in m:\n",
    "    mtitle = save_path2name(mm.parent)\n",
    "    print(mtitle)\n",
    "    m3 = np.load(mm.parent/'metrics.npy', allow_pickle=1)\n",
    "    m3 = eval(str(m3))\n",
    "    print(m3['val']['mape'])"
   ]
  },
  {
   "cell_type": "code",
   "execution_count": null,
   "id": "2c141512",
   "metadata": {
    "ExecuteTime": {
     "start_time": "2022-11-23T06:58:24.766Z"
    }
   },
   "outputs": [],
   "source": [
    "train_set, train_loader = get_data(flag='train')\n",
    "train_set[0][1].shape"
   ]
  },
  {
   "cell_type": "code",
   "execution_count": null,
   "id": "e6961094",
   "metadata": {
    "ExecuteTime": {
     "start_time": "2022-11-23T06:58:24.766Z"
    }
   },
   "outputs": [],
   "source": [
    "save_paths = [mm.parent for mm in m]\n",
    "for mm in m:\n",
    "    try:\n",
    "        plot_multi(\n",
    "            save_paths=[mm.parent],\n",
    "            i=600,\n",
    "            verbose=2,\n",
    "        )\n",
    "    except:\n",
    "        print('failed', mm)\n",
    "#         mm.unlink()\n",
    "        pass\n",
    "1"
   ]
  },
  {
   "cell_type": "code",
   "execution_count": null,
   "id": "115467ad",
   "metadata": {
    "ExecuteTime": {
     "start_time": "2022-11-23T06:58:24.766Z"
    }
   },
   "outputs": [],
   "source": [
    "save_paths = [mm.parent for mm in m]\n",
    "plot_multi(\n",
    "    save_paths=save_paths,\n",
    "    i=200,\n",
    "    verbose=0,\n",
    ")\n",
    "1"
   ]
  },
  {
   "cell_type": "code",
   "execution_count": null,
   "id": "985a9f4e",
   "metadata": {
    "ExecuteTime": {
     "start_time": "2022-11-23T06:58:24.766Z"
    }
   },
   "outputs": [],
   "source": [
    "256/24"
   ]
  },
  {
   "cell_type": "code",
   "execution_count": null,
   "id": "36cba856",
   "metadata": {
    "ExecuteTime": {
     "end_time": "2022-11-22T13:17:31.585029Z",
     "start_time": "2022-11-22T13:17:31.528806Z"
    }
   },
   "outputs": [],
   "source": []
  },
  {
   "cell_type": "markdown",
   "id": "b85499d6",
   "metadata": {},
   "source": [
    "# check positions in dl"
   ]
  },
  {
   "cell_type": "code",
   "execution_count": null,
   "id": "497e8e53",
   "metadata": {
    "ExecuteTime": {
     "start_time": "2022-11-23T06:58:24.783Z"
    },
    "scrolled": true
   },
   "outputs": [],
   "source": [
    "train_set, train_loader = get_data(flag='test', batch_size=3)\n",
    "b = context_past_x, context_y, query_past_x, query_y, context_time, query_time = train_set[100]\n",
    "print([bb.shape for bb in b])\n",
    "# context_y, query_y"
   ]
  },
  {
   "cell_type": "code",
   "execution_count": null,
   "id": "277d7ea7",
   "metadata": {
    "ExecuteTime": {
     "start_time": "2022-11-23T06:58:24.783Z"
    }
   },
   "outputs": [],
   "source": [
    "cx_start, cx_end, c_start, c_end, qx_start, qx_end, q_start, q_end = train_set.get_inds(100)\n",
    "cx_start, cx_end, c_start, c_end, qx_start, qx_end, q_start, q_end"
   ]
  },
  {
   "cell_type": "code",
   "execution_count": null,
   "id": "d9180330",
   "metadata": {
    "ExecuteTime": {
     "start_time": "2022-11-23T06:58:24.783Z"
    }
   },
   "outputs": [],
   "source": [
    "plt.hlines(1, cx_start, cx_end, color='green', alpha=0.5, label='context_past_x')\n",
    "plt.hlines(2, c_start, c_end, color='green', label='context_labels')\n",
    "plt.hlines(3, qx_start, qx_end, alpha=0.5, label='query_past_x')\n",
    "plt.hlines(4, q_start, q_end, label='query_labels/target')\n",
    "plt.legend(loc='upper left')"
   ]
  },
  {
   "cell_type": "code",
   "execution_count": null,
   "id": "3c8452ee",
   "metadata": {},
   "outputs": [],
   "source": []
  },
  {
   "cell_type": "code",
   "execution_count": null,
   "id": "038f5c6b",
   "metadata": {},
   "outputs": [],
   "source": []
  },
  {
   "cell_type": "code",
   "execution_count": null,
   "id": "7c66089e",
   "metadata": {},
   "outputs": [],
   "source": []
  }
 ],
 "metadata": {
  "jupytext": {
   "cell_metadata_filter": "-all",
   "main_language": "python",
   "notebook_metadata_filter": "-all"
  },
  "kernelspec": {
   "display_name": "deeptime",
   "language": "python",
   "name": "deeptime"
  },
  "language_info": {
   "codemirror_mode": {
    "name": "ipython",
    "version": 3
   },
   "file_extension": ".py",
   "mimetype": "text/x-python",
   "name": "python",
   "nbconvert_exporter": "python",
   "pygments_lexer": "ipython3",
   "version": "3.8.13"
  },
  "toc": {
   "base_numbering": 1,
   "nav_menu": {},
   "number_sections": true,
   "sideBar": true,
   "skip_h1_title": false,
   "title_cell": "Table of Contents",
   "title_sidebar": "Contents",
   "toc_cell": false,
   "toc_position": {},
   "toc_section_display": true,
   "toc_window_display": false
  }
 },
 "nbformat": 4,
 "nbformat_minor": 5
}
